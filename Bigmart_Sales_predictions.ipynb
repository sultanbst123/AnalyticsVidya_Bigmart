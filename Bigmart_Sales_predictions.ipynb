{
  "nbformat": 4,
  "nbformat_minor": 0,
  "metadata": {
    "colab": {
      "name": "Bigmart_Sales_predictions",
      "provenance": [],
      "collapsed_sections": [
        "Na36uey0Ycu8",
        "bwVeCM7UY4vo",
        "jBdPcAJacXbc",
        "tBkmIW5hiI-w",
        "VJ5OY3pUjZB6",
        "tbSW1hmalGh2",
        "-J9FAxOYjWA9",
        "bMNp3cDkp6Wn",
        "J5QJseBAtLt8",
        "Gn-GUzyurnkv",
        "G8D5FxZXuixa",
        "F4vPzovQsl_O",
        "6PCzEYRISEQH",
        "3cI07JL3Sh78",
        "Ohmpa63ARPKU",
        "9gN20XuW0m1-",
        "oMtxuc3LRMSc",
        "LKgmj_bu1U4K"
      ],
      "mount_file_id": "1xUhywjkLlnK4zzIR3zkrdPptFjqR4Vkf",
      "authorship_tag": "ABX9TyNXBswjVjGA0y6QfydSkL0Y",
      "include_colab_link": true
    },
    "kernelspec": {
      "display_name": "Python 3",
      "name": "python3"
    },
    "language_info": {
      "name": "python"
    },
    "widgets": {
      "application/vnd.jupyter.widget-state+json": {
        "d3894e02cd6d4df19cc688f7a10dc3e4": {
          "model_module": "@jupyter-widgets/controls",
          "model_name": "HBoxModel",
          "model_module_version": "1.5.0",
          "state": {
            "_view_name": "HBoxView",
            "_dom_classes": [],
            "_model_name": "HBoxModel",
            "_view_module": "@jupyter-widgets/controls",
            "_model_module_version": "1.5.0",
            "_view_count": null,
            "_view_module_version": "1.5.0",
            "box_style": "",
            "layout": "IPY_MODEL_cb45856c1c804ca69022dc85a0b66fe8",
            "_model_module": "@jupyter-widgets/controls",
            "children": [
              "IPY_MODEL_068645c8783b4524bb598dc1d29e60a6",
              "IPY_MODEL_a60ffbd4f11a43f8a250bb2980055dc8",
              "IPY_MODEL_305e8a6e023640558a6af0c4902a6978"
            ]
          }
        },
        "cb45856c1c804ca69022dc85a0b66fe8": {
          "model_module": "@jupyter-widgets/base",
          "model_name": "LayoutModel",
          "model_module_version": "1.2.0",
          "state": {
            "_view_name": "LayoutView",
            "grid_template_rows": null,
            "right": null,
            "justify_content": null,
            "_view_module": "@jupyter-widgets/base",
            "overflow": null,
            "_model_module_version": "1.2.0",
            "_view_count": null,
            "flex_flow": null,
            "width": null,
            "min_width": null,
            "border": null,
            "align_items": null,
            "bottom": null,
            "_model_module": "@jupyter-widgets/base",
            "top": null,
            "grid_column": null,
            "overflow_y": null,
            "overflow_x": null,
            "grid_auto_flow": null,
            "grid_area": null,
            "grid_template_columns": null,
            "flex": null,
            "_model_name": "LayoutModel",
            "justify_items": null,
            "grid_row": null,
            "max_height": null,
            "align_content": null,
            "visibility": null,
            "align_self": null,
            "height": null,
            "min_height": null,
            "padding": null,
            "grid_auto_rows": null,
            "grid_gap": null,
            "max_width": null,
            "order": null,
            "_view_module_version": "1.2.0",
            "grid_template_areas": null,
            "object_position": null,
            "object_fit": null,
            "grid_auto_columns": null,
            "margin": null,
            "display": null,
            "left": null
          }
        },
        "068645c8783b4524bb598dc1d29e60a6": {
          "model_module": "@jupyter-widgets/controls",
          "model_name": "HTMLModel",
          "model_module_version": "1.5.0",
          "state": {
            "_view_name": "HTMLView",
            "style": "IPY_MODEL_cb270a4ff10940959b07e103f3b138f8",
            "_dom_classes": [],
            "description": "",
            "_model_name": "HTMLModel",
            "placeholder": "​",
            "_view_module": "@jupyter-widgets/controls",
            "_model_module_version": "1.5.0",
            "value": "100%",
            "_view_count": null,
            "_view_module_version": "1.5.0",
            "description_tooltip": null,
            "_model_module": "@jupyter-widgets/controls",
            "layout": "IPY_MODEL_671aafa68d0b4da3b78c3adce3641569"
          }
        },
        "a60ffbd4f11a43f8a250bb2980055dc8": {
          "model_module": "@jupyter-widgets/controls",
          "model_name": "FloatProgressModel",
          "model_module_version": "1.5.0",
          "state": {
            "_view_name": "ProgressView",
            "style": "IPY_MODEL_19b4fb0b4c7442d7956f34f737284196",
            "_dom_classes": [],
            "description": "",
            "_model_name": "FloatProgressModel",
            "bar_style": "success",
            "max": 10,
            "_view_module": "@jupyter-widgets/controls",
            "_model_module_version": "1.5.0",
            "value": 10,
            "_view_count": null,
            "_view_module_version": "1.5.0",
            "orientation": "horizontal",
            "min": 0,
            "description_tooltip": null,
            "_model_module": "@jupyter-widgets/controls",
            "layout": "IPY_MODEL_96e0c9631f5447cc86e4c6664a14b8f7"
          }
        },
        "305e8a6e023640558a6af0c4902a6978": {
          "model_module": "@jupyter-widgets/controls",
          "model_name": "HTMLModel",
          "model_module_version": "1.5.0",
          "state": {
            "_view_name": "HTMLView",
            "style": "IPY_MODEL_5066a018ee074a248ec28dcec9e4e4fc",
            "_dom_classes": [],
            "description": "",
            "_model_name": "HTMLModel",
            "placeholder": "​",
            "_view_module": "@jupyter-widgets/controls",
            "_model_module_version": "1.5.0",
            "value": " 10/10 [01:25&lt;00:00,  8.18s/it]",
            "_view_count": null,
            "_view_module_version": "1.5.0",
            "description_tooltip": null,
            "_model_module": "@jupyter-widgets/controls",
            "layout": "IPY_MODEL_43de8e1d437b4f63879d4319f4459457"
          }
        },
        "cb270a4ff10940959b07e103f3b138f8": {
          "model_module": "@jupyter-widgets/controls",
          "model_name": "DescriptionStyleModel",
          "model_module_version": "1.5.0",
          "state": {
            "_view_name": "StyleView",
            "_model_name": "DescriptionStyleModel",
            "description_width": "",
            "_view_module": "@jupyter-widgets/base",
            "_model_module_version": "1.5.0",
            "_view_count": null,
            "_view_module_version": "1.2.0",
            "_model_module": "@jupyter-widgets/controls"
          }
        },
        "671aafa68d0b4da3b78c3adce3641569": {
          "model_module": "@jupyter-widgets/base",
          "model_name": "LayoutModel",
          "model_module_version": "1.2.0",
          "state": {
            "_view_name": "LayoutView",
            "grid_template_rows": null,
            "right": null,
            "justify_content": null,
            "_view_module": "@jupyter-widgets/base",
            "overflow": null,
            "_model_module_version": "1.2.0",
            "_view_count": null,
            "flex_flow": null,
            "width": null,
            "min_width": null,
            "border": null,
            "align_items": null,
            "bottom": null,
            "_model_module": "@jupyter-widgets/base",
            "top": null,
            "grid_column": null,
            "overflow_y": null,
            "overflow_x": null,
            "grid_auto_flow": null,
            "grid_area": null,
            "grid_template_columns": null,
            "flex": null,
            "_model_name": "LayoutModel",
            "justify_items": null,
            "grid_row": null,
            "max_height": null,
            "align_content": null,
            "visibility": null,
            "align_self": null,
            "height": null,
            "min_height": null,
            "padding": null,
            "grid_auto_rows": null,
            "grid_gap": null,
            "max_width": null,
            "order": null,
            "_view_module_version": "1.2.0",
            "grid_template_areas": null,
            "object_position": null,
            "object_fit": null,
            "grid_auto_columns": null,
            "margin": null,
            "display": null,
            "left": null
          }
        },
        "19b4fb0b4c7442d7956f34f737284196": {
          "model_module": "@jupyter-widgets/controls",
          "model_name": "ProgressStyleModel",
          "model_module_version": "1.5.0",
          "state": {
            "_view_name": "StyleView",
            "_model_name": "ProgressStyleModel",
            "description_width": "",
            "_view_module": "@jupyter-widgets/base",
            "_model_module_version": "1.5.0",
            "_view_count": null,
            "_view_module_version": "1.2.0",
            "bar_color": null,
            "_model_module": "@jupyter-widgets/controls"
          }
        },
        "96e0c9631f5447cc86e4c6664a14b8f7": {
          "model_module": "@jupyter-widgets/base",
          "model_name": "LayoutModel",
          "model_module_version": "1.2.0",
          "state": {
            "_view_name": "LayoutView",
            "grid_template_rows": null,
            "right": null,
            "justify_content": null,
            "_view_module": "@jupyter-widgets/base",
            "overflow": null,
            "_model_module_version": "1.2.0",
            "_view_count": null,
            "flex_flow": null,
            "width": null,
            "min_width": null,
            "border": null,
            "align_items": null,
            "bottom": null,
            "_model_module": "@jupyter-widgets/base",
            "top": null,
            "grid_column": null,
            "overflow_y": null,
            "overflow_x": null,
            "grid_auto_flow": null,
            "grid_area": null,
            "grid_template_columns": null,
            "flex": null,
            "_model_name": "LayoutModel",
            "justify_items": null,
            "grid_row": null,
            "max_height": null,
            "align_content": null,
            "visibility": null,
            "align_self": null,
            "height": null,
            "min_height": null,
            "padding": null,
            "grid_auto_rows": null,
            "grid_gap": null,
            "max_width": null,
            "order": null,
            "_view_module_version": "1.2.0",
            "grid_template_areas": null,
            "object_position": null,
            "object_fit": null,
            "grid_auto_columns": null,
            "margin": null,
            "display": null,
            "left": null
          }
        },
        "5066a018ee074a248ec28dcec9e4e4fc": {
          "model_module": "@jupyter-widgets/controls",
          "model_name": "DescriptionStyleModel",
          "model_module_version": "1.5.0",
          "state": {
            "_view_name": "StyleView",
            "_model_name": "DescriptionStyleModel",
            "description_width": "",
            "_view_module": "@jupyter-widgets/base",
            "_model_module_version": "1.5.0",
            "_view_count": null,
            "_view_module_version": "1.2.0",
            "_model_module": "@jupyter-widgets/controls"
          }
        },
        "43de8e1d437b4f63879d4319f4459457": {
          "model_module": "@jupyter-widgets/base",
          "model_name": "LayoutModel",
          "model_module_version": "1.2.0",
          "state": {
            "_view_name": "LayoutView",
            "grid_template_rows": null,
            "right": null,
            "justify_content": null,
            "_view_module": "@jupyter-widgets/base",
            "overflow": null,
            "_model_module_version": "1.2.0",
            "_view_count": null,
            "flex_flow": null,
            "width": null,
            "min_width": null,
            "border": null,
            "align_items": null,
            "bottom": null,
            "_model_module": "@jupyter-widgets/base",
            "top": null,
            "grid_column": null,
            "overflow_y": null,
            "overflow_x": null,
            "grid_auto_flow": null,
            "grid_area": null,
            "grid_template_columns": null,
            "flex": null,
            "_model_name": "LayoutModel",
            "justify_items": null,
            "grid_row": null,
            "max_height": null,
            "align_content": null,
            "visibility": null,
            "align_self": null,
            "height": null,
            "min_height": null,
            "padding": null,
            "grid_auto_rows": null,
            "grid_gap": null,
            "max_width": null,
            "order": null,
            "_view_module_version": "1.2.0",
            "grid_template_areas": null,
            "object_position": null,
            "object_fit": null,
            "grid_auto_columns": null,
            "margin": null,
            "display": null,
            "left": null
          }
        }
      }
    },
    "accelerator": "GPU"
  },
  "cells": [
    {
      "cell_type": "markdown",
      "metadata": {
        "id": "view-in-github",
        "colab_type": "text"
      },
      "source": [
        "<a href=\"https://colab.research.google.com/github/sultanbst123/AnalyticsVidya_Bigmart/blob/main/Bigmart_Sales_predictions.ipynb\" target=\"_parent\"><img src=\"https://colab.research.google.com/assets/colab-badge.svg\" alt=\"Open In Colab\"/></a>"
      ]
    },
    {
      "cell_type": "markdown",
      "metadata": {
        "id": "tH7Nco78YXXQ"
      },
      "source": [
        "# Data modelling with Python"
      ]
    },
    {
      "cell_type": "markdown",
      "metadata": {
        "id": "Na36uey0Ycu8"
      },
      "source": [
        "## Library & File"
      ]
    },
    {
      "cell_type": "code",
      "metadata": {
        "id": "h9jDliRjXW2W"
      },
      "source": [
        "\n",
        "!pip install catboost\n",
        "!pip install optuna\n",
        "!pip install borutashap"
      ],
      "execution_count": null,
      "outputs": []
    },
    {
      "cell_type": "code",
      "metadata": {
        "id": "PqEBh6i7YNUZ",
        "colab": {
          "base_uri": "https://localhost:8080/"
        },
        "outputId": "12517edb-75d6-41d8-9742-6ff99d4c2daa"
      },
      "source": [
        "!pip install --upgrade scikit-learn"
      ],
      "execution_count": null,
      "outputs": [
        {
          "output_type": "stream",
          "name": "stdout",
          "text": [
            "Requirement already satisfied: scikit-learn in /usr/local/lib/python3.7/dist-packages (1.0.1)\n",
            "Requirement already satisfied: joblib>=0.11 in /usr/local/lib/python3.7/dist-packages (from scikit-learn) (1.1.0)\n",
            "Requirement already satisfied: scipy>=1.1.0 in /usr/local/lib/python3.7/dist-packages (from scikit-learn) (1.4.1)\n",
            "Requirement already satisfied: numpy>=1.14.6 in /usr/local/lib/python3.7/dist-packages (from scikit-learn) (1.19.5)\n",
            "Requirement already satisfied: threadpoolctl>=2.0.0 in /usr/local/lib/python3.7/dist-packages (from scikit-learn) (3.0.0)\n"
          ]
        }
      ]
    },
    {
      "cell_type": "code",
      "metadata": {
        "id": "lQjEAXrnYRnA",
        "colab": {
          "base_uri": "https://localhost:8080/"
        },
        "outputId": "253b7548-c75a-4620-eff1-a03241f61cfe"
      },
      "source": [
        "import pandas as pd\n",
        "import numpy as np\n",
        "import matplotlib.pyplot as plt\n",
        "import seaborn as sns\n",
        "import optuna\n",
        "from BorutaShap import BorutaShap\n",
        " \n",
        "# classification\n",
        "import xgboost, lightgbm, catboost\n",
        "from xgboost import XGBClassifier\n",
        "from catboost import CatBoostClassifier\n",
        "from lightgbm import LGBMClassifier\n",
        "from sklearn.tree import DecisionTreeClassifier, ExtraTreeClassifier\n",
        "from sklearn.ensemble import (RandomForestClassifier, StackingClassifier, GradientBoostingClassifier,\n",
        "                             AdaBoostClassifier, HistGradientBoostingClassifier) \n",
        "from sklearn.svm import SVC\n",
        "from sklearn.linear_model import LogisticRegression, SGDClassifier\n",
        "from sklearn.neighbors import KNeighborsClassifier\n",
        " \n",
        "# regression\n",
        "from xgboost import XGBRegressor\n",
        "from catboost import CatBoostRegressor\n",
        "from lightgbm import LGBMRegressor\n",
        "from sklearn.tree import DecisionTreeRegressor, ExtraTreeRegressor\n",
        "from sklearn.ensemble import (RandomForestRegressor, GradientBoostingRegressor,\n",
        "                             AdaBoostRegressor, HistGradientBoostingRegressor) \n",
        "from sklearn.svm import SVR\n",
        "from sklearn.linear_model import LinearRegression, Ridge, Lasso, ElasticNet, SGDOneClassSVM\n",
        "from sklearn.neighbors import KNeighborsRegressor\n",
        "\n",
        "#preprocessing\n",
        "from sklearn.model_selection import train_test_split, KFold, cross_val_score, StratifiedKFold, GridSearchCV\n",
        "from sklearn.metrics import (accuracy_score, classification_report, confusion_matrix,f1_score, \n",
        "                            log_loss, roc_auc_score, plot_roc_curve,plot_confusion_matrix) \n",
        "from sklearn.metrics import mean_absolute_error, mean_squared_error, mean_squared_log_error, r2_score\n",
        "from sklearn.preprocessing import LabelEncoder,OneHotEncoder, StandardScaler, MinMaxScaler, RobustScaler\n",
        "from sklearn.calibration import CalibrationDisplay\n",
        "\n",
        "\n",
        "import warnings\n",
        "warnings.filterwarnings(\"ignore\")\n",
        " \n",
        "%matplotlib inline"
      ],
      "execution_count": null,
      "outputs": [
        {
          "output_type": "stream",
          "name": "stderr",
          "text": [
            "/usr/local/lib/python3.7/dist-packages/statsmodels/tools/_testing.py:19: FutureWarning:\n",
            "\n",
            "pandas.util.testing is deprecated. Use the functions in the public API at pandas.testing instead.\n",
            "\n"
          ]
        }
      ]
    },
    {
      "cell_type": "code",
      "metadata": {
        "id": "hckyj_S_X8pX"
      },
      "source": [
        "train = pd.read_csv(\"/content/drive/MyDrive/Bigmart 2 /train_bigmart(clean).csv\")\n",
        "test = pd.read_csv(\"/content/drive/MyDrive/Bigmart 2 /test_bigmart(clean).csv\")"
      ],
      "execution_count": null,
      "outputs": []
    },
    {
      "cell_type": "code",
      "metadata": {
        "colab": {
          "base_uri": "https://localhost:8080/",
          "height": 292
        },
        "id": "vszrO_JIYi19",
        "outputId": "59bc3848-5ea0-481e-c3fe-f4f1ab7f42d1"
      },
      "source": [
        "train.head()"
      ],
      "execution_count": null,
      "outputs": [
        {
          "output_type": "execute_result",
          "data": {
            "text/html": [
              "<div>\n",
              "<style scoped>\n",
              "    .dataframe tbody tr th:only-of-type {\n",
              "        vertical-align: middle;\n",
              "    }\n",
              "\n",
              "    .dataframe tbody tr th {\n",
              "        vertical-align: top;\n",
              "    }\n",
              "\n",
              "    .dataframe thead th {\n",
              "        text-align: right;\n",
              "    }\n",
              "</style>\n",
              "<table border=\"1\" class=\"dataframe\">\n",
              "  <thead>\n",
              "    <tr style=\"text-align: right;\">\n",
              "      <th></th>\n",
              "      <th>Item_Weight</th>\n",
              "      <th>Item_Visibility</th>\n",
              "      <th>Item_MRP</th>\n",
              "      <th>Outlet_Identifier</th>\n",
              "      <th>Outlet_Establishment_Year</th>\n",
              "      <th>Outlet_Size</th>\n",
              "      <th>Outlet_Location_Type</th>\n",
              "      <th>Outlet_Type</th>\n",
              "      <th>Item_Outlet_Sales</th>\n",
              "      <th>ID</th>\n",
              "      <th>new_Item_Fat_Content</th>\n",
              "      <th>new_Item_Type</th>\n",
              "      <th>new1</th>\n",
              "      <th>new2</th>\n",
              "      <th>new3</th>\n",
              "    </tr>\n",
              "  </thead>\n",
              "  <tbody>\n",
              "    <tr>\n",
              "      <th>0</th>\n",
              "      <td>9.30</td>\n",
              "      <td>0.016047</td>\n",
              "      <td>249.8092</td>\n",
              "      <td>OUT049</td>\n",
              "      <td>1999</td>\n",
              "      <td>Medium</td>\n",
              "      <td>Tier 1</td>\n",
              "      <td>Supermarket Type1</td>\n",
              "      <td>3735.1380</td>\n",
              "      <td>FD</td>\n",
              "      <td>Low_Fat</td>\n",
              "      <td>Others</td>\n",
              "      <td>0.187850</td>\n",
              "      <td>140.297699</td>\n",
              "      <td>20.70</td>\n",
              "    </tr>\n",
              "    <tr>\n",
              "      <th>1</th>\n",
              "      <td>5.92</td>\n",
              "      <td>0.019278</td>\n",
              "      <td>48.2692</td>\n",
              "      <td>OUT018</td>\n",
              "      <td>2009</td>\n",
              "      <td>Medium</td>\n",
              "      <td>Tier 3</td>\n",
              "      <td>Supermarket Type2</td>\n",
              "      <td>443.4228</td>\n",
              "      <td>DR</td>\n",
              "      <td>Regular</td>\n",
              "      <td>Drinks</td>\n",
              "      <td>0.188323</td>\n",
              "      <td>141.678634</td>\n",
              "      <td>19.50</td>\n",
              "    </tr>\n",
              "    <tr>\n",
              "      <th>2</th>\n",
              "      <td>17.50</td>\n",
              "      <td>0.016760</td>\n",
              "      <td>141.6180</td>\n",
              "      <td>OUT049</td>\n",
              "      <td>1999</td>\n",
              "      <td>Medium</td>\n",
              "      <td>Tier 1</td>\n",
              "      <td>Supermarket Type1</td>\n",
              "      <td>2097.2700</td>\n",
              "      <td>FD</td>\n",
              "      <td>Low_Fat</td>\n",
              "      <td>Foods</td>\n",
              "      <td>0.187850</td>\n",
              "      <td>140.297699</td>\n",
              "      <td>21.25</td>\n",
              "    </tr>\n",
              "    <tr>\n",
              "      <th>3</th>\n",
              "      <td>19.20</td>\n",
              "      <td>0.000000</td>\n",
              "      <td>182.0950</td>\n",
              "      <td>OUT010</td>\n",
              "      <td>1998</td>\n",
              "      <td>Medium</td>\n",
              "      <td>Tier 3</td>\n",
              "      <td>Grocery Store</td>\n",
              "      <td>732.3800</td>\n",
              "      <td>FD</td>\n",
              "      <td>Regular</td>\n",
              "      <td>Foods</td>\n",
              "      <td>0.311090</td>\n",
              "      <td>140.264072</td>\n",
              "      <td>21.10</td>\n",
              "    </tr>\n",
              "    <tr>\n",
              "      <th>4</th>\n",
              "      <td>8.93</td>\n",
              "      <td>0.000000</td>\n",
              "      <td>53.8614</td>\n",
              "      <td>OUT013</td>\n",
              "      <td>1987</td>\n",
              "      <td>High</td>\n",
              "      <td>Tier 3</td>\n",
              "      <td>Supermarket Type1</td>\n",
              "      <td>994.7052</td>\n",
              "      <td>NC</td>\n",
              "      <td>Low_Fat</td>\n",
              "      <td>Others</td>\n",
              "      <td>0.185705</td>\n",
              "      <td>141.425982</td>\n",
              "      <td>21.25</td>\n",
              "    </tr>\n",
              "  </tbody>\n",
              "</table>\n",
              "</div>"
            ],
            "text/plain": [
              "   Item_Weight  Item_Visibility  Item_MRP  ...      new1        new2   new3\n",
              "0         9.30         0.016047  249.8092  ...  0.187850  140.297699  20.70\n",
              "1         5.92         0.019278   48.2692  ...  0.188323  141.678634  19.50\n",
              "2        17.50         0.016760  141.6180  ...  0.187850  140.297699  21.25\n",
              "3        19.20         0.000000  182.0950  ...  0.311090  140.264072  21.10\n",
              "4         8.93         0.000000   53.8614  ...  0.185705  141.425982  21.25\n",
              "\n",
              "[5 rows x 15 columns]"
            ]
          },
          "metadata": {},
          "execution_count": 5
        }
      ]
    },
    {
      "cell_type": "code",
      "metadata": {
        "colab": {
          "base_uri": "https://localhost:8080/"
        },
        "id": "koatZgZmYzHf",
        "outputId": "4e024f60-9e26-4d54-ba55-4bbbcba04747"
      },
      "source": [
        "train.info()"
      ],
      "execution_count": null,
      "outputs": [
        {
          "output_type": "stream",
          "name": "stdout",
          "text": [
            "<class 'pandas.core.frame.DataFrame'>\n",
            "RangeIndex: 8523 entries, 0 to 8522\n",
            "Data columns (total 15 columns):\n",
            " #   Column                     Non-Null Count  Dtype  \n",
            "---  ------                     --------------  -----  \n",
            " 0   Item_Weight                8523 non-null   float64\n",
            " 1   Item_Visibility            8523 non-null   float64\n",
            " 2   Item_MRP                   8523 non-null   float64\n",
            " 3   Outlet_Identifier          8523 non-null   object \n",
            " 4   Outlet_Establishment_Year  8523 non-null   int64  \n",
            " 5   Outlet_Size                8523 non-null   object \n",
            " 6   Outlet_Location_Type       8523 non-null   object \n",
            " 7   Outlet_Type                8523 non-null   object \n",
            " 8   Item_Outlet_Sales          8523 non-null   float64\n",
            " 9   ID                         8523 non-null   object \n",
            " 10  new_Item_Fat_Content       8523 non-null   object \n",
            " 11  new_Item_Type              8523 non-null   object \n",
            " 12  new1                       8523 non-null   float64\n",
            " 13  new2                       8523 non-null   float64\n",
            " 14  new3                       8523 non-null   float64\n",
            "dtypes: float64(7), int64(1), object(7)\n",
            "memory usage: 998.9+ KB\n"
          ]
        }
      ]
    },
    {
      "cell_type": "code",
      "metadata": {
        "id": "9VBuKku5Y18g"
      },
      "source": [
        "# ubah Outlet_Establishment_Year ke category\n",
        "\n",
        "for i in [train, test]: \n",
        "    i[\"Outlet_Establishment_Year\"] = i[\"Outlet_Establishment_Year\"].astype(\"category\")"
      ],
      "execution_count": null,
      "outputs": []
    },
    {
      "cell_type": "code",
      "metadata": {
        "colab": {
          "base_uri": "https://localhost:8080/"
        },
        "id": "jXnFM6BXx2eM",
        "outputId": "3148e355-773c-4c4d-daee-351546783ee2"
      },
      "source": [
        "train.dtypes"
      ],
      "execution_count": null,
      "outputs": [
        {
          "output_type": "execute_result",
          "data": {
            "text/plain": [
              "Item_Weight                   float64\n",
              "Item_Visibility               float64\n",
              "Item_MRP                      float64\n",
              "Outlet_Identifier              object\n",
              "Outlet_Establishment_Year    category\n",
              "Outlet_Size                    object\n",
              "Outlet_Location_Type           object\n",
              "Outlet_Type                    object\n",
              "Item_Outlet_Sales             float64\n",
              "ID                             object\n",
              "new_Item_Fat_Content           object\n",
              "new_Item_Type                  object\n",
              "new1                          float64\n",
              "new2                          float64\n",
              "new3                          float64\n",
              "dtype: object"
            ]
          },
          "metadata": {},
          "execution_count": 177
        }
      ]
    },
    {
      "cell_type": "markdown",
      "metadata": {
        "id": "bwVeCM7UY4vo"
      },
      "source": [
        "## Split data"
      ]
    },
    {
      "cell_type": "code",
      "metadata": {
        "id": "p-K4xC8YZNHW"
      },
      "source": [
        "x = train.drop(\"Item_Outlet_Sales\", axis=1) \n",
        "y = np.log(train.Item_Outlet_Sales)"
      ],
      "execution_count": null,
      "outputs": []
    },
    {
      "cell_type": "code",
      "metadata": {
        "id": "w3n18x6kZitc"
      },
      "source": [
        "# ubah object ke category\n",
        "\n",
        "cater = x.select_dtypes(\"object\").columns"
      ],
      "execution_count": null,
      "outputs": []
    },
    {
      "cell_type": "code",
      "metadata": {
        "id": "R8ZvomRSZuys"
      },
      "source": [
        "x[cater] = x[cater].astype(\"category\")"
      ],
      "execution_count": null,
      "outputs": []
    },
    {
      "cell_type": "code",
      "metadata": {
        "id": "eEpWS-3UZSFS"
      },
      "source": [
        "x_train, x_val, y_train, y_val = train_test_split(x, y, test_size=0.3,random_state=18)"
      ],
      "execution_count": null,
      "outputs": []
    },
    {
      "cell_type": "code",
      "metadata": {
        "id": "WK19QlUykHKE"
      },
      "source": [
        "\n",
        "# buat function \n",
        "\n",
        "def r2(y_val, y_pred): \n",
        "    r2 = r2_score(np.exp(y_val),np.exp(y_pred)) \n",
        "    return r2 \n",
        "\n",
        "def rmse(y_val, y_pred): \n",
        "    rmse = mean_squared_error(np.exp(y_val), np.exp(y_pred),squared=False)\n",
        "    return rmse\n",
        "\n",
        "def mae(y_val, y_pred): \n",
        "    mae = mean_absolute_error(np.exp(y_val),np.exp(y_pred))\n",
        "    return mae"
      ],
      "execution_count": null,
      "outputs": []
    },
    {
      "cell_type": "code",
      "metadata": {
        "colab": {
          "base_uri": "https://localhost:8080/"
        },
        "id": "SIbM2iWiZgUN",
        "outputId": "20a59845-55e3-4da3-bd09-d4b4434f08a3"
      },
      "source": [
        "#coba dengan lgbm \n",
        "\n",
        "lg = LGBMRegressor(random_state=277)\n",
        "lg.fit(x_train, y_train)"
      ],
      "execution_count": null,
      "outputs": [
        {
          "output_type": "execute_result",
          "data": {
            "text/plain": [
              "LGBMRegressor(random_state=277)"
            ]
          },
          "metadata": {},
          "execution_count": 12
        }
      ]
    },
    {
      "cell_type": "code",
      "metadata": {
        "id": "RXe2WJveak7n"
      },
      "source": [
        "pred = lg.predict(x_val)"
      ],
      "execution_count": null,
      "outputs": []
    },
    {
      "cell_type": "code",
      "metadata": {
        "colab": {
          "base_uri": "https://localhost:8080/"
        },
        "id": "_7hgAqWOwrSY",
        "outputId": "31b85ba5-3f24-4904-ccdc-c70c01473324"
      },
      "source": [
        "print(f\"RMSE: {rmse(y_val, pred)}\")\n",
        "print(f\"MAE: {mae(y_val, pred)}\")\n",
        "print(f\"R2: {r2(y_val, pred)}\") # untuk melihat seberapa baikah model dengan data"
      ],
      "execution_count": null,
      "outputs": [
        {
          "output_type": "stream",
          "name": "stdout",
          "text": [
            "RMSE: 1147.5629408963434\n",
            "MAE: 793.7104539710482\n",
            "R2: 0.5516516639446238\n"
          ]
        }
      ]
    },
    {
      "cell_type": "code",
      "metadata": {
        "colab": {
          "base_uri": "https://localhost:8080/"
        },
        "id": "0Rnt29K6hyVF",
        "outputId": "bcd7a848-7348-4696-d5db-f7c802dc335c"
      },
      "source": [
        "\n",
        "# lihat feature importance\n",
        "\n",
        "lightgbm.plot_importance(lg)"
      ],
      "execution_count": null,
      "outputs": [
        {
          "output_type": "execute_result",
          "data": {
            "text/plain": [
              "<matplotlib.axes._subplots.AxesSubplot at 0x7f5d2dc7fc50>"
            ]
          },
          "metadata": {},
          "execution_count": 187
        },
        {
          "output_type": "display_data",
          "data": {
            "image/png": "[encoded data removed]",
            "text/plain": [
              "<Figure size 432x288 with 1 Axes>"
            ]
          },
          "metadata": {
            "needs_background": "light"
          }
        }
      ]
    },
    {
      "cell_type": "markdown",
      "metadata": {
        "id": "jBdPcAJacXbc"
      },
      "source": [
        "## Feature Selections with borutashap & LGBM"
      ]
    },
    {
      "cell_type": "code",
      "metadata": {
        "id": "RzuDub7Xce3e"
      },
      "source": [
        "fs = BorutaShap(model=lg,\n",
        "                importance_measure=\"shap\",\n",
        "                classification = False)"
      ],
      "execution_count": null,
      "outputs": []
    },
    {
      "cell_type": "code",
      "metadata": {
        "colab": {
          "base_uri": "https://localhost:8080/",
          "referenced_widgets": [
            "d3894e02cd6d4df19cc688f7a10dc3e4",
            "cb45856c1c804ca69022dc85a0b66fe8",
            "068645c8783b4524bb598dc1d29e60a6",
            "a60ffbd4f11a43f8a250bb2980055dc8",
            "305e8a6e023640558a6af0c4902a6978",
            "cb270a4ff10940959b07e103f3b138f8",
            "671aafa68d0b4da3b78c3adce3641569",
            "19b4fb0b4c7442d7956f34f737284196",
            "96e0c9631f5447cc86e4c6664a14b8f7",
            "5066a018ee074a248ec28dcec9e4e4fc",
            "43de8e1d437b4f63879d4319f4459457"
          ]
        },
        "id": "OVk8eAp7cub5",
        "outputId": "6e2e10a4-07ad-4c55-f2c3-e614dba73a15"
      },
      "source": [
        "fs.fit(X=x_train, y=y_train, n_trials=10,random_state=0)"
      ],
      "execution_count": null,
      "outputs": [
        {
          "output_type": "display_data",
          "data": {
            "application/vnd.jupyter.widget-view+json": {
              "model_id": "d3894e02cd6d4df19cc688f7a10dc3e4",
              "version_minor": 0,
              "version_major": 2
            },
            "text/plain": [
              "  0%|          | 0/10 [00:00<?, ?it/s]"
            ]
          },
          "metadata": {}
        },
        {
          "output_type": "stream",
          "name": "stdout",
          "text": [
            "3 attributes confirmed important: ['Item_MRP', 'Outlet_Type', 'Outlet_Identifier']\n",
            "9 attributes confirmed unimportant: ['Outlet_Size', 'ID', 'Outlet_Establishment_Year', 'new2', 'new3', 'Outlet_Location_Type', 'new_Item_Type', 'new1', 'new_Item_Fat_Content']\n",
            "2 tentative attributes remains: ['Item_Visibility', 'Item_Weight']\n"
          ]
        }
      ]
    },
    {
      "cell_type": "code",
      "metadata": {
        "colab": {
          "base_uri": "https://localhost:8080/"
        },
        "id": "BZ4Nr0fZc-dH",
        "outputId": "e8bfa3bb-c2c5-44ec-98cc-596fcfd716a2"
      },
      "source": [
        "fs.plot(which_features='all', figsize=(24,12))"
      ],
      "execution_count": null,
      "outputs": [
        {
          "output_type": "display_data",
          "data": {
            "image/png": "[encoded data removed]",
            "text/plain": [
              "<Figure size 1728x864 with 1 Axes>"
            ]
          },
          "metadata": {
            "needs_background": "light"
          }
        }
      ]
    },
    {
      "cell_type": "code",
      "metadata": {
        "colab": {
          "base_uri": "https://localhost:8080/"
        },
        "id": "B4mx6xmBfGG9",
        "outputId": "efdfb517-c50d-4b8c-8b60-b9587182edd8"
      },
      "source": [
        "col = fs.Subset().columns.to_list()\n",
        "col"
      ],
      "execution_count": null,
      "outputs": [
        {
          "output_type": "execute_result",
          "data": {
            "text/plain": [
              "['Item_MRP', 'Outlet_Type', 'Outlet_Identifier']"
            ]
          },
          "metadata": {},
          "execution_count": 191
        }
      ]
    },
    {
      "cell_type": "code",
      "metadata": {
        "id": "3KyIf2iaxXKs"
      },
      "source": [
        "col = ['Item_MRP', 'Outlet_Type', 'Outlet_Identifier']"
      ],
      "execution_count": null,
      "outputs": []
    },
    {
      "cell_type": "code",
      "metadata": {
        "colab": {
          "base_uri": "https://localhost:8080/"
        },
        "id": "9ZDYe0RjjtLH",
        "outputId": "33fd8003-b031-4988-cabf-9bf825f3ce9c"
      },
      "source": [
        "lg.fit(x_train[col], y_train)"
      ],
      "execution_count": null,
      "outputs": [
        {
          "output_type": "execute_result",
          "data": {
            "text/plain": [
              "LGBMRegressor(random_state=277)"
            ]
          },
          "metadata": {},
          "execution_count": 17
        }
      ]
    },
    {
      "cell_type": "code",
      "metadata": {
        "id": "Dv-OUqdij6Vh"
      },
      "source": [
        "pred = lg.predict(x_val[col])"
      ],
      "execution_count": null,
      "outputs": []
    },
    {
      "cell_type": "code",
      "metadata": {
        "colab": {
          "base_uri": "https://localhost:8080/"
        },
        "id": "ZP6xb5DgxgO-",
        "outputId": "08286129-374c-49c6-847d-83594ca36439"
      },
      "source": [
        "print(f\"RMSE: {rmse(y_val, pred)}\")\n",
        "print(f\"MAE: {mae(y_val, pred)}\")\n",
        "print(f\"R2: {r2(y_val, pred)}\") # untuk melihat seberapa baikah model dengan data"
      ],
      "execution_count": null,
      "outputs": [
        {
          "output_type": "stream",
          "name": "stdout",
          "text": [
            "RMSE: 1139.2387637648444\n",
            "MAE: 785.253484178366\n",
            "R2: 0.5581325196639789\n"
          ]
        }
      ]
    },
    {
      "cell_type": "code",
      "metadata": {
        "id": "7GzShjbkmoPa"
      },
      "source": [
        "rmse_error = []\n",
        "mae_error = []\n",
        "R2 = []"
      ],
      "execution_count": null,
      "outputs": []
    },
    {
      "cell_type": "markdown",
      "metadata": {
        "id": "tBkmIW5hiI-w"
      },
      "source": [
        "## Model - 1"
      ]
    },
    {
      "cell_type": "code",
      "metadata": {
        "id": "-mbppaooiOaq"
      },
      "source": [
        "x_train_1 = x_train[col]\n",
        "x_val_1 = x_val[col]"
      ],
      "execution_count": null,
      "outputs": []
    },
    {
      "cell_type": "code",
      "metadata": {
        "colab": {
          "base_uri": "https://localhost:8080/",
          "height": 309
        },
        "id": "TE7S29uIiVnW",
        "outputId": "a9233596-4273-4577-b613-bb511d0b116b"
      },
      "source": [
        "x_train_1.head()"
      ],
      "execution_count": null,
      "outputs": [
        {
          "output_type": "execute_result",
          "data": {
            "text/html": [
              "<div>\n",
              "<style scoped>\n",
              "    .dataframe tbody tr th:only-of-type {\n",
              "        vertical-align: middle;\n",
              "    }\n",
              "\n",
              "    .dataframe tbody tr th {\n",
              "        vertical-align: top;\n",
              "    }\n",
              "\n",
              "    .dataframe thead th {\n",
              "        text-align: right;\n",
              "    }\n",
              "</style>\n",
              "<table border=\"1\" class=\"dataframe\">\n",
              "  <thead>\n",
              "    <tr style=\"text-align: right;\">\n",
              "      <th></th>\n",
              "      <th>Item_MRP</th>\n",
              "      <th>Outlet_Type</th>\n",
              "      <th>Outlet_Identifier</th>\n",
              "    </tr>\n",
              "  </thead>\n",
              "  <tbody>\n",
              "    <tr>\n",
              "      <th>2067</th>\n",
              "      <td>151.1024</td>\n",
              "      <td>Supermarket Type1</td>\n",
              "      <td>OUT045</td>\n",
              "    </tr>\n",
              "    <tr>\n",
              "      <th>3733</th>\n",
              "      <td>190.0530</td>\n",
              "      <td>Supermarket Type3</td>\n",
              "      <td>OUT027</td>\n",
              "    </tr>\n",
              "    <tr>\n",
              "      <th>8188</th>\n",
              "      <td>119.6756</td>\n",
              "      <td>Supermarket Type1</td>\n",
              "      <td>OUT046</td>\n",
              "    </tr>\n",
              "    <tr>\n",
              "      <th>7000</th>\n",
              "      <td>109.7254</td>\n",
              "      <td>Supermarket Type2</td>\n",
              "      <td>OUT018</td>\n",
              "    </tr>\n",
              "    <tr>\n",
              "      <th>2213</th>\n",
              "      <td>199.1742</td>\n",
              "      <td>Supermarket Type1</td>\n",
              "      <td>OUT035</td>\n",
              "    </tr>\n",
              "  </tbody>\n",
              "</table>\n",
              "</div>"
            ],
            "text/plain": [
              "      Item_MRP        Outlet_Type Outlet_Identifier\n",
              "2067  151.1024  Supermarket Type1            OUT045\n",
              "3733  190.0530  Supermarket Type3            OUT027\n",
              "8188  119.6756  Supermarket Type1            OUT046\n",
              "7000  109.7254  Supermarket Type2            OUT018\n",
              "2213  199.1742  Supermarket Type1            OUT035"
            ]
          },
          "metadata": {},
          "execution_count": 22
        }
      ]
    },
    {
      "cell_type": "code",
      "metadata": {
        "id": "cJZt6SpamVPu"
      },
      "source": [
        "#make a var category\n",
        "\n",
        "cater = x_train_1.select_dtypes(exclude=\"number\").columns"
      ],
      "execution_count": null,
      "outputs": []
    },
    {
      "cell_type": "code",
      "metadata": {
        "id": "hpKM1jIkiuJj"
      },
      "source": [
        "le = {}\n",
        "for i in cater:\n",
        "    le[i] = LabelEncoder()\n",
        "    x_train_1[i] = le[i].fit_transform(x_train_1[i]) \n",
        "    x_val_1[i] = le[i].transform(x_val_1[i])"
      ],
      "execution_count": null,
      "outputs": []
    },
    {
      "cell_type": "code",
      "metadata": {
        "id": "x3x1u6z7jmd1"
      },
      "source": [
        "XGB = XGBRegressor(random_state=10)\n",
        "GBT = GradientBoostingRegressor(random_state=20)\n",
        "HGBT = HistGradientBoostingRegressor(random_state=30)\n",
        "ADA = AdaBoostRegressor(random_state=40)\n",
        "EXT = ExtraTreeRegressor(random_state=50)\n",
        "RF = RandomForestRegressor(random_state=60)\n",
        "DT = DecisionTreeRegressor(random_state=70)"
      ],
      "execution_count": null,
      "outputs": []
    },
    {
      "cell_type": "code",
      "metadata": {
        "id": "nteEclc-j4ZI"
      },
      "source": [
        "def score_1(model,x_train, y_train, x_val, y_val):\n",
        "    #fit model\n",
        "    model.fit(x_train,y_train)\n",
        "\n",
        "    #error\n",
        "    pred = model.predict(x_val)\n",
        "    rmse_error.append(rmse(y_val,pred)) \n",
        "    mae_error.append(mae(y_val,pred)) \n",
        "    R2.append(r2(y_val, pred)) \n",
        "\n",
        "    return model"
      ],
      "execution_count": null,
      "outputs": []
    },
    {
      "cell_type": "code",
      "metadata": {
        "colab": {
          "base_uri": "https://localhost:8080/"
        },
        "id": "qBASV5rhk-lf",
        "outputId": "b8d2ca57-e4f9-4857-ede7-f81e725aa139"
      },
      "source": [
        "for i in [XGB,ADA,GBT,HGBT,DT,RF,EXT]:\n",
        "    print(30*\"-\")\n",
        "    print(i)\n",
        "    score_1(i, x_train_1, y_train, x_val_1, y_val)\n",
        "    print(10*\"->\" + \" DONE\")"
      ],
      "execution_count": null,
      "outputs": [
        {
          "output_type": "stream",
          "name": "stdout",
          "text": [
            "------------------------------\n",
            "XGBRegressor(random_state=10)\n",
            "[12:48:58] WARNING: /workspace/src/objective/regression_obj.cu:152: reg:linear is now deprecated in favor of reg:squarederror.\n",
            "->->->->->->->->->-> DONE\n",
            "------------------------------\n",
            "AdaBoostRegressor(random_state=40)\n",
            "->->->->->->->->->-> DONE\n",
            "------------------------------\n",
            "GradientBoostingRegressor(random_state=20)\n",
            "->->->->->->->->->-> DONE\n",
            "------------------------------\n",
            "HistGradientBoostingRegressor(random_state=30)\n",
            "->->->->->->->->->-> DONE\n",
            "------------------------------\n",
            "DecisionTreeRegressor(random_state=70)\n",
            "->->->->->->->->->-> DONE\n",
            "------------------------------\n",
            "RandomForestRegressor(random_state=60)\n",
            "->->->->->->->->->-> DONE\n",
            "------------------------------\n",
            "ExtraTreeRegressor(random_state=50)\n",
            "->->->->->->->->->-> DONE\n"
          ]
        }
      ]
    },
    {
      "cell_type": "markdown",
      "metadata": {
        "id": "VJ5OY3pUjZB6"
      },
      "source": [
        "## Model - 2"
      ]
    },
    {
      "cell_type": "code",
      "metadata": {
        "id": "X1mc_piZjh6X"
      },
      "source": [
        "x_train_2 = x_train[col]\n",
        "x_val_2 = x_val[col]"
      ],
      "execution_count": null,
      "outputs": []
    },
    {
      "cell_type": "code",
      "metadata": {
        "colab": {
          "base_uri": "https://localhost:8080/"
        },
        "id": "0xmatVGvj33B",
        "outputId": "87f70e9d-ee86-4379-f724-109971584271"
      },
      "source": [
        "x_train_2.dtypes"
      ],
      "execution_count": null,
      "outputs": [
        {
          "output_type": "execute_result",
          "data": {
            "text/plain": [
              "Item_MRP              float64\n",
              "Outlet_Type          category\n",
              "Outlet_Identifier    category\n",
              "dtype: object"
            ]
          },
          "metadata": {},
          "execution_count": 42
        }
      ]
    },
    {
      "cell_type": "code",
      "metadata": {
        "id": "-PJKyjVljbyB"
      },
      "source": [
        "CB = CatBoostRegressor(random_state=12)\n",
        "LGBM = LGBMRegressor(random_state=14)"
      ],
      "execution_count": null,
      "outputs": []
    },
    {
      "cell_type": "code",
      "metadata": {
        "id": "i-AhimqGj5vU"
      },
      "source": [
        "def score_2(model,x_train, y_train, x_val, y_val):\n",
        "       \n",
        "    #lgbm\n",
        "    if model == LGBM:\n",
        "       #fit model\n",
        "       model.fit(x_train,y_train,verbose=False)\n",
        "\n",
        "       #error\n",
        "       pred = model.predict(x_val)\n",
        "       rmse_error.append(rmse(y_val,pred))\n",
        "       mae_error.append(mae(y_val,pred))\n",
        "       R2.append(r2(y_val, pred))\n",
        "\n",
        "   #catboost\n",
        "    else:         \n",
        "       #fit model    \n",
        "       model.fit(x_train,y_train,cat_features=cater.to_list(),verbose=False)\n",
        "\n",
        "       #error\n",
        "       pred = model.predict(x_val)\n",
        "       rmse_error.append(rmse(y_val,pred))\n",
        "       mae_error.append(mae(y_val,pred))\n",
        "       R2.append(r2(y_val, pred))\n",
        "    return model"
      ],
      "execution_count": null,
      "outputs": []
    },
    {
      "cell_type": "code",
      "metadata": {
        "colab": {
          "base_uri": "https://localhost:8080/"
        },
        "id": "YVZwdbU3klCu",
        "outputId": "c16b590c-6ca0-48d3-ea4f-ae00e7ec6ec7"
      },
      "source": [
        "for i in [CB,LGBM]:\n",
        "    print(30*\"-\")\n",
        "    print(i)\n",
        "    score_2(i, x_train_2, y_train, x_val_2, y_val)\n",
        "    print(10*\"->\" + \" DONE\")"
      ],
      "execution_count": null,
      "outputs": [
        {
          "output_type": "stream",
          "name": "stdout",
          "text": [
            "------------------------------\n",
            "<catboost.core.CatBoostRegressor object at 0x7f213bd26890>\n",
            "->->->->->->->->->-> DONE\n",
            "------------------------------\n",
            "LGBMRegressor(random_state=14)\n",
            "->->->->->->->->->-> DONE\n"
          ]
        }
      ]
    },
    {
      "cell_type": "markdown",
      "metadata": {
        "id": "tbSW1hmalGh2"
      },
      "source": [
        "## Model - 3"
      ]
    },
    {
      "cell_type": "code",
      "metadata": {
        "id": "L8UnqYxMlJDZ"
      },
      "source": [
        "x_train_3 = x_train[col]\n",
        "x_val_3 = x_val[col]"
      ],
      "execution_count": null,
      "outputs": []
    },
    {
      "cell_type": "code",
      "metadata": {
        "colab": {
          "base_uri": "https://localhost:8080/",
          "height": 592
        },
        "id": "dyRNd8H2lTcH",
        "outputId": "bc115403-c5d2-42eb-9376-f04539d97d45"
      },
      "source": [
        "x_train_3"
      ],
      "execution_count": null,
      "outputs": [
        {
          "output_type": "execute_result",
          "data": {
            "text/html": [
              "<div>\n",
              "<style scoped>\n",
              "    .dataframe tbody tr th:only-of-type {\n",
              "        vertical-align: middle;\n",
              "    }\n",
              "\n",
              "    .dataframe tbody tr th {\n",
              "        vertical-align: top;\n",
              "    }\n",
              "\n",
              "    .dataframe thead th {\n",
              "        text-align: right;\n",
              "    }\n",
              "</style>\n",
              "<table border=\"1\" class=\"dataframe\">\n",
              "  <thead>\n",
              "    <tr style=\"text-align: right;\">\n",
              "      <th></th>\n",
              "      <th>Item_MRP</th>\n",
              "      <th>Outlet_Type</th>\n",
              "      <th>Outlet_Identifier</th>\n",
              "    </tr>\n",
              "  </thead>\n",
              "  <tbody>\n",
              "    <tr>\n",
              "      <th>2067</th>\n",
              "      <td>151.1024</td>\n",
              "      <td>Supermarket Type1</td>\n",
              "      <td>OUT045</td>\n",
              "    </tr>\n",
              "    <tr>\n",
              "      <th>3733</th>\n",
              "      <td>190.0530</td>\n",
              "      <td>Supermarket Type3</td>\n",
              "      <td>OUT027</td>\n",
              "    </tr>\n",
              "    <tr>\n",
              "      <th>8188</th>\n",
              "      <td>119.6756</td>\n",
              "      <td>Supermarket Type1</td>\n",
              "      <td>OUT046</td>\n",
              "    </tr>\n",
              "    <tr>\n",
              "      <th>7000</th>\n",
              "      <td>109.7254</td>\n",
              "      <td>Supermarket Type2</td>\n",
              "      <td>OUT018</td>\n",
              "    </tr>\n",
              "    <tr>\n",
              "      <th>2213</th>\n",
              "      <td>199.1742</td>\n",
              "      <td>Supermarket Type1</td>\n",
              "      <td>OUT035</td>\n",
              "    </tr>\n",
              "    <tr>\n",
              "      <th>...</th>\n",
              "      <td>...</td>\n",
              "      <td>...</td>\n",
              "      <td>...</td>\n",
              "    </tr>\n",
              "    <tr>\n",
              "      <th>2312</th>\n",
              "      <td>128.0020</td>\n",
              "      <td>Grocery Store</td>\n",
              "      <td>OUT010</td>\n",
              "    </tr>\n",
              "    <tr>\n",
              "      <th>2290</th>\n",
              "      <td>149.5734</td>\n",
              "      <td>Supermarket Type2</td>\n",
              "      <td>OUT018</td>\n",
              "    </tr>\n",
              "    <tr>\n",
              "      <th>5294</th>\n",
              "      <td>152.2340</td>\n",
              "      <td>Supermarket Type3</td>\n",
              "      <td>OUT027</td>\n",
              "    </tr>\n",
              "    <tr>\n",
              "      <th>1726</th>\n",
              "      <td>126.5362</td>\n",
              "      <td>Supermarket Type1</td>\n",
              "      <td>OUT013</td>\n",
              "    </tr>\n",
              "    <tr>\n",
              "      <th>2885</th>\n",
              "      <td>112.6886</td>\n",
              "      <td>Supermarket Type1</td>\n",
              "      <td>OUT017</td>\n",
              "    </tr>\n",
              "  </tbody>\n",
              "</table>\n",
              "<p>5966 rows × 3 columns</p>\n",
              "</div>"
            ],
            "text/plain": [
              "      Item_MRP        Outlet_Type Outlet_Identifier\n",
              "2067  151.1024  Supermarket Type1            OUT045\n",
              "3733  190.0530  Supermarket Type3            OUT027\n",
              "8188  119.6756  Supermarket Type1            OUT046\n",
              "7000  109.7254  Supermarket Type2            OUT018\n",
              "2213  199.1742  Supermarket Type1            OUT035\n",
              "...        ...                ...               ...\n",
              "2312  128.0020      Grocery Store            OUT010\n",
              "2290  149.5734  Supermarket Type2            OUT018\n",
              "5294  152.2340  Supermarket Type3            OUT027\n",
              "1726  126.5362  Supermarket Type1            OUT013\n",
              "2885  112.6886  Supermarket Type1            OUT017\n",
              "\n",
              "[5966 rows x 3 columns]"
            ]
          },
          "metadata": {},
          "execution_count": 47
        }
      ]
    },
    {
      "cell_type": "code",
      "metadata": {
        "id": "RZM7g3dZlVB8"
      },
      "source": [
        "x_train_3 = pd.get_dummies(x_train_3) \n",
        "x_val_3 = pd.get_dummies(x_val_3)"
      ],
      "execution_count": null,
      "outputs": []
    },
    {
      "cell_type": "code",
      "metadata": {
        "colab": {
          "base_uri": "https://localhost:8080/"
        },
        "id": "z0vWkTuUlff_",
        "outputId": "d2e3bebd-f1a2-43ea-ad98-5c18ca3e4136"
      },
      "source": [
        "x_train_3"
      ],
      "execution_count": null,
      "outputs": [
        {
          "output_type": "execute_result",
          "data": {
            "text/html": [
              "<div>\n",
              "<style scoped>\n",
              "    .dataframe tbody tr th:only-of-type {\n",
              "        vertical-align: middle;\n",
              "    }\n",
              "\n",
              "    .dataframe tbody tr th {\n",
              "        vertical-align: top;\n",
              "    }\n",
              "\n",
              "    .dataframe thead th {\n",
              "        text-align: right;\n",
              "    }\n",
              "</style>\n",
              "<table border=\"1\" class=\"dataframe\">\n",
              "  <thead>\n",
              "    <tr style=\"text-align: right;\">\n",
              "      <th></th>\n",
              "      <th>Item_MRP</th>\n",
              "      <th>Outlet_Type_Grocery Store</th>\n",
              "      <th>Outlet_Type_Supermarket Type1</th>\n",
              "      <th>Outlet_Type_Supermarket Type2</th>\n",
              "      <th>Outlet_Type_Supermarket Type3</th>\n",
              "      <th>Outlet_Identifier_OUT010</th>\n",
              "      <th>Outlet_Identifier_OUT013</th>\n",
              "      <th>Outlet_Identifier_OUT017</th>\n",
              "      <th>Outlet_Identifier_OUT018</th>\n",
              "      <th>Outlet_Identifier_OUT019</th>\n",
              "      <th>Outlet_Identifier_OUT027</th>\n",
              "      <th>Outlet_Identifier_OUT035</th>\n",
              "      <th>Outlet_Identifier_OUT045</th>\n",
              "      <th>Outlet_Identifier_OUT046</th>\n",
              "      <th>Outlet_Identifier_OUT049</th>\n",
              "    </tr>\n",
              "  </thead>\n",
              "  <tbody>\n",
              "    <tr>\n",
              "      <th>2067</th>\n",
              "      <td>151.1024</td>\n",
              "      <td>0</td>\n",
              "      <td>1</td>\n",
              "      <td>0</td>\n",
              "      <td>0</td>\n",
              "      <td>0</td>\n",
              "      <td>0</td>\n",
              "      <td>0</td>\n",
              "      <td>0</td>\n",
              "      <td>0</td>\n",
              "      <td>0</td>\n",
              "      <td>0</td>\n",
              "      <td>1</td>\n",
              "      <td>0</td>\n",
              "      <td>0</td>\n",
              "    </tr>\n",
              "    <tr>\n",
              "      <th>3733</th>\n",
              "      <td>190.0530</td>\n",
              "      <td>0</td>\n",
              "      <td>0</td>\n",
              "      <td>0</td>\n",
              "      <td>1</td>\n",
              "      <td>0</td>\n",
              "      <td>0</td>\n",
              "      <td>0</td>\n",
              "      <td>0</td>\n",
              "      <td>0</td>\n",
              "      <td>1</td>\n",
              "      <td>0</td>\n",
              "      <td>0</td>\n",
              "      <td>0</td>\n",
              "      <td>0</td>\n",
              "    </tr>\n",
              "    <tr>\n",
              "      <th>8188</th>\n",
              "      <td>119.6756</td>\n",
              "      <td>0</td>\n",
              "      <td>1</td>\n",
              "      <td>0</td>\n",
              "      <td>0</td>\n",
              "      <td>0</td>\n",
              "      <td>0</td>\n",
              "      <td>0</td>\n",
              "      <td>0</td>\n",
              "      <td>0</td>\n",
              "      <td>0</td>\n",
              "      <td>0</td>\n",
              "      <td>0</td>\n",
              "      <td>1</td>\n",
              "      <td>0</td>\n",
              "    </tr>\n",
              "    <tr>\n",
              "      <th>7000</th>\n",
              "      <td>109.7254</td>\n",
              "      <td>0</td>\n",
              "      <td>0</td>\n",
              "      <td>1</td>\n",
              "      <td>0</td>\n",
              "      <td>0</td>\n",
              "      <td>0</td>\n",
              "      <td>0</td>\n",
              "      <td>1</td>\n",
              "      <td>0</td>\n",
              "      <td>0</td>\n",
              "      <td>0</td>\n",
              "      <td>0</td>\n",
              "      <td>0</td>\n",
              "      <td>0</td>\n",
              "    </tr>\n",
              "    <tr>\n",
              "      <th>2213</th>\n",
              "      <td>199.1742</td>\n",
              "      <td>0</td>\n",
              "      <td>1</td>\n",
              "      <td>0</td>\n",
              "      <td>0</td>\n",
              "      <td>0</td>\n",
              "      <td>0</td>\n",
              "      <td>0</td>\n",
              "      <td>0</td>\n",
              "      <td>0</td>\n",
              "      <td>0</td>\n",
              "      <td>1</td>\n",
              "      <td>0</td>\n",
              "      <td>0</td>\n",
              "      <td>0</td>\n",
              "    </tr>\n",
              "    <tr>\n",
              "      <th>...</th>\n",
              "      <td>...</td>\n",
              "      <td>...</td>\n",
              "      <td>...</td>\n",
              "      <td>...</td>\n",
              "      <td>...</td>\n",
              "      <td>...</td>\n",
              "      <td>...</td>\n",
              "      <td>...</td>\n",
              "      <td>...</td>\n",
              "      <td>...</td>\n",
              "      <td>...</td>\n",
              "      <td>...</td>\n",
              "      <td>...</td>\n",
              "      <td>...</td>\n",
              "      <td>...</td>\n",
              "    </tr>\n",
              "    <tr>\n",
              "      <th>2312</th>\n",
              "      <td>128.0020</td>\n",
              "      <td>1</td>\n",
              "      <td>0</td>\n",
              "      <td>0</td>\n",
              "      <td>0</td>\n",
              "      <td>1</td>\n",
              "      <td>0</td>\n",
              "      <td>0</td>\n",
              "      <td>0</td>\n",
              "      <td>0</td>\n",
              "      <td>0</td>\n",
              "      <td>0</td>\n",
              "      <td>0</td>\n",
              "      <td>0</td>\n",
              "      <td>0</td>\n",
              "    </tr>\n",
              "    <tr>\n",
              "      <th>2290</th>\n",
              "      <td>149.5734</td>\n",
              "      <td>0</td>\n",
              "      <td>0</td>\n",
              "      <td>1</td>\n",
              "      <td>0</td>\n",
              "      <td>0</td>\n",
              "      <td>0</td>\n",
              "      <td>0</td>\n",
              "      <td>1</td>\n",
              "      <td>0</td>\n",
              "      <td>0</td>\n",
              "      <td>0</td>\n",
              "      <td>0</td>\n",
              "      <td>0</td>\n",
              "      <td>0</td>\n",
              "    </tr>\n",
              "    <tr>\n",
              "      <th>5294</th>\n",
              "      <td>152.2340</td>\n",
              "      <td>0</td>\n",
              "      <td>0</td>\n",
              "      <td>0</td>\n",
              "      <td>1</td>\n",
              "      <td>0</td>\n",
              "      <td>0</td>\n",
              "      <td>0</td>\n",
              "      <td>0</td>\n",
              "      <td>0</td>\n",
              "      <td>1</td>\n",
              "      <td>0</td>\n",
              "      <td>0</td>\n",
              "      <td>0</td>\n",
              "      <td>0</td>\n",
              "    </tr>\n",
              "    <tr>\n",
              "      <th>1726</th>\n",
              "      <td>126.5362</td>\n",
              "      <td>0</td>\n",
              "      <td>1</td>\n",
              "      <td>0</td>\n",
              "      <td>0</td>\n",
              "      <td>0</td>\n",
              "      <td>1</td>\n",
              "      <td>0</td>\n",
              "      <td>0</td>\n",
              "      <td>0</td>\n",
              "      <td>0</td>\n",
              "      <td>0</td>\n",
              "      <td>0</td>\n",
              "      <td>0</td>\n",
              "      <td>0</td>\n",
              "    </tr>\n",
              "    <tr>\n",
              "      <th>2885</th>\n",
              "      <td>112.6886</td>\n",
              "      <td>0</td>\n",
              "      <td>1</td>\n",
              "      <td>0</td>\n",
              "      <td>0</td>\n",
              "      <td>0</td>\n",
              "      <td>0</td>\n",
              "      <td>1</td>\n",
              "      <td>0</td>\n",
              "      <td>0</td>\n",
              "      <td>0</td>\n",
              "      <td>0</td>\n",
              "      <td>0</td>\n",
              "      <td>0</td>\n",
              "      <td>0</td>\n",
              "    </tr>\n",
              "  </tbody>\n",
              "</table>\n",
              "<p>5966 rows × 15 columns</p>\n",
              "</div>"
            ],
            "text/plain": [
              "      Item_MRP  ...  Outlet_Identifier_OUT049\n",
              "2067  151.1024  ...                         0\n",
              "3733  190.0530  ...                         0\n",
              "8188  119.6756  ...                         0\n",
              "7000  109.7254  ...                         0\n",
              "2213  199.1742  ...                         0\n",
              "...        ...  ...                       ...\n",
              "2312  128.0020  ...                         0\n",
              "2290  149.5734  ...                         0\n",
              "5294  152.2340  ...                         0\n",
              "1726  126.5362  ...                         0\n",
              "2885  112.6886  ...                         0\n",
              "\n",
              "[5966 rows x 15 columns]"
            ]
          },
          "metadata": {},
          "execution_count": 225
        }
      ]
    },
    {
      "cell_type": "code",
      "metadata": {
        "id": "YzN5jm_OzrS6"
      },
      "source": [
        "# Scale kan nilai dengan Standard\n",
        "\n",
        "sc = StandardScaler() \n",
        "x_train_3 = sc.fit_transform(x_train_3)\n",
        "x_val_3 = sc.transform(x_val_3)"
      ],
      "execution_count": null,
      "outputs": []
    },
    {
      "cell_type": "code",
      "metadata": {
        "colab": {
          "base_uri": "https://localhost:8080/"
        },
        "id": "-3H8hBes0-qc",
        "outputId": "7069bec8-844b-4eb2-f512-aa12ae3879cc"
      },
      "source": [
        "x_train_3"
      ],
      "execution_count": null,
      "outputs": [
        {
          "output_type": "execute_result",
          "data": {
            "text/plain": [
              "array([[ 0.15000791, -0.38409422,  0.72756543, ...,  2.84265188,\n",
              "        -0.34876841, -0.35657968],\n",
              "       [ 0.77759113, -0.38409422, -1.37444684, ..., -0.35178419,\n",
              "        -0.34876841, -0.35657968],\n",
              "       [-0.35634969, -0.38409422,  0.72756543, ..., -0.35178419,\n",
              "         2.86723213, -0.35657968],\n",
              "       ...,\n",
              "       [ 0.16824057, -0.38409422, -1.37444684, ..., -0.35178419,\n",
              "        -0.34876841, -0.35657968],\n",
              "       [-0.24580974, -0.38409422,  0.72756543, ..., -0.35178419,\n",
              "        -0.34876841, -0.35657968],\n",
              "       [-0.46892624, -0.38409422,  0.72756543, ..., -0.35178419,\n",
              "        -0.34876841, -0.35657968]])"
            ]
          },
          "metadata": {},
          "execution_count": 50
        }
      ]
    },
    {
      "cell_type": "code",
      "metadata": {
        "id": "ewkdcfbclo3N"
      },
      "source": [
        "LR = LinearRegression() \n",
        "KNN = KNeighborsRegressor()\n",
        "SVM = SVR(kernel=\"linear\")\n",
        "ELT = ElasticNet(random_state=145) #l1_l2\n",
        "LASSO = Lasso(random_state=156) #L1\n",
        "RIDGE = Ridge(random_state=1467) # L2"
      ],
      "execution_count": null,
      "outputs": []
    },
    {
      "cell_type": "code",
      "metadata": {
        "id": "5x9TEvV8m98k"
      },
      "source": [
        "def score_3(model,x_train, y_train, x_val, y_val):\n",
        "    #fit model\n",
        "    model.fit(x_train,y_train)\n",
        "\n",
        "    #error\n",
        "    pred = model.predict(x_val)\n",
        "    rmse_error.append(rmse(y_val,pred)) \n",
        "    mae_error.append(mae(y_val,pred)) \n",
        "    R2.append(r2(y_val, pred))\n",
        "\n",
        "    return model"
      ],
      "execution_count": null,
      "outputs": []
    },
    {
      "cell_type": "code",
      "metadata": {
        "colab": {
          "base_uri": "https://localhost:8080/"
        },
        "id": "4ryKs6mqnCEy",
        "outputId": "302fac06-52cd-45cb-d309-b395a22b23b6"
      },
      "source": [
        "for i in [LR,KNN,ELT,LASSO,RIDGE]:\n",
        "    print(30*\"-\")\n",
        "    print(i)\n",
        "    score_3(i, x_train_3, y_train, x_val_3, y_val)\n",
        "    print(10*\"->\" + \" DONE\")"
      ],
      "execution_count": null,
      "outputs": [
        {
          "output_type": "stream",
          "name": "stdout",
          "text": [
            "------------------------------\n",
            "LinearRegression()\n",
            "->->->->->->->->->-> DONE\n",
            "------------------------------\n",
            "KNeighborsRegressor()\n",
            "->->->->->->->->->-> DONE\n",
            "------------------------------\n",
            "ElasticNet(random_state=145)\n",
            "->->->->->->->->->-> DONE\n",
            "------------------------------\n",
            "Lasso(random_state=156)\n",
            "->->->->->->->->->-> DONE\n",
            "------------------------------\n",
            "Ridge(random_state=1467)\n",
            "->->->->->->->->->-> DONE\n"
          ]
        }
      ]
    },
    {
      "cell_type": "code",
      "metadata": {
        "id": "gFTBbi3am_I5"
      },
      "source": [
        ""
      ],
      "execution_count": null,
      "outputs": []
    },
    {
      "cell_type": "markdown",
      "metadata": {
        "id": "-J9FAxOYjWA9"
      },
      "source": [
        "## Model - Selections"
      ]
    },
    {
      "cell_type": "code",
      "metadata": {
        "id": "Yo0wmKEUlOja"
      },
      "source": [
        "all_models = pd.DataFrame({\"models\": [\"XGB\", \"ADA\", \"GBT\", \"HGBT\", \"DT\", \"RF\", \"EXT\",\"CB\",\"LGBM\",\"LR\",\"KNN\",\"ELT\",\"LASSO\",\"RIDGE\"], \n",
        "                          \"RMSE\": rmse_error, \n",
        "                          \"MAE\": mae_error,\n",
        "                          \"R2\":R2})"
      ],
      "execution_count": null,
      "outputs": []
    },
    {
      "cell_type": "code",
      "metadata": {
        "colab": {
          "base_uri": "https://localhost:8080/",
          "height": 503
        },
        "id": "91zoAd49ld0g",
        "outputId": "ba65a467-cd75-4241-8385-25e16988f527"
      },
      "source": [
        "all_models"
      ],
      "execution_count": null,
      "outputs": [
        {
          "output_type": "execute_result",
          "data": {
            "text/html": [
              "<div>\n",
              "<style scoped>\n",
              "    .dataframe tbody tr th:only-of-type {\n",
              "        vertical-align: middle;\n",
              "    }\n",
              "\n",
              "    .dataframe tbody tr th {\n",
              "        vertical-align: top;\n",
              "    }\n",
              "\n",
              "    .dataframe thead th {\n",
              "        text-align: right;\n",
              "    }\n",
              "</style>\n",
              "<table border=\"1\" class=\"dataframe\">\n",
              "  <thead>\n",
              "    <tr style=\"text-align: right;\">\n",
              "      <th></th>\n",
              "      <th>models</th>\n",
              "      <th>RMSE</th>\n",
              "      <th>MAE</th>\n",
              "      <th>R2</th>\n",
              "    </tr>\n",
              "  </thead>\n",
              "  <tbody>\n",
              "    <tr>\n",
              "      <th>0</th>\n",
              "      <td>XGB</td>\n",
              "      <td>1126.720991</td>\n",
              "      <td>777.609227</td>\n",
              "      <td>0.567790</td>\n",
              "    </tr>\n",
              "    <tr>\n",
              "      <th>1</th>\n",
              "      <td>ADA</td>\n",
              "      <td>1361.815306</td>\n",
              "      <td>905.661782</td>\n",
              "      <td>0.368608</td>\n",
              "    </tr>\n",
              "    <tr>\n",
              "      <th>2</th>\n",
              "      <td>GBT</td>\n",
              "      <td>1127.617477</td>\n",
              "      <td>778.420058</td>\n",
              "      <td>0.567101</td>\n",
              "    </tr>\n",
              "    <tr>\n",
              "      <th>3</th>\n",
              "      <td>HGBT</td>\n",
              "      <td>1141.392078</td>\n",
              "      <td>784.582695</td>\n",
              "      <td>0.556461</td>\n",
              "    </tr>\n",
              "    <tr>\n",
              "      <th>4</th>\n",
              "      <td>DT</td>\n",
              "      <td>1539.949972</td>\n",
              "      <td>1066.641878</td>\n",
              "      <td>0.192624</td>\n",
              "    </tr>\n",
              "    <tr>\n",
              "      <th>5</th>\n",
              "      <td>RF</td>\n",
              "      <td>1272.675595</td>\n",
              "      <td>873.813352</td>\n",
              "      <td>0.448560</td>\n",
              "    </tr>\n",
              "    <tr>\n",
              "      <th>6</th>\n",
              "      <td>EXT</td>\n",
              "      <td>1536.246953</td>\n",
              "      <td>1060.882192</td>\n",
              "      <td>0.196502</td>\n",
              "    </tr>\n",
              "    <tr>\n",
              "      <th>7</th>\n",
              "      <td>CB</td>\n",
              "      <td>1130.131306</td>\n",
              "      <td>778.526459</td>\n",
              "      <td>0.565169</td>\n",
              "    </tr>\n",
              "    <tr>\n",
              "      <th>8</th>\n",
              "      <td>LGBM</td>\n",
              "      <td>1139.238764</td>\n",
              "      <td>785.253484</td>\n",
              "      <td>0.558133</td>\n",
              "    </tr>\n",
              "    <tr>\n",
              "      <th>9</th>\n",
              "      <td>LR</td>\n",
              "      <td>1157.679745</td>\n",
              "      <td>799.840405</td>\n",
              "      <td>0.543712</td>\n",
              "    </tr>\n",
              "    <tr>\n",
              "      <th>10</th>\n",
              "      <td>KNN</td>\n",
              "      <td>1205.808385</td>\n",
              "      <td>835.152581</td>\n",
              "      <td>0.504984</td>\n",
              "    </tr>\n",
              "    <tr>\n",
              "      <th>11</th>\n",
              "      <td>ELT</td>\n",
              "      <td>1787.129408</td>\n",
              "      <td>1277.143711</td>\n",
              "      <td>-0.087363</td>\n",
              "    </tr>\n",
              "    <tr>\n",
              "      <th>12</th>\n",
              "      <td>LASSO</td>\n",
              "      <td>1847.238995</td>\n",
              "      <td>1345.075227</td>\n",
              "      <td>-0.161739</td>\n",
              "    </tr>\n",
              "    <tr>\n",
              "      <th>13</th>\n",
              "      <td>RIDGE</td>\n",
              "      <td>1157.133088</td>\n",
              "      <td>799.190358</td>\n",
              "      <td>0.544142</td>\n",
              "    </tr>\n",
              "  </tbody>\n",
              "</table>\n",
              "</div>"
            ],
            "text/plain": [
              "   models         RMSE          MAE        R2\n",
              "0     XGB  1126.720991   777.609227  0.567790\n",
              "1     ADA  1361.815306   905.661782  0.368608\n",
              "2     GBT  1127.617477   778.420058  0.567101\n",
              "3    HGBT  1141.392078   784.582695  0.556461\n",
              "4      DT  1539.949972  1066.641878  0.192624\n",
              "5      RF  1272.675595   873.813352  0.448560\n",
              "6     EXT  1536.246953  1060.882192  0.196502\n",
              "7      CB  1130.131306   778.526459  0.565169\n",
              "8    LGBM  1139.238764   785.253484  0.558133\n",
              "9      LR  1157.679745   799.840405  0.543712\n",
              "10    KNN  1205.808385   835.152581  0.504984\n",
              "11    ELT  1787.129408  1277.143711 -0.087363\n",
              "12  LASSO  1847.238995  1345.075227 -0.161739\n",
              "13  RIDGE  1157.133088   799.190358  0.544142"
            ]
          },
          "metadata": {},
          "execution_count": 56
        }
      ]
    },
    {
      "cell_type": "code",
      "metadata": {
        "colab": {
          "base_uri": "https://localhost:8080/",
          "height": 483
        },
        "id": "dEq-nT3azfiv",
        "outputId": "ebd342b8-3f78-46b3-8457-9a876ec049c4"
      },
      "source": [
        "# R2\n",
        "all_models[[\"models\", \"R2\"]].sort_values(\"R2\",ascending=False)"
      ],
      "execution_count": null,
      "outputs": [
        {
          "output_type": "execute_result",
          "data": {
            "text/html": [
              "<div>\n",
              "<style scoped>\n",
              "    .dataframe tbody tr th:only-of-type {\n",
              "        vertical-align: middle;\n",
              "    }\n",
              "\n",
              "    .dataframe tbody tr th {\n",
              "        vertical-align: top;\n",
              "    }\n",
              "\n",
              "    .dataframe thead th {\n",
              "        text-align: right;\n",
              "    }\n",
              "</style>\n",
              "<table border=\"1\" class=\"dataframe\">\n",
              "  <thead>\n",
              "    <tr style=\"text-align: right;\">\n",
              "      <th></th>\n",
              "      <th>models</th>\n",
              "      <th>R2</th>\n",
              "    </tr>\n",
              "  </thead>\n",
              "  <tbody>\n",
              "    <tr>\n",
              "      <th>0</th>\n",
              "      <td>XGB</td>\n",
              "      <td>0.567790</td>\n",
              "    </tr>\n",
              "    <tr>\n",
              "      <th>2</th>\n",
              "      <td>GBT</td>\n",
              "      <td>0.567101</td>\n",
              "    </tr>\n",
              "    <tr>\n",
              "      <th>7</th>\n",
              "      <td>CB</td>\n",
              "      <td>0.565169</td>\n",
              "    </tr>\n",
              "    <tr>\n",
              "      <th>8</th>\n",
              "      <td>LGBM</td>\n",
              "      <td>0.558133</td>\n",
              "    </tr>\n",
              "    <tr>\n",
              "      <th>3</th>\n",
              "      <td>HGBT</td>\n",
              "      <td>0.556461</td>\n",
              "    </tr>\n",
              "    <tr>\n",
              "      <th>13</th>\n",
              "      <td>RIDGE</td>\n",
              "      <td>0.544142</td>\n",
              "    </tr>\n",
              "    <tr>\n",
              "      <th>9</th>\n",
              "      <td>LR</td>\n",
              "      <td>0.543712</td>\n",
              "    </tr>\n",
              "    <tr>\n",
              "      <th>10</th>\n",
              "      <td>KNN</td>\n",
              "      <td>0.504984</td>\n",
              "    </tr>\n",
              "    <tr>\n",
              "      <th>5</th>\n",
              "      <td>RF</td>\n",
              "      <td>0.448560</td>\n",
              "    </tr>\n",
              "    <tr>\n",
              "      <th>1</th>\n",
              "      <td>ADA</td>\n",
              "      <td>0.368608</td>\n",
              "    </tr>\n",
              "    <tr>\n",
              "      <th>6</th>\n",
              "      <td>EXT</td>\n",
              "      <td>0.196502</td>\n",
              "    </tr>\n",
              "    <tr>\n",
              "      <th>4</th>\n",
              "      <td>DT</td>\n",
              "      <td>0.192624</td>\n",
              "    </tr>\n",
              "    <tr>\n",
              "      <th>11</th>\n",
              "      <td>ELT</td>\n",
              "      <td>-0.087363</td>\n",
              "    </tr>\n",
              "    <tr>\n",
              "      <th>12</th>\n",
              "      <td>LASSO</td>\n",
              "      <td>-0.161739</td>\n",
              "    </tr>\n",
              "  </tbody>\n",
              "</table>\n",
              "</div>"
            ],
            "text/plain": [
              "   models        R2\n",
              "0     XGB  0.567790\n",
              "2     GBT  0.567101\n",
              "7      CB  0.565169\n",
              "8    LGBM  0.558133\n",
              "3    HGBT  0.556461\n",
              "13  RIDGE  0.544142\n",
              "9      LR  0.543712\n",
              "10    KNN  0.504984\n",
              "5      RF  0.448560\n",
              "1     ADA  0.368608\n",
              "6     EXT  0.196502\n",
              "4      DT  0.192624\n",
              "11    ELT -0.087363\n",
              "12  LASSO -0.161739"
            ]
          },
          "metadata": {},
          "execution_count": 59
        }
      ]
    },
    {
      "cell_type": "code",
      "metadata": {
        "colab": {
          "base_uri": "https://localhost:8080/",
          "height": 483
        },
        "id": "jHSQutIro5Fj",
        "outputId": "8577aa2b-5eb2-41e6-dd85-599d9ef38d7d"
      },
      "source": [
        "# RMSE \n",
        "all_models[[\"models\", \"RMSE\"]].sort_values(\"RMSE\")"
      ],
      "execution_count": null,
      "outputs": [
        {
          "output_type": "execute_result",
          "data": {
            "text/html": [
              "<div>\n",
              "<style scoped>\n",
              "    .dataframe tbody tr th:only-of-type {\n",
              "        vertical-align: middle;\n",
              "    }\n",
              "\n",
              "    .dataframe tbody tr th {\n",
              "        vertical-align: top;\n",
              "    }\n",
              "\n",
              "    .dataframe thead th {\n",
              "        text-align: right;\n",
              "    }\n",
              "</style>\n",
              "<table border=\"1\" class=\"dataframe\">\n",
              "  <thead>\n",
              "    <tr style=\"text-align: right;\">\n",
              "      <th></th>\n",
              "      <th>models</th>\n",
              "      <th>RMSE</th>\n",
              "    </tr>\n",
              "  </thead>\n",
              "  <tbody>\n",
              "    <tr>\n",
              "      <th>0</th>\n",
              "      <td>XGB</td>\n",
              "      <td>1126.720991</td>\n",
              "    </tr>\n",
              "    <tr>\n",
              "      <th>2</th>\n",
              "      <td>GBT</td>\n",
              "      <td>1127.617477</td>\n",
              "    </tr>\n",
              "    <tr>\n",
              "      <th>7</th>\n",
              "      <td>CB</td>\n",
              "      <td>1130.131306</td>\n",
              "    </tr>\n",
              "    <tr>\n",
              "      <th>8</th>\n",
              "      <td>LGBM</td>\n",
              "      <td>1139.238764</td>\n",
              "    </tr>\n",
              "    <tr>\n",
              "      <th>3</th>\n",
              "      <td>HGBT</td>\n",
              "      <td>1141.392078</td>\n",
              "    </tr>\n",
              "    <tr>\n",
              "      <th>13</th>\n",
              "      <td>RIDGE</td>\n",
              "      <td>1157.133088</td>\n",
              "    </tr>\n",
              "    <tr>\n",
              "      <th>9</th>\n",
              "      <td>LR</td>\n",
              "      <td>1157.679745</td>\n",
              "    </tr>\n",
              "    <tr>\n",
              "      <th>10</th>\n",
              "      <td>KNN</td>\n",
              "      <td>1205.808385</td>\n",
              "    </tr>\n",
              "    <tr>\n",
              "      <th>5</th>\n",
              "      <td>RF</td>\n",
              "      <td>1272.675595</td>\n",
              "    </tr>\n",
              "    <tr>\n",
              "      <th>1</th>\n",
              "      <td>ADA</td>\n",
              "      <td>1361.815306</td>\n",
              "    </tr>\n",
              "    <tr>\n",
              "      <th>6</th>\n",
              "      <td>EXT</td>\n",
              "      <td>1536.246953</td>\n",
              "    </tr>\n",
              "    <tr>\n",
              "      <th>4</th>\n",
              "      <td>DT</td>\n",
              "      <td>1539.949972</td>\n",
              "    </tr>\n",
              "    <tr>\n",
              "      <th>11</th>\n",
              "      <td>ELT</td>\n",
              "      <td>1787.129408</td>\n",
              "    </tr>\n",
              "    <tr>\n",
              "      <th>12</th>\n",
              "      <td>LASSO</td>\n",
              "      <td>1847.238995</td>\n",
              "    </tr>\n",
              "  </tbody>\n",
              "</table>\n",
              "</div>"
            ],
            "text/plain": [
              "   models         RMSE\n",
              "0     XGB  1126.720991\n",
              "2     GBT  1127.617477\n",
              "7      CB  1130.131306\n",
              "8    LGBM  1139.238764\n",
              "3    HGBT  1141.392078\n",
              "13  RIDGE  1157.133088\n",
              "9      LR  1157.679745\n",
              "10    KNN  1205.808385\n",
              "5      RF  1272.675595\n",
              "1     ADA  1361.815306\n",
              "6     EXT  1536.246953\n",
              "4      DT  1539.949972\n",
              "11    ELT  1787.129408\n",
              "12  LASSO  1847.238995"
            ]
          },
          "metadata": {},
          "execution_count": 57
        }
      ]
    },
    {
      "cell_type": "code",
      "metadata": {
        "colab": {
          "base_uri": "https://localhost:8080/",
          "height": 483
        },
        "id": "aB0xeeVnpVYD",
        "outputId": "c51748d9-75bb-47b1-c87a-bdcfd66ca7b3"
      },
      "source": [
        "#MAE\n",
        "all_models[[\"models\", \"MAE\"]].sort_values(\"MAE\")"
      ],
      "execution_count": null,
      "outputs": [
        {
          "output_type": "execute_result",
          "data": {
            "text/html": [
              "<div>\n",
              "<style scoped>\n",
              "    .dataframe tbody tr th:only-of-type {\n",
              "        vertical-align: middle;\n",
              "    }\n",
              "\n",
              "    .dataframe tbody tr th {\n",
              "        vertical-align: top;\n",
              "    }\n",
              "\n",
              "    .dataframe thead th {\n",
              "        text-align: right;\n",
              "    }\n",
              "</style>\n",
              "<table border=\"1\" class=\"dataframe\">\n",
              "  <thead>\n",
              "    <tr style=\"text-align: right;\">\n",
              "      <th></th>\n",
              "      <th>models</th>\n",
              "      <th>MAE</th>\n",
              "    </tr>\n",
              "  </thead>\n",
              "  <tbody>\n",
              "    <tr>\n",
              "      <th>0</th>\n",
              "      <td>XGB</td>\n",
              "      <td>777.609227</td>\n",
              "    </tr>\n",
              "    <tr>\n",
              "      <th>2</th>\n",
              "      <td>GBT</td>\n",
              "      <td>778.420058</td>\n",
              "    </tr>\n",
              "    <tr>\n",
              "      <th>7</th>\n",
              "      <td>CB</td>\n",
              "      <td>778.526459</td>\n",
              "    </tr>\n",
              "    <tr>\n",
              "      <th>3</th>\n",
              "      <td>HGBT</td>\n",
              "      <td>784.582695</td>\n",
              "    </tr>\n",
              "    <tr>\n",
              "      <th>8</th>\n",
              "      <td>LGBM</td>\n",
              "      <td>785.253484</td>\n",
              "    </tr>\n",
              "    <tr>\n",
              "      <th>13</th>\n",
              "      <td>RIDGE</td>\n",
              "      <td>799.190358</td>\n",
              "    </tr>\n",
              "    <tr>\n",
              "      <th>9</th>\n",
              "      <td>LR</td>\n",
              "      <td>799.840405</td>\n",
              "    </tr>\n",
              "    <tr>\n",
              "      <th>10</th>\n",
              "      <td>KNN</td>\n",
              "      <td>835.152581</td>\n",
              "    </tr>\n",
              "    <tr>\n",
              "      <th>5</th>\n",
              "      <td>RF</td>\n",
              "      <td>873.813352</td>\n",
              "    </tr>\n",
              "    <tr>\n",
              "      <th>1</th>\n",
              "      <td>ADA</td>\n",
              "      <td>905.661782</td>\n",
              "    </tr>\n",
              "    <tr>\n",
              "      <th>6</th>\n",
              "      <td>EXT</td>\n",
              "      <td>1060.882192</td>\n",
              "    </tr>\n",
              "    <tr>\n",
              "      <th>4</th>\n",
              "      <td>DT</td>\n",
              "      <td>1066.641878</td>\n",
              "    </tr>\n",
              "    <tr>\n",
              "      <th>11</th>\n",
              "      <td>ELT</td>\n",
              "      <td>1277.143711</td>\n",
              "    </tr>\n",
              "    <tr>\n",
              "      <th>12</th>\n",
              "      <td>LASSO</td>\n",
              "      <td>1345.075227</td>\n",
              "    </tr>\n",
              "  </tbody>\n",
              "</table>\n",
              "</div>"
            ],
            "text/plain": [
              "   models          MAE\n",
              "0     XGB   777.609227\n",
              "2     GBT   778.420058\n",
              "7      CB   778.526459\n",
              "3    HGBT   784.582695\n",
              "8    LGBM   785.253484\n",
              "13  RIDGE   799.190358\n",
              "9      LR   799.840405\n",
              "10    KNN   835.152581\n",
              "5      RF   873.813352\n",
              "1     ADA   905.661782\n",
              "6     EXT  1060.882192\n",
              "4      DT  1066.641878\n",
              "11    ELT  1277.143711\n",
              "12  LASSO  1345.075227"
            ]
          },
          "metadata": {},
          "execution_count": 60
        }
      ]
    },
    {
      "cell_type": "markdown",
      "metadata": {
        "id": "bMNp3cDkp6Wn"
      },
      "source": [
        "## Hyperparameters - tuning"
      ]
    },
    {
      "cell_type": "markdown",
      "metadata": {
        "id": "J5QJseBAtLt8"
      },
      "source": [
        "### LGBM"
      ]
    },
    {
      "cell_type": "code",
      "metadata": {
        "id": "JC4Oyq-7tLDR"
      },
      "source": [
        "#lgbm\n",
        "\n",
        "def objective(trial):\n",
        "    params = {\n",
        "        #\"device_type\": trial.suggest_categorical(\"device_type\", ['gpu']),\n",
        "        'objective': trial.suggest_categorical('objective',['regression','rmse']),#'multiclass','binary']),  \n",
        "        \"n_estimators\": trial.suggest_categorical(\"n_estimators\", [10000]),\n",
        "        \"learning_rate\": trial.suggest_float(\"learning_rate\", 0.01, 0.3),\n",
        "        \"num_leaves\": trial.suggest_int(\"num_leaves\", 20, 3000, step=20),\n",
        "        \"max_depth\": trial.suggest_int(\"max_depth\", 3, 12),\n",
        "        \"min_data_in_leaf\": trial.suggest_int(\"min_data_in_leaf\", 200, 10000, step=100),\n",
        "        \"lambda_l1\": trial.suggest_int(\"lambda_l1\", 0, 100, step=5),\n",
        "        \"lambda_l2\": trial.suggest_int(\"lambda_l2\", 0, 100, step=5),\n",
        "        \"min_gain_to_split\": trial.suggest_float(\"min_gain_to_split\", 0, 15),\n",
        "        \"bagging_fraction\": trial.suggest_float(\"bagging_fraction\", 0.2, 0.95, step=0.1),\n",
        "        \"bagging_freq\": trial.suggest_categorical(\"bagging_freq\", [1]),\n",
        "        \"feature_fraction\": trial.suggest_float(\"feature_fraction\", 0.2, 0.95, step=0.1),\n",
        "    }\n",
        "    model = LGBMRegressor(**params)  \n",
        "    model.fit(x_train_2,y_train,eval_set=[(x_val_2,y_val)],verbose=False,early_stopping_rounds=100)\n",
        "\n",
        "    y_preds = model.predict(x_val_2)   \n",
        "    error = rmse(y_val, y_preds)\n",
        "\n",
        "    return error"
      ],
      "execution_count": null,
      "outputs": []
    },
    {
      "cell_type": "code",
      "metadata": {
        "colab": {
          "base_uri": "https://localhost:8080/"
        },
        "id": "2i-GJ5cft7tg",
        "outputId": "0521844b-7b55-42a7-e3f6-26e7fb492d15"
      },
      "source": [
        "study = optuna.create_study(direction='minimize')\n",
        "study.optimize(objective, n_trials=100)"
      ],
      "execution_count": null,
      "outputs": [
        {
          "output_type": "stream",
          "name": "stderr",
          "text": [
            "\u001b[32m[I 2021-11-09 08:42:52,568]\u001b[0m A new study created in memory with name: no-name-3d0152ca-08e7-479f-a052-60cab26e82b9\u001b[0m\n",
            "\u001b[32m[I 2021-11-09 08:42:52,667]\u001b[0m Trial 0 finished with value: 1221.2366473595894 and parameters: {'objective': 'rmse', 'n_estimators': 10000, 'learning_rate': 0.2852294451475448, 'num_leaves': 120, 'max_depth': 12, 'min_data_in_leaf': 400, 'lambda_l1': 15, 'lambda_l2': 45, 'min_gain_to_split': 14.372474885205161, 'bagging_fraction': 0.5, 'bagging_freq': 1, 'feature_fraction': 0.4}. Best is trial 0 with value: 1221.2366473595894.\u001b[0m\n",
            "\u001b[32m[I 2021-11-09 08:42:52,718]\u001b[0m Trial 1 finished with value: 1847.238992880803 and parameters: {'objective': 'rmse', 'n_estimators': 10000, 'learning_rate': 0.18900178395331352, 'num_leaves': 1560, 'max_depth': 12, 'min_data_in_leaf': 4700, 'lambda_l1': 0, 'lambda_l2': 65, 'min_gain_to_split': 0.8409988216350167, 'bagging_fraction': 0.2, 'bagging_freq': 1, 'feature_fraction': 0.2}. Best is trial 0 with value: 1221.2366473595894.\u001b[0m\n",
            "\u001b[32m[I 2021-11-09 08:42:52,771]\u001b[0m Trial 2 finished with value: 1847.238992880803 and parameters: {'objective': 'regression', 'n_estimators': 10000, 'learning_rate': 0.15940067151663542, 'num_leaves': 660, 'max_depth': 4, 'min_data_in_leaf': 2400, 'lambda_l1': 25, 'lambda_l2': 30, 'min_gain_to_split': 14.660021765386832, 'bagging_fraction': 0.5, 'bagging_freq': 1, 'feature_fraction': 0.2}. Best is trial 0 with value: 1221.2366473595894.\u001b[0m\n",
            "\u001b[32m[I 2021-11-09 08:42:52,824]\u001b[0m Trial 3 finished with value: 1847.238992880803 and parameters: {'objective': 'rmse', 'n_estimators': 10000, 'learning_rate': 0.26137679370997996, 'num_leaves': 720, 'max_depth': 7, 'min_data_in_leaf': 8500, 'lambda_l1': 80, 'lambda_l2': 50, 'min_gain_to_split': 11.27663299804983, 'bagging_fraction': 0.4, 'bagging_freq': 1, 'feature_fraction': 0.7}. Best is trial 0 with value: 1221.2366473595894.\u001b[0m\n",
            "\u001b[32m[I 2021-11-09 08:42:52,872]\u001b[0m Trial 4 finished with value: 1847.238992880803 and parameters: {'objective': 'regression', 'n_estimators': 10000, 'learning_rate': 0.23003579943627633, 'num_leaves': 1420, 'max_depth': 8, 'min_data_in_leaf': 3200, 'lambda_l1': 90, 'lambda_l2': 70, 'min_gain_to_split': 13.11273024595302, 'bagging_fraction': 0.6000000000000001, 'bagging_freq': 1, 'feature_fraction': 0.6000000000000001}. Best is trial 0 with value: 1221.2366473595894.\u001b[0m\n",
            "\u001b[32m[I 2021-11-09 08:42:52,963]\u001b[0m Trial 5 finished with value: 1227.2276124168752 and parameters: {'objective': 'rmse', 'n_estimators': 10000, 'learning_rate': 0.21152491476291213, 'num_leaves': 2640, 'max_depth': 5, 'min_data_in_leaf': 400, 'lambda_l1': 20, 'lambda_l2': 80, 'min_gain_to_split': 5.1195287107317515, 'bagging_fraction': 0.30000000000000004, 'bagging_freq': 1, 'feature_fraction': 0.4}. Best is trial 0 with value: 1221.2366473595894.\u001b[0m\n",
            "\u001b[32m[I 2021-11-09 08:42:53,015]\u001b[0m Trial 6 finished with value: 1847.238992880803 and parameters: {'objective': 'regression', 'n_estimators': 10000, 'learning_rate': 0.12009724510169217, 'num_leaves': 1160, 'max_depth': 11, 'min_data_in_leaf': 7600, 'lambda_l1': 70, 'lambda_l2': 35, 'min_gain_to_split': 9.948443023656983, 'bagging_fraction': 0.2, 'bagging_freq': 1, 'feature_fraction': 0.8}. Best is trial 0 with value: 1221.2366473595894.\u001b[0m\n",
            "\u001b[32m[I 2021-11-09 08:42:53,068]\u001b[0m Trial 7 finished with value: 1847.238992880803 and parameters: {'objective': 'regression', 'n_estimators': 10000, 'learning_rate': 0.0760752988359961, 'num_leaves': 740, 'max_depth': 12, 'min_data_in_leaf': 7000, 'lambda_l1': 15, 'lambda_l2': 15, 'min_gain_to_split': 9.46157472088318, 'bagging_fraction': 0.7, 'bagging_freq': 1, 'feature_fraction': 0.5}. Best is trial 0 with value: 1221.2366473595894.\u001b[0m\n",
            "\u001b[32m[I 2021-11-09 08:42:53,127]\u001b[0m Trial 8 finished with value: 1847.238992880803 and parameters: {'objective': 'rmse', 'n_estimators': 10000, 'learning_rate': 0.04627807691628896, 'num_leaves': 2220, 'max_depth': 7, 'min_data_in_leaf': 1200, 'lambda_l1': 5, 'lambda_l2': 35, 'min_gain_to_split': 10.903480592208915, 'bagging_fraction': 0.2, 'bagging_freq': 1, 'feature_fraction': 0.2}. Best is trial 0 with value: 1221.2366473595894.\u001b[0m\n",
            "\u001b[32m[I 2021-11-09 08:42:53,178]\u001b[0m Trial 9 finished with value: 1847.238992880803 and parameters: {'objective': 'rmse', 'n_estimators': 10000, 'learning_rate': 0.0793366593155331, 'num_leaves': 2600, 'max_depth': 4, 'min_data_in_leaf': 7000, 'lambda_l1': 15, 'lambda_l2': 45, 'min_gain_to_split': 14.024616599991843, 'bagging_fraction': 0.8, 'bagging_freq': 1, 'feature_fraction': 0.5}. Best is trial 0 with value: 1221.2366473595894.\u001b[0m\n",
            "\u001b[32m[I 2021-11-09 08:42:53,255]\u001b[0m Trial 10 finished with value: 1847.238992880803 and parameters: {'objective': 'rmse', 'n_estimators': 10000, 'learning_rate': 0.29657025824959893, 'num_leaves': 20, 'max_depth': 10, 'min_data_in_leaf': 4800, 'lambda_l1': 45, 'lambda_l2': 95, 'min_gain_to_split': 5.263886309844942, 'bagging_fraction': 0.9, 'bagging_freq': 1, 'feature_fraction': 0.9}. Best is trial 0 with value: 1221.2366473595894.\u001b[0m\n",
            "\u001b[32m[I 2021-11-09 08:42:53,364]\u001b[0m Trial 11 finished with value: 1239.0650552037391 and parameters: {'objective': 'rmse', 'n_estimators': 10000, 'learning_rate': 0.21759152509166946, 'num_leaves': 2960, 'max_depth': 5, 'min_data_in_leaf': 300, 'lambda_l1': 40, 'lambda_l2': 95, 'min_gain_to_split': 5.99986455370092, 'bagging_fraction': 0.4, 'bagging_freq': 1, 'feature_fraction': 0.4}. Best is trial 0 with value: 1221.2366473595894.\u001b[0m\n",
            "\u001b[32m[I 2021-11-09 08:42:53,443]\u001b[0m Trial 12 finished with value: 1847.238992880803 and parameters: {'objective': 'rmse', 'n_estimators': 10000, 'learning_rate': 0.29144933392036565, 'num_leaves': 1980, 'max_depth': 6, 'min_data_in_leaf': 2100, 'lambda_l1': 35, 'lambda_l2': 70, 'min_gain_to_split': 3.0592660273625616, 'bagging_fraction': 0.4, 'bagging_freq': 1, 'feature_fraction': 0.4}. Best is trial 0 with value: 1221.2366473595894.\u001b[0m\n",
            "\u001b[32m[I 2021-11-09 08:42:53,535]\u001b[0m Trial 13 finished with value: 1258.2892138532507 and parameters: {'objective': 'rmse', 'n_estimators': 10000, 'learning_rate': 0.2472767379681449, 'num_leaves': 2060, 'max_depth': 9, 'min_data_in_leaf': 200, 'lambda_l1': 60, 'lambda_l2': 80, 'min_gain_to_split': 7.528397147236261, 'bagging_fraction': 0.5, 'bagging_freq': 1, 'feature_fraction': 0.4}. Best is trial 0 with value: 1221.2366473595894.\u001b[0m\n",
            "\u001b[32m[I 2021-11-09 08:42:53,596]\u001b[0m Trial 14 finished with value: 1847.238992880803 and parameters: {'objective': 'rmse', 'n_estimators': 10000, 'learning_rate': 0.18893793837825718, 'num_leaves': 40, 'max_depth': 3, 'min_data_in_leaf': 3300, 'lambda_l1': 25, 'lambda_l2': 5, 'min_gain_to_split': 4.079135468899008, 'bagging_fraction': 0.30000000000000004, 'bagging_freq': 1, 'feature_fraction': 0.30000000000000004}. Best is trial 0 with value: 1221.2366473595894.\u001b[0m\n",
            "\u001b[32m[I 2021-11-09 08:42:53,675]\u001b[0m Trial 15 finished with value: 1847.238992880803 and parameters: {'objective': 'rmse', 'n_estimators': 10000, 'learning_rate': 0.2679240057365733, 'num_leaves': 2900, 'max_depth': 9, 'min_data_in_leaf': 1700, 'lambda_l1': 25, 'lambda_l2': 60, 'min_gain_to_split': 0.06962020575053618, 'bagging_fraction': 0.6000000000000001, 'bagging_freq': 1, 'feature_fraction': 0.6000000000000001}. Best is trial 0 with value: 1221.2366473595894.\u001b[0m\n",
            "\u001b[32m[I 2021-11-09 08:42:53,760]\u001b[0m Trial 16 finished with value: 1847.238992880803 and parameters: {'objective': 'rmse', 'n_estimators': 10000, 'learning_rate': 0.2087624332223108, 'num_leaves': 2400, 'max_depth': 6, 'min_data_in_leaf': 3600, 'lambda_l1': 55, 'lambda_l2': 85, 'min_gain_to_split': 8.141187233950559, 'bagging_fraction': 0.30000000000000004, 'bagging_freq': 1, 'feature_fraction': 0.30000000000000004}. Best is trial 0 with value: 1221.2366473595894.\u001b[0m\n",
            "\u001b[32m[I 2021-11-09 08:42:53,828]\u001b[0m Trial 17 finished with value: 1847.238992880803 and parameters: {'objective': 'rmse', 'n_estimators': 10000, 'learning_rate': 0.1519341508345432, 'num_leaves': 1720, 'max_depth': 5, 'min_data_in_leaf': 10000, 'lambda_l1': 10, 'lambda_l2': 20, 'min_gain_to_split': 2.2414755687530246, 'bagging_fraction': 0.7, 'bagging_freq': 1, 'feature_fraction': 0.30000000000000004}. Best is trial 0 with value: 1221.2366473595894.\u001b[0m\n",
            "\u001b[32m[I 2021-11-09 08:42:53,894]\u001b[0m Trial 18 finished with value: 1847.238992880803 and parameters: {'objective': 'regression', 'n_estimators': 10000, 'learning_rate': 0.2698446964919957, 'num_leaves': 320, 'max_depth': 10, 'min_data_in_leaf': 1100, 'lambda_l1': 100, 'lambda_l2': 50, 'min_gain_to_split': 6.0622914360851645, 'bagging_fraction': 0.30000000000000004, 'bagging_freq': 1, 'feature_fraction': 0.5}. Best is trial 0 with value: 1221.2366473595894.\u001b[0m\n",
            "\u001b[32m[I 2021-11-09 08:42:53,981]\u001b[0m Trial 19 finished with value: 1224.3937013013979 and parameters: {'objective': 'rmse', 'n_estimators': 10000, 'learning_rate': 0.15000137303056363, 'num_leaves': 1100, 'max_depth': 3, 'min_data_in_leaf': 200, 'lambda_l1': 30, 'lambda_l2': 80, 'min_gain_to_split': 12.691023888940702, 'bagging_fraction': 0.5, 'bagging_freq': 1, 'feature_fraction': 0.7}. Best is trial 0 with value: 1221.2366473595894.\u001b[0m\n",
            "\u001b[32m[I 2021-11-09 08:42:54,047]\u001b[0m Trial 20 finished with value: 1847.238992880803 and parameters: {'objective': 'rmse', 'n_estimators': 10000, 'learning_rate': 0.13337440254217087, 'num_leaves': 980, 'max_depth': 3, 'min_data_in_leaf': 6100, 'lambda_l1': 30, 'lambda_l2': 55, 'min_gain_to_split': 12.658572353865264, 'bagging_fraction': 0.7, 'bagging_freq': 1, 'feature_fraction': 0.7}. Best is trial 0 with value: 1221.2366473595894.\u001b[0m\n",
            "\u001b[32m[I 2021-11-09 08:42:54,141]\u001b[0m Trial 21 finished with value: 1193.7935111956883 and parameters: {'objective': 'rmse', 'n_estimators': 10000, 'learning_rate': 0.18719220803200068, 'num_leaves': 380, 'max_depth': 4, 'min_data_in_leaf': 200, 'lambda_l1': 15, 'lambda_l2': 80, 'min_gain_to_split': 12.596396900568761, 'bagging_fraction': 0.5, 'bagging_freq': 1, 'feature_fraction': 0.7}. Best is trial 21 with value: 1193.7935111956883.\u001b[0m\n",
            "\u001b[32m[I 2021-11-09 08:42:54,258]\u001b[0m Trial 22 finished with value: 1250.450458335021 and parameters: {'objective': 'rmse', 'n_estimators': 10000, 'learning_rate': 0.10992553745829109, 'num_leaves': 400, 'max_depth': 3, 'min_data_in_leaf': 1200, 'lambda_l1': 0, 'lambda_l2': 100, 'min_gain_to_split': 12.116919336933641, 'bagging_fraction': 0.5, 'bagging_freq': 1, 'feature_fraction': 0.7}. Best is trial 21 with value: 1193.7935111956883.\u001b[0m\n",
            "\u001b[32m[I 2021-11-09 08:42:54,321]\u001b[0m Trial 23 finished with value: 1847.238992880803 and parameters: {'objective': 'rmse', 'n_estimators': 10000, 'learning_rate': 0.02026325749004912, 'num_leaves': 340, 'max_depth': 4, 'min_data_in_leaf': 2600, 'lambda_l1': 35, 'lambda_l2': 85, 'min_gain_to_split': 14.751620070800387, 'bagging_fraction': 0.6000000000000001, 'bagging_freq': 1, 'feature_fraction': 0.8}. Best is trial 21 with value: 1193.7935111956883.\u001b[0m\n",
            "\u001b[32m[I 2021-11-09 08:42:54,422]\u001b[0m Trial 24 finished with value: 1224.8686227442304 and parameters: {'objective': 'rmse', 'n_estimators': 10000, 'learning_rate': 0.16271767937563364, 'num_leaves': 1240, 'max_depth': 6, 'min_data_in_leaf': 1000, 'lambda_l1': 10, 'lambda_l2': 70, 'min_gain_to_split': 13.479357514453987, 'bagging_fraction': 0.5, 'bagging_freq': 1, 'feature_fraction': 0.8}. Best is trial 21 with value: 1193.7935111956883.\u001b[0m\n",
            "\u001b[32m[I 2021-11-09 08:42:54,494]\u001b[0m Trial 25 finished with value: 1847.238992880803 and parameters: {'objective': 'rmse', 'n_estimators': 10000, 'learning_rate': 0.18629193264752483, 'num_leaves': 520, 'max_depth': 4, 'min_data_in_leaf': 3900, 'lambda_l1': 50, 'lambda_l2': 40, 'min_gain_to_split': 11.66654794156044, 'bagging_fraction': 0.4, 'bagging_freq': 1, 'feature_fraction': 0.6000000000000001}. Best is trial 21 with value: 1193.7935111956883.\u001b[0m\n",
            "\u001b[32m[I 2021-11-09 08:42:54,563]\u001b[0m Trial 26 finished with value: 1847.238992880803 and parameters: {'objective': 'regression', 'n_estimators': 10000, 'learning_rate': 0.09024406044498846, 'num_leaves': 980, 'max_depth': 8, 'min_data_in_leaf': 1800, 'lambda_l1': 15, 'lambda_l2': 75, 'min_gain_to_split': 9.730485291390181, 'bagging_fraction': 0.6000000000000001, 'bagging_freq': 1, 'feature_fraction': 0.9}. Best is trial 21 with value: 1193.7935111956883.\u001b[0m\n",
            "\u001b[32m[I 2021-11-09 08:42:54,655]\u001b[0m Trial 27 finished with value: 1253.0767699037779 and parameters: {'objective': 'rmse', 'n_estimators': 10000, 'learning_rate': 0.1402345298809039, 'num_leaves': 180, 'max_depth': 3, 'min_data_in_leaf': 200, 'lambda_l1': 40, 'lambda_l2': 60, 'min_gain_to_split': 14.923251432584355, 'bagging_fraction': 0.5, 'bagging_freq': 1, 'feature_fraction': 0.7}. Best is trial 21 with value: 1193.7935111956883.\u001b[0m\n",
            "\u001b[32m[I 2021-11-09 08:42:54,724]\u001b[0m Trial 28 finished with value: 1847.238992880803 and parameters: {'objective': 'rmse', 'n_estimators': 10000, 'learning_rate': 0.2391089086534916, 'num_leaves': 960, 'max_depth': 11, 'min_data_in_leaf': 2900, 'lambda_l1': 30, 'lambda_l2': 90, 'min_gain_to_split': 12.895442609631715, 'bagging_fraction': 0.4, 'bagging_freq': 1, 'feature_fraction': 0.6000000000000001}. Best is trial 21 with value: 1193.7935111956883.\u001b[0m\n",
            "\u001b[32m[I 2021-11-09 08:42:54,794]\u001b[0m Trial 29 finished with value: 1847.238992880803 and parameters: {'objective': 'rmse', 'n_estimators': 10000, 'learning_rate': 0.1933826767986197, 'num_leaves': 1640, 'max_depth': 5, 'min_data_in_leaf': 4000, 'lambda_l1': 5, 'lambda_l2': 60, 'min_gain_to_split': 8.66017663114707, 'bagging_fraction': 0.7, 'bagging_freq': 1, 'feature_fraction': 0.8}. Best is trial 21 with value: 1193.7935111956883.\u001b[0m\n",
            "\u001b[32m[I 2021-11-09 08:42:54,864]\u001b[0m Trial 30 finished with value: 1847.238992880803 and parameters: {'objective': 'rmse', 'n_estimators': 10000, 'learning_rate': 0.17211722444432115, 'num_leaves': 600, 'max_depth': 12, 'min_data_in_leaf': 5600, 'lambda_l1': 0, 'lambda_l2': 25, 'min_gain_to_split': 10.616534261308654, 'bagging_fraction': 0.6000000000000001, 'bagging_freq': 1, 'feature_fraction': 0.7}. Best is trial 21 with value: 1193.7935111956883.\u001b[0m\n",
            "\u001b[32m[I 2021-11-09 08:42:54,966]\u001b[0m Trial 31 finished with value: 1272.7073758967533 and parameters: {'objective': 'rmse', 'n_estimators': 10000, 'learning_rate': 0.16770145018228372, 'num_leaves': 1340, 'max_depth': 6, 'min_data_in_leaf': 1300, 'lambda_l1': 10, 'lambda_l2': 70, 'min_gain_to_split': 13.762795220787783, 'bagging_fraction': 0.5, 'bagging_freq': 1, 'feature_fraction': 0.8}. Best is trial 21 with value: 1193.7935111956883.\u001b[0m\n",
            "\u001b[32m[I 2021-11-09 08:42:55,068]\u001b[0m Trial 32 finished with value: 1224.3558076186919 and parameters: {'objective': 'rmse', 'n_estimators': 10000, 'learning_rate': 0.15107728791398106, 'num_leaves': 1120, 'max_depth': 4, 'min_data_in_leaf': 600, 'lambda_l1': 20, 'lambda_l2': 65, 'min_gain_to_split': 13.81131062638562, 'bagging_fraction': 0.5, 'bagging_freq': 1, 'feature_fraction': 0.9}. Best is trial 21 with value: 1193.7935111956883.\u001b[0m\n",
            "\u001b[32m[I 2021-11-09 08:42:55,174]\u001b[0m Trial 33 finished with value: 1230.273672334626 and parameters: {'objective': 'rmse', 'n_estimators': 10000, 'learning_rate': 0.11036006909372373, 'num_leaves': 780, 'max_depth': 4, 'min_data_in_leaf': 700, 'lambda_l1': 20, 'lambda_l2': 80, 'min_gain_to_split': 12.160033648765596, 'bagging_fraction': 0.4, 'bagging_freq': 1, 'feature_fraction': 0.9}. Best is trial 21 with value: 1193.7935111956883.\u001b[0m\n",
            "\u001b[32m[I 2021-11-09 08:42:55,245]\u001b[0m Trial 34 finished with value: 1847.238992880803 and parameters: {'objective': 'regression', 'n_estimators': 10000, 'learning_rate': 0.14136162957539178, 'num_leaves': 220, 'max_depth': 3, 'min_data_in_leaf': 2200, 'lambda_l1': 20, 'lambda_l2': 65, 'min_gain_to_split': 13.902655037298866, 'bagging_fraction': 0.5, 'bagging_freq': 1, 'feature_fraction': 0.9}. Best is trial 21 with value: 1193.7935111956883.\u001b[0m\n",
            "\u001b[32m[I 2021-11-09 08:42:55,346]\u001b[0m Trial 35 finished with value: 1287.9784084614041 and parameters: {'objective': 'rmse', 'n_estimators': 10000, 'learning_rate': 0.17369316865541526, 'num_leaves': 520, 'max_depth': 4, 'min_data_in_leaf': 1600, 'lambda_l1': 30, 'lambda_l2': 55, 'min_gain_to_split': 11.484225816283992, 'bagging_fraction': 0.6000000000000001, 'bagging_freq': 1, 'feature_fraction': 0.7}. Best is trial 21 with value: 1193.7935111956883.\u001b[0m\n",
            "\u001b[32m[I 2021-11-09 08:42:55,454]\u001b[0m Trial 36 finished with value: 1246.740817180871 and parameters: {'objective': 'rmse', 'n_estimators': 10000, 'learning_rate': 0.12325280687604427, 'num_leaves': 1520, 'max_depth': 5, 'min_data_in_leaf': 700, 'lambda_l1': 20, 'lambda_l2': 50, 'min_gain_to_split': 12.696201497106596, 'bagging_fraction': 0.5, 'bagging_freq': 1, 'feature_fraction': 0.6000000000000001}. Best is trial 21 with value: 1193.7935111956883.\u001b[0m\n",
            "\u001b[32m[I 2021-11-09 08:42:55,579]\u001b[0m Trial 37 finished with value: 1343.9734858381637 and parameters: {'objective': 'regression', 'n_estimators': 10000, 'learning_rate': 0.097816302998111, 'num_leaves': 840, 'max_depth': 7, 'min_data_in_leaf': 700, 'lambda_l1': 65, 'lambda_l2': 75, 'min_gain_to_split': 14.232950774985248, 'bagging_fraction': 0.4, 'bagging_freq': 1, 'feature_fraction': 0.5}. Best is trial 21 with value: 1193.7935111956883.\u001b[0m\n",
            "\u001b[32m[I 2021-11-09 08:42:55,654]\u001b[0m Trial 38 finished with value: 1847.238992880803 and parameters: {'objective': 'rmse', 'n_estimators': 10000, 'learning_rate': 0.22641956021148374, 'num_leaves': 1760, 'max_depth': 4, 'min_data_in_leaf': 2300, 'lambda_l1': 75, 'lambda_l2': 65, 'min_gain_to_split': 13.268165897427863, 'bagging_fraction': 0.6000000000000001, 'bagging_freq': 1, 'feature_fraction': 0.8}. Best is trial 21 with value: 1193.7935111956883.\u001b[0m\n",
            "\u001b[32m[I 2021-11-09 08:42:55,727]\u001b[0m Trial 39 finished with value: 1847.238992880803 and parameters: {'objective': 'rmse', 'n_estimators': 10000, 'learning_rate': 0.055120270361954174, 'num_leaves': 1120, 'max_depth': 8, 'min_data_in_leaf': 1700, 'lambda_l1': 5, 'lambda_l2': 40, 'min_gain_to_split': 10.412743731476539, 'bagging_fraction': 0.4, 'bagging_freq': 1, 'feature_fraction': 0.6000000000000001}. Best is trial 21 with value: 1193.7935111956883.\u001b[0m\n",
            "\u001b[32m[I 2021-11-09 08:42:55,825]\u001b[0m Trial 40 finished with value: 1248.2577983406711 and parameters: {'objective': 'regression', 'n_estimators': 10000, 'learning_rate': 0.20046643486373894, 'num_leaves': 1360, 'max_depth': 3, 'min_data_in_leaf': 800, 'lambda_l1': 15, 'lambda_l2': 85, 'min_gain_to_split': 14.978310266192029, 'bagging_fraction': 0.5, 'bagging_freq': 1, 'feature_fraction': 0.2}. Best is trial 21 with value: 1193.7935111956883.\u001b[0m\n",
            "\u001b[32m[I 2021-11-09 08:42:55,930]\u001b[0m Trial 41 finished with value: 1233.3253262756086 and parameters: {'objective': 'rmse', 'n_estimators': 10000, 'learning_rate': 0.1552309104575129, 'num_leaves': 1160, 'max_depth': 6, 'min_data_in_leaf': 1000, 'lambda_l1': 10, 'lambda_l2': 75, 'min_gain_to_split': 13.43282318890474, 'bagging_fraction': 0.5, 'bagging_freq': 1, 'feature_fraction': 0.8}. Best is trial 21 with value: 1193.7935111956883.\u001b[0m\n",
            "\u001b[32m[I 2021-11-09 08:42:56,032]\u001b[0m Trial 42 finished with value: 1210.6443674216011 and parameters: {'objective': 'rmse', 'n_estimators': 10000, 'learning_rate': 0.15585032407585994, 'num_leaves': 1180, 'max_depth': 5, 'min_data_in_leaf': 200, 'lambda_l1': 25, 'lambda_l2': 70, 'min_gain_to_split': 12.008615768447868, 'bagging_fraction': 0.5, 'bagging_freq': 1, 'feature_fraction': 0.9}. Best is trial 21 with value: 1193.7935111956883.\u001b[0m\n",
            "\u001b[32m[I 2021-11-09 08:42:56,126]\u001b[0m Trial 43 finished with value: 1190.97984731128 and parameters: {'objective': 'rmse', 'n_estimators': 10000, 'learning_rate': 0.17951467626258297, 'num_leaves': 900, 'max_depth': 5, 'min_data_in_leaf': 200, 'lambda_l1': 25, 'lambda_l2': 90, 'min_gain_to_split': 12.059220119932945, 'bagging_fraction': 0.6000000000000001, 'bagging_freq': 1, 'feature_fraction': 0.9}. Best is trial 43 with value: 1190.97984731128.\u001b[0m\n",
            "\u001b[32m[I 2021-11-09 08:42:56,215]\u001b[0m Trial 44 finished with value: 1185.1074455466266 and parameters: {'objective': 'rmse', 'n_estimators': 10000, 'learning_rate': 0.17622917783087527, 'num_leaves': 680, 'max_depth': 5, 'min_data_in_leaf': 600, 'lambda_l1': 25, 'lambda_l2': 90, 'min_gain_to_split': 11.21580274475999, 'bagging_fraction': 0.7, 'bagging_freq': 1, 'feature_fraction': 0.9}. Best is trial 44 with value: 1185.1074455466266.\u001b[0m\n",
            "\u001b[32m[I 2021-11-09 08:42:56,315]\u001b[0m Trial 45 finished with value: 1209.803926296913 and parameters: {'objective': 'rmse', 'n_estimators': 10000, 'learning_rate': 0.18109718130121277, 'num_leaves': 680, 'max_depth': 5, 'min_data_in_leaf': 1500, 'lambda_l1': 40, 'lambda_l2': 100, 'min_gain_to_split': 9.071922470138352, 'bagging_fraction': 0.8, 'bagging_freq': 1, 'feature_fraction': 0.9}. Best is trial 44 with value: 1185.1074455466266.\u001b[0m\n",
            "\u001b[32m[I 2021-11-09 08:42:56,407]\u001b[0m Trial 46 finished with value: 1212.5802342231902 and parameters: {'objective': 'rmse', 'n_estimators': 10000, 'learning_rate': 0.1782447055645632, 'num_leaves': 860, 'max_depth': 5, 'min_data_in_leaf': 1500, 'lambda_l1': 45, 'lambda_l2': 100, 'min_gain_to_split': 8.58783184295245, 'bagging_fraction': 0.8, 'bagging_freq': 1, 'feature_fraction': 0.9}. Best is trial 44 with value: 1185.1074455466266.\u001b[0m\n",
            "\u001b[32m[I 2021-11-09 08:42:56,475]\u001b[0m Trial 47 finished with value: 1847.238992880803 and parameters: {'objective': 'rmse', 'n_estimators': 10000, 'learning_rate': 0.20367326281597448, 'num_leaves': 640, 'max_depth': 5, 'min_data_in_leaf': 2700, 'lambda_l1': 40, 'lambda_l2': 95, 'min_gain_to_split': 9.150905048165853, 'bagging_fraction': 0.8, 'bagging_freq': 1, 'feature_fraction': 0.9}. Best is trial 44 with value: 1185.1074455466266.\u001b[0m\n",
            "\u001b[32m[I 2021-11-09 08:42:56,574]\u001b[0m Trial 48 finished with value: 1239.2674839376996 and parameters: {'objective': 'rmse', 'n_estimators': 10000, 'learning_rate': 0.18285224227257538, 'num_leaves': 500, 'max_depth': 7, 'min_data_in_leaf': 2000, 'lambda_l1': 35, 'lambda_l2': 90, 'min_gain_to_split': 11.04438624884781, 'bagging_fraction': 0.9, 'bagging_freq': 1, 'feature_fraction': 0.9}. Best is trial 44 with value: 1185.1074455466266.\u001b[0m\n",
            "\u001b[32m[I 2021-11-09 08:42:56,664]\u001b[0m Trial 49 finished with value: 1182.713769760794 and parameters: {'objective': 'rmse', 'n_estimators': 10000, 'learning_rate': 0.2162675588662507, 'num_leaves': 740, 'max_depth': 5, 'min_data_in_leaf': 200, 'lambda_l1': 25, 'lambda_l2': 90, 'min_gain_to_split': 10.173652403360467, 'bagging_fraction': 0.7, 'bagging_freq': 1, 'feature_fraction': 0.9}. Best is trial 49 with value: 1182.713769760794.\u001b[0m\n",
            "\u001b[32m[I 2021-11-09 08:42:56,735]\u001b[0m Trial 50 finished with value: 1847.238992880803 and parameters: {'objective': 'rmse', 'n_estimators': 10000, 'learning_rate': 0.2163341232212766, 'num_leaves': 680, 'max_depth': 6, 'min_data_in_leaf': 8600, 'lambda_l1': 45, 'lambda_l2': 90, 'min_gain_to_split': 9.9785117451263, 'bagging_fraction': 0.8, 'bagging_freq': 1, 'feature_fraction': 0.8}. Best is trial 49 with value: 1182.713769760794.\u001b[0m\n",
            "\u001b[32m[I 2021-11-09 08:42:56,821]\u001b[0m Trial 51 finished with value: 1201.8916505627035 and parameters: {'objective': 'rmse', 'n_estimators': 10000, 'learning_rate': 0.1945061043698067, 'num_leaves': 840, 'max_depth': 5, 'min_data_in_leaf': 200, 'lambda_l1': 25, 'lambda_l2': 100, 'min_gain_to_split': 11.931877242890499, 'bagging_fraction': 0.7, 'bagging_freq': 1, 'feature_fraction': 0.9}. Best is trial 49 with value: 1182.713769760794.\u001b[0m\n",
            "\u001b[32m[I 2021-11-09 08:42:56,920]\u001b[0m Trial 52 finished with value: 1205.2995798064876 and parameters: {'objective': 'rmse', 'n_estimators': 10000, 'learning_rate': 0.2266043198155702, 'num_leaves': 420, 'max_depth': 5, 'min_data_in_leaf': 1300, 'lambda_l1': 25, 'lambda_l2': 100, 'min_gain_to_split': 10.307169862508573, 'bagging_fraction': 0.7, 'bagging_freq': 1, 'feature_fraction': 0.9}. Best is trial 49 with value: 1182.713769760794.\u001b[0m\n",
            "\u001b[32m[I 2021-11-09 08:42:56,999]\u001b[0m Trial 53 finished with value: 1183.1976674688733 and parameters: {'objective': 'rmse', 'n_estimators': 10000, 'learning_rate': 0.25217165941475217, 'num_leaves': 420, 'max_depth': 6, 'min_data_in_leaf': 500, 'lambda_l1': 25, 'lambda_l2': 95, 'min_gain_to_split': 10.356724505113265, 'bagging_fraction': 0.7, 'bagging_freq': 1, 'feature_fraction': 0.9}. Best is trial 49 with value: 1182.713769760794.\u001b[0m\n",
            "\u001b[32m[I 2021-11-09 08:42:57,077]\u001b[0m Trial 54 finished with value: 1190.2829714025238 and parameters: {'objective': 'rmse', 'n_estimators': 10000, 'learning_rate': 0.25348104345704525, 'num_leaves': 260, 'max_depth': 6, 'min_data_in_leaf': 500, 'lambda_l1': 25, 'lambda_l2': 95, 'min_gain_to_split': 11.26050809277427, 'bagging_fraction': 0.7, 'bagging_freq': 1, 'feature_fraction': 0.8}. Best is trial 49 with value: 1182.713769760794.\u001b[0m\n",
            "\u001b[32m[I 2021-11-09 08:42:57,167]\u001b[0m Trial 55 finished with value: 1188.6718243469747 and parameters: {'objective': 'rmse', 'n_estimators': 10000, 'learning_rate': 0.2540731108192342, 'num_leaves': 300, 'max_depth': 6, 'min_data_in_leaf': 600, 'lambda_l1': 35, 'lambda_l2': 95, 'min_gain_to_split': 11.152362606554924, 'bagging_fraction': 0.7, 'bagging_freq': 1, 'feature_fraction': 0.8}. Best is trial 49 with value: 1182.713769760794.\u001b[0m\n",
            "\u001b[32m[I 2021-11-09 08:42:57,249]\u001b[0m Trial 56 finished with value: 1176.6139323447044 and parameters: {'objective': 'rmse', 'n_estimators': 10000, 'learning_rate': 0.25621011992665155, 'num_leaves': 240, 'max_depth': 7, 'min_data_in_leaf': 600, 'lambda_l1': 35, 'lambda_l2': 95, 'min_gain_to_split': 7.108049987956492, 'bagging_fraction': 0.7, 'bagging_freq': 1, 'feature_fraction': 0.8}. Best is trial 56 with value: 1176.6139323447044.\u001b[0m\n",
            "\u001b[32m[I 2021-11-09 08:42:57,333]\u001b[0m Trial 57 finished with value: 1186.0115790148598 and parameters: {'objective': 'rmse', 'n_estimators': 10000, 'learning_rate': 0.2805861356248335, 'num_leaves': 100, 'max_depth': 7, 'min_data_in_leaf': 900, 'lambda_l1': 35, 'lambda_l2': 95, 'min_gain_to_split': 6.852750994265412, 'bagging_fraction': 0.7, 'bagging_freq': 1, 'feature_fraction': 0.8}. Best is trial 56 with value: 1176.6139323447044.\u001b[0m\n",
            "\u001b[32m[I 2021-11-09 08:42:57,412]\u001b[0m Trial 58 finished with value: 1193.4546516394303 and parameters: {'objective': 'regression', 'n_estimators': 10000, 'learning_rate': 0.28615305149352355, 'num_leaves': 100, 'max_depth': 7, 'min_data_in_leaf': 1000, 'lambda_l1': 35, 'lambda_l2': 95, 'min_gain_to_split': 7.13882275379931, 'bagging_fraction': 0.7, 'bagging_freq': 1, 'feature_fraction': 0.8}. Best is trial 56 with value: 1176.6139323447044.\u001b[0m\n",
            "\u001b[32m[I 2021-11-09 08:42:57,504]\u001b[0m Trial 59 finished with value: 1185.646578457761 and parameters: {'objective': 'rmse', 'n_estimators': 10000, 'learning_rate': 0.276027313821334, 'num_leaves': 20, 'max_depth': 8, 'min_data_in_leaf': 800, 'lambda_l1': 50, 'lambda_l2': 85, 'min_gain_to_split': 6.474515155196941, 'bagging_fraction': 0.8, 'bagging_freq': 1, 'feature_fraction': 0.8}. Best is trial 56 with value: 1176.6139323447044.\u001b[0m\n",
            "\u001b[32m[I 2021-11-09 08:42:57,568]\u001b[0m Trial 60 finished with value: 1847.238992880803 and parameters: {'objective': 'rmse', 'n_estimators': 10000, 'learning_rate': 0.27217654047053125, 'num_leaves': 20, 'max_depth': 8, 'min_data_in_leaf': 3200, 'lambda_l1': 50, 'lambda_l2': 85, 'min_gain_to_split': 6.685838311137029, 'bagging_fraction': 0.9, 'bagging_freq': 1, 'feature_fraction': 0.8}. Best is trial 56 with value: 1176.6139323447044.\u001b[0m\n",
            "\u001b[32m[I 2021-11-09 08:42:57,651]\u001b[0m Trial 61 finished with value: 1186.8649117228583 and parameters: {'objective': 'rmse', 'n_estimators': 10000, 'learning_rate': 0.27866181463353223, 'num_leaves': 140, 'max_depth': 9, 'min_data_in_leaf': 900, 'lambda_l1': 55, 'lambda_l2': 90, 'min_gain_to_split': 4.650914829067229, 'bagging_fraction': 0.8, 'bagging_freq': 1, 'feature_fraction': 0.8}. Best is trial 56 with value: 1176.6139323447044.\u001b[0m\n",
            "\u001b[32m[I 2021-11-09 08:42:57,734]\u001b[0m Trial 62 finished with value: 1240.993071026915 and parameters: {'objective': 'rmse', 'n_estimators': 10000, 'learning_rate': 0.2954534197169322, 'num_leaves': 120, 'max_depth': 9, 'min_data_in_leaf': 1900, 'lambda_l1': 55, 'lambda_l2': 85, 'min_gain_to_split': 4.190111214124391, 'bagging_fraction': 0.8, 'bagging_freq': 1, 'feature_fraction': 0.8}. Best is trial 56 with value: 1176.6139323447044.\u001b[0m\n",
            "\u001b[32m[I 2021-11-09 08:42:57,824]\u001b[0m Trial 63 finished with value: 1192.4161245799194 and parameters: {'objective': 'rmse', 'n_estimators': 10000, 'learning_rate': 0.2755960703509823, 'num_leaves': 180, 'max_depth': 9, 'min_data_in_leaf': 900, 'lambda_l1': 60, 'lambda_l2': 90, 'min_gain_to_split': 6.218251465638666, 'bagging_fraction': 0.8, 'bagging_freq': 1, 'feature_fraction': 0.8}. Best is trial 56 with value: 1176.6139323447044.\u001b[0m\n",
            "\u001b[32m[I 2021-11-09 08:42:57,908]\u001b[0m Trial 64 finished with value: 1187.3594489601178 and parameters: {'objective': 'rmse', 'n_estimators': 10000, 'learning_rate': 0.28096655765629414, 'num_leaves': 120, 'max_depth': 8, 'min_data_in_leaf': 1300, 'lambda_l1': 55, 'lambda_l2': 90, 'min_gain_to_split': 5.465615611278023, 'bagging_fraction': 0.8, 'bagging_freq': 1, 'feature_fraction': 0.9}. Best is trial 56 with value: 1176.6139323447044.\u001b[0m\n",
            "\u001b[32m[I 2021-11-09 08:42:57,992]\u001b[0m Trial 65 finished with value: 1197.6502747982875 and parameters: {'objective': 'rmse', 'n_estimators': 10000, 'learning_rate': 0.25881728285597955, 'num_leaves': 420, 'max_depth': 7, 'min_data_in_leaf': 1100, 'lambda_l1': 50, 'lambda_l2': 85, 'min_gain_to_split': 7.613880203713279, 'bagging_fraction': 0.9, 'bagging_freq': 1, 'feature_fraction': 0.7}. Best is trial 56 with value: 1176.6139323447044.\u001b[0m\n",
            "\u001b[32m[I 2021-11-09 08:42:58,075]\u001b[0m Trial 66 finished with value: 1229.2242533643757 and parameters: {'objective': 'rmse', 'n_estimators': 10000, 'learning_rate': 0.24502857272354675, 'num_leaves': 220, 'max_depth': 8, 'min_data_in_leaf': 1400, 'lambda_l1': 65, 'lambda_l2': 0, 'min_gain_to_split': 4.230044273655095, 'bagging_fraction': 0.7, 'bagging_freq': 1, 'feature_fraction': 0.8}. Best is trial 56 with value: 1176.6139323447044.\u001b[0m\n",
            "\u001b[32m[I 2021-11-09 08:42:58,161]\u001b[0m Trial 67 finished with value: 1156.0807315415402 and parameters: {'objective': 'rmse', 'n_estimators': 10000, 'learning_rate': 0.23473151490659977, 'num_leaves': 20, 'max_depth': 10, 'min_data_in_leaf': 500, 'lambda_l1': 30, 'lambda_l2': 95, 'min_gain_to_split': 4.60112292480303, 'bagging_fraction': 0.8, 'bagging_freq': 1, 'feature_fraction': 0.9}. Best is trial 67 with value: 1156.0807315415402.\u001b[0m\n",
            "\u001b[32m[I 2021-11-09 08:42:58,251]\u001b[0m Trial 68 finished with value: 1152.7840617293477 and parameters: {'objective': 'rmse', 'n_estimators': 10000, 'learning_rate': 0.2374609809124047, 'num_leaves': 40, 'max_depth': 7, 'min_data_in_leaf': 600, 'lambda_l1': 30, 'lambda_l2': 100, 'min_gain_to_split': 2.9542238102386045, 'bagging_fraction': 0.7, 'bagging_freq': 1, 'feature_fraction': 0.9}. Best is trial 68 with value: 1152.7840617293477.\u001b[0m\n",
            "\u001b[32m[I 2021-11-09 08:42:58,339]\u001b[0m Trial 69 finished with value: 1141.5332692024888 and parameters: {'objective': 'rmse', 'n_estimators': 10000, 'learning_rate': 0.2346307259406829, 'num_leaves': 300, 'max_depth': 11, 'min_data_in_leaf': 500, 'lambda_l1': 30, 'lambda_l2': 100, 'min_gain_to_split': 1.8438717065861643, 'bagging_fraction': 0.7, 'bagging_freq': 1, 'feature_fraction': 0.9}. Best is trial 69 with value: 1141.5332692024888.\u001b[0m\n",
            "\u001b[32m[I 2021-11-09 08:42:58,443]\u001b[0m Trial 70 finished with value: 1138.9512485107552 and parameters: {'objective': 'regression', 'n_estimators': 10000, 'learning_rate': 0.2401280318399675, 'num_leaves': 580, 'max_depth': 10, 'min_data_in_leaf': 500, 'lambda_l1': 30, 'lambda_l2': 100, 'min_gain_to_split': 2.02211617691633, 'bagging_fraction': 0.7, 'bagging_freq': 1, 'feature_fraction': 0.9}. Best is trial 70 with value: 1138.9512485107552.\u001b[0m\n",
            "\u001b[32m[I 2021-11-09 08:42:58,532]\u001b[0m Trial 71 finished with value: 1143.4879454261809 and parameters: {'objective': 'regression', 'n_estimators': 10000, 'learning_rate': 0.23646619592285695, 'num_leaves': 520, 'max_depth': 11, 'min_data_in_leaf': 400, 'lambda_l1': 30, 'lambda_l2': 100, 'min_gain_to_split': 2.0199247866265897, 'bagging_fraction': 0.7, 'bagging_freq': 1, 'feature_fraction': 0.9}. Best is trial 70 with value: 1138.9512485107552.\u001b[0m\n",
            "\u001b[32m[I 2021-11-09 08:42:58,621]\u001b[0m Trial 72 finished with value: 1141.3442028468767 and parameters: {'objective': 'regression', 'n_estimators': 10000, 'learning_rate': 0.23513224236219038, 'num_leaves': 560, 'max_depth': 11, 'min_data_in_leaf': 500, 'lambda_l1': 30, 'lambda_l2': 100, 'min_gain_to_split': 1.8819756736261373, 'bagging_fraction': 0.7, 'bagging_freq': 1, 'feature_fraction': 0.9}. Best is trial 70 with value: 1138.9512485107552.\u001b[0m\n",
            "\u001b[32m[I 2021-11-09 08:42:58,707]\u001b[0m Trial 73 finished with value: 1145.0425813757868 and parameters: {'objective': 'regression', 'n_estimators': 10000, 'learning_rate': 0.23569980367203078, 'num_leaves': 560, 'max_depth': 11, 'min_data_in_leaf': 400, 'lambda_l1': 30, 'lambda_l2': 100, 'min_gain_to_split': 2.118528894153684, 'bagging_fraction': 0.6000000000000001, 'bagging_freq': 1, 'feature_fraction': 0.9}. Best is trial 70 with value: 1138.9512485107552.\u001b[0m\n",
            "\u001b[32m[I 2021-11-09 08:42:58,795]\u001b[0m Trial 74 finished with value: 1148.7911439998018 and parameters: {'objective': 'regression', 'n_estimators': 10000, 'learning_rate': 0.2365804628410184, 'num_leaves': 580, 'max_depth': 11, 'min_data_in_leaf': 500, 'lambda_l1': 30, 'lambda_l2': 100, 'min_gain_to_split': 1.879135717219453, 'bagging_fraction': 0.6000000000000001, 'bagging_freq': 1, 'feature_fraction': 0.9}. Best is trial 70 with value: 1138.9512485107552.\u001b[0m\n",
            "\u001b[32m[I 2021-11-09 08:42:58,881]\u001b[0m Trial 75 finished with value: 1147.7318142708266 and parameters: {'objective': 'regression', 'n_estimators': 10000, 'learning_rate': 0.23833697572398665, 'num_leaves': 560, 'max_depth': 11, 'min_data_in_leaf': 400, 'lambda_l1': 30, 'lambda_l2': 100, 'min_gain_to_split': 1.8755814867967633, 'bagging_fraction': 0.6000000000000001, 'bagging_freq': 1, 'feature_fraction': 0.9}. Best is trial 70 with value: 1138.9512485107552.\u001b[0m\n",
            "\u001b[32m[I 2021-11-09 08:42:58,974]\u001b[0m Trial 76 finished with value: 1197.9451354531982 and parameters: {'objective': 'regression', 'n_estimators': 10000, 'learning_rate': 0.24122184222195125, 'num_leaves': 500, 'max_depth': 11, 'min_data_in_leaf': 1200, 'lambda_l1': 30, 'lambda_l2': 100, 'min_gain_to_split': 1.8933718695335608, 'bagging_fraction': 0.6000000000000001, 'bagging_freq': 1, 'feature_fraction': 0.9}. Best is trial 70 with value: 1138.9512485107552.\u001b[0m\n",
            "\u001b[32m[I 2021-11-09 08:42:59,040]\u001b[0m Trial 77 finished with value: 1847.238992880803 and parameters: {'objective': 'regression', 'n_estimators': 10000, 'learning_rate': 0.23228325667310012, 'num_leaves': 600, 'max_depth': 11, 'min_data_in_leaf': 4800, 'lambda_l1': 30, 'lambda_l2': 100, 'min_gain_to_split': 1.3970870003778346, 'bagging_fraction': 0.6000000000000001, 'bagging_freq': 1, 'feature_fraction': 0.9}. Best is trial 70 with value: 1138.9512485107552.\u001b[0m\n",
            "\u001b[32m[I 2021-11-09 08:42:59,111]\u001b[0m Trial 78 finished with value: 1847.238992880803 and parameters: {'objective': 'regression', 'n_estimators': 10000, 'learning_rate': 0.2629813327393378, 'num_leaves': 520, 'max_depth': 12, 'min_data_in_leaf': 6600, 'lambda_l1': 40, 'lambda_l2': 100, 'min_gain_to_split': 3.0520309418540243, 'bagging_fraction': 0.6000000000000001, 'bagging_freq': 1, 'feature_fraction': 0.9}. Best is trial 70 with value: 1138.9512485107552.\u001b[0m\n",
            "\u001b[32m[I 2021-11-09 08:42:59,196]\u001b[0m Trial 79 finished with value: 1847.238992880803 and parameters: {'objective': 'regression', 'n_estimators': 10000, 'learning_rate': 0.2238110431418451, 'num_leaves': 580, 'max_depth': 11, 'min_data_in_leaf': 7800, 'lambda_l1': 20, 'lambda_l2': 100, 'min_gain_to_split': 0.39590473296333295, 'bagging_fraction': 0.6000000000000001, 'bagging_freq': 1, 'feature_fraction': 0.9}. Best is trial 70 with value: 1138.9512485107552.\u001b[0m\n",
            "\u001b[32m[I 2021-11-09 08:42:59,271]\u001b[0m Trial 80 finished with value: 1620.6486944430753 and parameters: {'objective': 'regression', 'n_estimators': 10000, 'learning_rate': 0.26515277524176484, 'num_leaves': 360, 'max_depth': 10, 'min_data_in_leaf': 1700, 'lambda_l1': 45, 'lambda_l2': 100, 'min_gain_to_split': 2.948694040785206, 'bagging_fraction': 0.6000000000000001, 'bagging_freq': 1, 'feature_fraction': 0.9}. Best is trial 70 with value: 1138.9512485107552.\u001b[0m\n",
            "\u001b[32m[I 2021-11-09 08:42:59,364]\u001b[0m Trial 81 finished with value: 1148.8096184396436 and parameters: {'objective': 'regression', 'n_estimators': 10000, 'learning_rate': 0.23552400907819818, 'num_leaves': 300, 'max_depth': 10, 'min_data_in_leaf': 400, 'lambda_l1': 30, 'lambda_l2': 95, 'min_gain_to_split': 2.48696378560202, 'bagging_fraction': 0.6000000000000001, 'bagging_freq': 1, 'feature_fraction': 0.9}. Best is trial 70 with value: 1138.9512485107552.\u001b[0m\n",
            "\u001b[32m[I 2021-11-09 08:42:59,451]\u001b[0m Trial 82 finished with value: 1151.5120582144802 and parameters: {'objective': 'regression', 'n_estimators': 10000, 'learning_rate': 0.24105445483537188, 'num_leaves': 780, 'max_depth': 10, 'min_data_in_leaf': 400, 'lambda_l1': 30, 'lambda_l2': 95, 'min_gain_to_split': 2.4102762411092677, 'bagging_fraction': 0.6000000000000001, 'bagging_freq': 1, 'feature_fraction': 0.9}. Best is trial 70 with value: 1138.9512485107552.\u001b[0m\n",
            "\u001b[32m[I 2021-11-09 08:42:59,542]\u001b[0m Trial 83 finished with value: 1162.1328739128226 and parameters: {'objective': 'regression', 'n_estimators': 10000, 'learning_rate': 0.20861452572842215, 'num_leaves': 780, 'max_depth': 10, 'min_data_in_leaf': 400, 'lambda_l1': 40, 'lambda_l2': 95, 'min_gain_to_split': 2.1742580796218016, 'bagging_fraction': 0.6000000000000001, 'bagging_freq': 1, 'feature_fraction': 0.9}. Best is trial 70 with value: 1138.9512485107552.\u001b[0m\n",
            "\u001b[32m[I 2021-11-09 08:42:59,633]\u001b[0m Trial 84 finished with value: 1144.9399694810222 and parameters: {'objective': 'regression', 'n_estimators': 10000, 'learning_rate': 0.2473890201803629, 'num_leaves': 460, 'max_depth': 12, 'min_data_in_leaf': 400, 'lambda_l1': 35, 'lambda_l2': 95, 'min_gain_to_split': 1.1172681121834307, 'bagging_fraction': 0.6000000000000001, 'bagging_freq': 1, 'feature_fraction': 0.9}. Best is trial 70 with value: 1138.9512485107552.\u001b[0m\n",
            "\u001b[32m[I 2021-11-09 08:42:59,702]\u001b[0m Trial 85 finished with value: 1847.238992880803 and parameters: {'objective': 'regression', 'n_estimators': 10000, 'learning_rate': 0.2476547744802102, 'num_leaves': 320, 'max_depth': 12, 'min_data_in_leaf': 4500, 'lambda_l1': 90, 'lambda_l2': 100, 'min_gain_to_split': 1.2159479159403117, 'bagging_fraction': 0.6000000000000001, 'bagging_freq': 1, 'feature_fraction': 0.9}. Best is trial 70 with value: 1138.9512485107552.\u001b[0m\n",
            "\u001b[32m[I 2021-11-09 08:42:59,799]\u001b[0m Trial 86 finished with value: 1202.5184682949266 and parameters: {'objective': 'regression', 'n_estimators': 10000, 'learning_rate': 0.21930318832911005, 'num_leaves': 480, 'max_depth': 11, 'min_data_in_leaf': 1100, 'lambda_l1': 35, 'lambda_l2': 100, 'min_gain_to_split': 3.5560546099280876, 'bagging_fraction': 0.6000000000000001, 'bagging_freq': 1, 'feature_fraction': 0.9}. Best is trial 70 with value: 1138.9512485107552.\u001b[0m\n",
            "\u001b[32m[I 2021-11-09 08:42:59,891]\u001b[0m Trial 87 finished with value: 1130.2360032614752 and parameters: {'objective': 'regression', 'n_estimators': 10000, 'learning_rate': 0.22923268216107173, 'num_leaves': 580, 'max_depth': 12, 'min_data_in_leaf': 400, 'lambda_l1': 20, 'lambda_l2': 95, 'min_gain_to_split': 0.6603205026072256, 'bagging_fraction': 0.6000000000000001, 'bagging_freq': 1, 'feature_fraction': 0.9}. Best is trial 87 with value: 1130.2360032614752.\u001b[0m\n",
            "\u001b[32m[I 2021-11-09 08:42:59,991]\u001b[0m Trial 88 finished with value: 1141.519889550111 and parameters: {'objective': 'regression', 'n_estimators': 10000, 'learning_rate': 0.23080591181242535, 'num_leaves': 560, 'max_depth': 12, 'min_data_in_leaf': 800, 'lambda_l1': 20, 'lambda_l2': 95, 'min_gain_to_split': 0.8754864894446333, 'bagging_fraction': 0.7, 'bagging_freq': 1, 'feature_fraction': 0.9}. Best is trial 87 with value: 1130.2360032614752.\u001b[0m\n",
            "\u001b[32m[I 2021-11-09 08:43:00,087]\u001b[0m Trial 89 finished with value: 1146.416192703153 and parameters: {'objective': 'regression', 'n_estimators': 10000, 'learning_rate': 0.22301299900761173, 'num_leaves': 460, 'max_depth': 12, 'min_data_in_leaf': 900, 'lambda_l1': 15, 'lambda_l2': 15, 'min_gain_to_split': 0.6657572594414283, 'bagging_fraction': 0.7, 'bagging_freq': 1, 'feature_fraction': 0.9}. Best is trial 87 with value: 1130.2360032614752.\u001b[0m\n",
            "\u001b[32m[I 2021-11-09 08:43:00,192]\u001b[0m Trial 90 finished with value: 1140.545181200992 and parameters: {'objective': 'regression', 'n_estimators': 10000, 'learning_rate': 0.22369400724593475, 'num_leaves': 440, 'max_depth': 12, 'min_data_in_leaf': 800, 'lambda_l1': 15, 'lambda_l2': 10, 'min_gain_to_split': 0.4920087160483556, 'bagging_fraction': 0.7, 'bagging_freq': 1, 'feature_fraction': 0.9}. Best is trial 87 with value: 1130.2360032614752.\u001b[0m\n",
            "\u001b[32m[I 2021-11-09 08:43:00,297]\u001b[0m Trial 91 finished with value: 1136.8860190745115 and parameters: {'objective': 'regression', 'n_estimators': 10000, 'learning_rate': 0.22782596884925332, 'num_leaves': 440, 'max_depth': 12, 'min_data_in_leaf': 800, 'lambda_l1': 15, 'lambda_l2': 20, 'min_gain_to_split': 0.6183846476681126, 'bagging_fraction': 0.7, 'bagging_freq': 1, 'feature_fraction': 0.9}. Best is trial 87 with value: 1130.2360032614752.\u001b[0m\n",
            "\u001b[32m[I 2021-11-09 08:43:00,435]\u001b[0m Trial 92 finished with value: 1183.024072874246 and parameters: {'objective': 'regression', 'n_estimators': 10000, 'learning_rate': 0.20759555753680564, 'num_leaves': 640, 'max_depth': 12, 'min_data_in_leaf': 1500, 'lambda_l1': 20, 'lambda_l2': 10, 'min_gain_to_split': 0.08843138820274055, 'bagging_fraction': 0.7, 'bagging_freq': 1, 'feature_fraction': 0.9}. Best is trial 87 with value: 1130.2360032614752.\u001b[0m\n",
            "\u001b[32m[I 2021-11-09 08:43:00,535]\u001b[0m Trial 93 finished with value: 1159.9243838093855 and parameters: {'objective': 'regression', 'n_estimators': 10000, 'learning_rate': 0.21548150824243117, 'num_leaves': 380, 'max_depth': 12, 'min_data_in_leaf': 1200, 'lambda_l1': 15, 'lambda_l2': 30, 'min_gain_to_split': 1.2016209170489778, 'bagging_fraction': 0.7, 'bagging_freq': 1, 'feature_fraction': 0.9}. Best is trial 87 with value: 1130.2360032614752.\u001b[0m\n",
            "\u001b[32m[I 2021-11-09 08:43:00,635]\u001b[0m Trial 94 finished with value: 1136.507497696213 and parameters: {'objective': 'regression', 'n_estimators': 10000, 'learning_rate': 0.2459584814923938, 'num_leaves': 920, 'max_depth': 12, 'min_data_in_leaf': 800, 'lambda_l1': 10, 'lambda_l2': 10, 'min_gain_to_split': 0.8155067062466119, 'bagging_fraction': 0.7, 'bagging_freq': 1, 'feature_fraction': 0.9}. Best is trial 87 with value: 1130.2360032614752.\u001b[0m\n",
            "\u001b[32m[I 2021-11-09 08:43:00,732]\u001b[0m Trial 95 finished with value: 1139.2032497504708 and parameters: {'objective': 'regression', 'n_estimators': 10000, 'learning_rate': 0.2494726203404655, 'num_leaves': 960, 'max_depth': 12, 'min_data_in_leaf': 800, 'lambda_l1': 10, 'lambda_l2': 5, 'min_gain_to_split': 0.9350442963435558, 'bagging_fraction': 0.7, 'bagging_freq': 1, 'feature_fraction': 0.9}. Best is trial 87 with value: 1130.2360032614752.\u001b[0m\n",
            "\u001b[32m[I 2021-11-09 08:43:00,832]\u001b[0m Trial 96 finished with value: 1137.0396865659704 and parameters: {'objective': 'regression', 'n_estimators': 10000, 'learning_rate': 0.22651220890796814, 'num_leaves': 1000, 'max_depth': 12, 'min_data_in_leaf': 800, 'lambda_l1': 10, 'lambda_l2': 5, 'min_gain_to_split': 0.7820651775144811, 'bagging_fraction': 0.7, 'bagging_freq': 1, 'feature_fraction': 0.9}. Best is trial 87 with value: 1130.2360032614752.\u001b[0m\n",
            "\u001b[32m[I 2021-11-09 08:43:00,906]\u001b[0m Trial 97 finished with value: 1847.238992880803 and parameters: {'objective': 'regression', 'n_estimators': 10000, 'learning_rate': 0.1979429676780496, 'num_leaves': 960, 'max_depth': 12, 'min_data_in_leaf': 2100, 'lambda_l1': 10, 'lambda_l2': 5, 'min_gain_to_split': 0.7254267293316232, 'bagging_fraction': 0.7, 'bagging_freq': 1, 'feature_fraction': 0.30000000000000004}. Best is trial 87 with value: 1130.2360032614752.\u001b[0m\n",
            "\u001b[32m[I 2021-11-09 08:43:00,982]\u001b[0m Trial 98 finished with value: 1847.238992880803 and parameters: {'objective': 'regression', 'n_estimators': 10000, 'learning_rate': 0.22865765978134403, 'num_leaves': 1040, 'max_depth': 12, 'min_data_in_leaf': 2400, 'lambda_l1': 10, 'lambda_l2': 10, 'min_gain_to_split': 1.4870488521409317, 'bagging_fraction': 0.7, 'bagging_freq': 1, 'feature_fraction': 0.9}. Best is trial 87 with value: 1130.2360032614752.\u001b[0m\n",
            "\u001b[32m[I 2021-11-09 08:43:01,101]\u001b[0m Trial 99 finished with value: 1206.683928157586 and parameters: {'objective': 'regression', 'n_estimators': 10000, 'learning_rate': 0.2283643084587227, 'num_leaves': 1260, 'max_depth': 12, 'min_data_in_leaf': 1800, 'lambda_l1': 5, 'lambda_l2': 5, 'min_gain_to_split': 0.2831743097764131, 'bagging_fraction': 0.7, 'bagging_freq': 1, 'feature_fraction': 0.9}. Best is trial 87 with value: 1130.2360032614752.\u001b[0m\n"
          ]
        }
      ]
    },
    {
      "cell_type": "code",
      "metadata": {
        "colab": {
          "base_uri": "https://localhost:8080/"
        },
        "id": "Gw4rZ2SfuiPn",
        "outputId": "2286b4f5-4210-4a4d-c1a8-6a5fc75452f8"
      },
      "source": [
        "lgbm_params = study.best_trial.params\n",
        "lgbm_params"
      ],
      "execution_count": null,
      "outputs": [
        {
          "output_type": "execute_result",
          "data": {
            "text/plain": [
              "{'bagging_fraction': 0.6000000000000001,\n",
              " 'bagging_freq': 1,\n",
              " 'feature_fraction': 0.9,\n",
              " 'lambda_l1': 20,\n",
              " 'lambda_l2': 95,\n",
              " 'learning_rate': 0.22923268216107173,\n",
              " 'max_depth': 12,\n",
              " 'min_data_in_leaf': 400,\n",
              " 'min_gain_to_split': 0.6603205026072256,\n",
              " 'n_estimators': 10000,\n",
              " 'num_leaves': 580,\n",
              " 'objective': 'regression'}"
            ]
          },
          "metadata": {},
          "execution_count": 273
        }
      ]
    },
    {
      "cell_type": "code",
      "metadata": {
        "id": "FkoAcp31zzvt"
      },
      "source": [
        "lgbm_params = {'bagging_fraction': 0.6000000000000001,\n",
        " 'bagging_freq': 1,\n",
        " 'feature_fraction': 0.9,\n",
        " 'lambda_l1': 20,\n",
        " 'lambda_l2': 95,\n",
        " 'learning_rate': 0.22923268216107173,\n",
        " 'max_depth': 12,\n",
        " 'min_data_in_leaf': 400,\n",
        " 'min_gain_to_split': 0.6603205026072256,\n",
        " 'n_estimators': 10000,\n",
        " 'num_leaves': 580,\n",
        " 'objective': 'regression'}"
      ],
      "execution_count": null,
      "outputs": []
    },
    {
      "cell_type": "markdown",
      "metadata": {
        "id": "Gn-GUzyurnkv"
      },
      "source": [
        "### CATBOOST"
      ]
    },
    {
      "cell_type": "code",
      "metadata": {
        "id": "F9PwYJYurr5P"
      },
      "source": [
        "#catboost\n",
        "\n",
        "def objective(trial):\n",
        "    \n",
        "    params = {#'loss_function':'Logloss',              \n",
        "              #'eval_metric':'Accuracy',\n",
        "              'task_type' : trial.suggest_categorical(\"task_type\",[\"GPU\"]),\n",
        "              'boosting_type': trial.suggest_categorical(\"boosting_type\", [\"Ordered\", \"Plain\"]),            \n",
        "              'bootstrap_type':trial.suggest_categorical(\"bootstrap_type\",[\"Bernoulli\"]), #\"MVS\"]),#\"Bayesian\" \n",
        "              'iterations':trial.suggest_categorical(\"iterations\", [10000]),\n",
        "              'od_wait':trial.suggest_int('od_wait', 500, 2000),\n",
        "              'random_strength': trial.suggest_uniform('random_strength',10,50),                           \n",
        "              'learning_rate' : trial.suggest_uniform('learning_rate',0.01,1.0),\n",
        "              'reg_lambda': trial.suggest_uniform('reg_lambda',1e-5,100),\n",
        "              'subsample': trial.suggest_uniform('subsample',0,1),\n",
        "              'depth': trial.suggest_int('depth',1,10),\n",
        "              'min_data_in_leaf': trial.suggest_int('min_data_in_leaf',1,30),\n",
        "              'leaf_estimation_iterations': trial.suggest_int('leaf_estimation_iterations',1,15),\n",
        "               }\n",
        "\n",
        "    model = CatBoostRegressor(**params)  \n",
        "\n",
        "    model.fit(x_train_2,y_train,eval_set=[(x_val_2,y_val)],verbose=False,cat_features = cater.to_list(),early_stopping_rounds=100)\n",
        "\n",
        "    y_preds = model.predict(x_val_2)   \n",
        "    error = rmse(y_val, y_preds)\n",
        "\n",
        "    return error"
      ],
      "execution_count": null,
      "outputs": []
    },
    {
      "cell_type": "code",
      "metadata": {
        "colab": {
          "base_uri": "https://localhost:8080/"
        },
        "id": "87TY_w6gsSFa",
        "outputId": "f514c2e4-f8a3-4c37-917a-2ecb0e7358b7"
      },
      "source": [
        "study = optuna.create_study(direction='minimize')\n",
        "study.optimize(objective, n_trials=50)"
      ],
      "execution_count": null,
      "outputs": [
        {
          "output_type": "stream",
          "name": "stderr",
          "text": [
            "\u001b[32m[I 2021-11-09 08:43:21,481]\u001b[0m A new study created in memory with name: no-name-c6d75fca-15e7-4f36-80b5-2984da7d1a21\u001b[0m\n",
            "Custom logger is already specified. Specify more than one logger at same time is not thread safe.\u001b[32m[I 2021-11-09 08:43:26,096]\u001b[0m Trial 0 finished with value: 1120.974480854994 and parameters: {'task_type': 'GPU', 'boosting_type': 'Plain', 'bootstrap_type': 'Bernoulli', 'iterations': 10000, 'od_wait': 1935, 'random_strength': 33.54088173730486, 'learning_rate': 0.8928828864555391, 'reg_lambda': 62.824799849582234, 'subsample': 0.8388095469685007, 'depth': 3, 'min_data_in_leaf': 25, 'leaf_estimation_iterations': 10}. Best is trial 0 with value: 1120.974480854994.\u001b[0m\n",
            "\u001b[32m[I 2021-11-09 08:43:45,581]\u001b[0m Trial 1 finished with value: 1126.0048483256264 and parameters: {'task_type': 'GPU', 'boosting_type': 'Ordered', 'bootstrap_type': 'Bernoulli', 'iterations': 10000, 'od_wait': 1184, 'random_strength': 26.13742278954652, 'learning_rate': 0.030699148003575927, 'reg_lambda': 66.52569470584515, 'subsample': 0.6730489499524963, 'depth': 6, 'min_data_in_leaf': 27, 'leaf_estimation_iterations': 4}. Best is trial 0 with value: 1120.974480854994.\u001b[0m\n",
            "\u001b[32m[I 2021-11-09 08:44:00,418]\u001b[0m Trial 2 finished with value: 1121.9545020209778 and parameters: {'task_type': 'GPU', 'boosting_type': 'Ordered', 'bootstrap_type': 'Bernoulli', 'iterations': 10000, 'od_wait': 1493, 'random_strength': 32.59058298076391, 'learning_rate': 0.17335075783904078, 'reg_lambda': 29.234583204214093, 'subsample': 0.550509573791871, 'depth': 4, 'min_data_in_leaf': 27, 'leaf_estimation_iterations': 9}. Best is trial 0 with value: 1120.974480854994.\u001b[0m\n",
            "\u001b[32m[I 2021-11-09 08:44:08,840]\u001b[0m Trial 3 finished with value: 1152.7286443140308 and parameters: {'task_type': 'GPU', 'boosting_type': 'Plain', 'bootstrap_type': 'Bernoulli', 'iterations': 10000, 'od_wait': 1969, 'random_strength': 34.632209122265955, 'learning_rate': 0.9546817965857956, 'reg_lambda': 44.117121000802314, 'subsample': 0.013651271638267293, 'depth': 9, 'min_data_in_leaf': 1, 'leaf_estimation_iterations': 9}. Best is trial 0 with value: 1120.974480854994.\u001b[0m\n",
            "\u001b[32m[I 2021-11-09 08:44:19,152]\u001b[0m Trial 4 finished with value: 1126.2171383061952 and parameters: {'task_type': 'GPU', 'boosting_type': 'Ordered', 'bootstrap_type': 'Bernoulli', 'iterations': 10000, 'od_wait': 1691, 'random_strength': 44.141224299254496, 'learning_rate': 0.16263777311604516, 'reg_lambda': 66.0516706445787, 'subsample': 0.0422735233709266, 'depth': 3, 'min_data_in_leaf': 4, 'leaf_estimation_iterations': 12}. Best is trial 0 with value: 1120.974480854994.\u001b[0m\n",
            "\u001b[32m[I 2021-11-09 08:44:27,002]\u001b[0m Trial 5 finished with value: 1133.572403917127 and parameters: {'task_type': 'GPU', 'boosting_type': 'Ordered', 'bootstrap_type': 'Bernoulli', 'iterations': 10000, 'od_wait': 561, 'random_strength': 27.481908179237134, 'learning_rate': 0.8465920120018252, 'reg_lambda': 31.85067297175966, 'subsample': 0.9398841476300535, 'depth': 8, 'min_data_in_leaf': 23, 'leaf_estimation_iterations': 8}. Best is trial 0 with value: 1120.974480854994.\u001b[0m\n",
            "\u001b[32m[I 2021-11-09 08:44:44,541]\u001b[0m Trial 6 finished with value: 1129.2141019246724 and parameters: {'task_type': 'GPU', 'boosting_type': 'Ordered', 'bootstrap_type': 'Bernoulli', 'iterations': 10000, 'od_wait': 838, 'random_strength': 36.07269534234169, 'learning_rate': 0.4278112693668335, 'reg_lambda': 63.128935947459915, 'subsample': 0.4848555093345469, 'depth': 10, 'min_data_in_leaf': 2, 'leaf_estimation_iterations': 13}. Best is trial 0 with value: 1120.974480854994.\u001b[0m\n",
            "\u001b[32m[I 2021-11-09 08:44:59,362]\u001b[0m Trial 7 finished with value: 1130.661547951124 and parameters: {'task_type': 'GPU', 'boosting_type': 'Plain', 'bootstrap_type': 'Bernoulli', 'iterations': 10000, 'od_wait': 1227, 'random_strength': 16.799434169083636, 'learning_rate': 0.03297532157230651, 'reg_lambda': 88.1715721921121, 'subsample': 0.2751348341594737, 'depth': 8, 'min_data_in_leaf': 14, 'leaf_estimation_iterations': 14}. Best is trial 0 with value: 1120.974480854994.\u001b[0m\n",
            "\u001b[32m[I 2021-11-09 08:45:11,074]\u001b[0m Trial 8 finished with value: 1129.4443677016284 and parameters: {'task_type': 'GPU', 'boosting_type': 'Ordered', 'bootstrap_type': 'Bernoulli', 'iterations': 10000, 'od_wait': 1529, 'random_strength': 37.16859094158113, 'learning_rate': 0.4933783831051555, 'reg_lambda': 77.1262410066879, 'subsample': 0.5093988962224175, 'depth': 10, 'min_data_in_leaf': 14, 'leaf_estimation_iterations': 3}. Best is trial 0 with value: 1120.974480854994.\u001b[0m\n",
            "\u001b[32m[I 2021-11-09 08:45:17,674]\u001b[0m Trial 9 finished with value: 1118.61729054591 and parameters: {'task_type': 'GPU', 'boosting_type': 'Plain', 'bootstrap_type': 'Bernoulli', 'iterations': 10000, 'od_wait': 655, 'random_strength': 21.639451205253927, 'learning_rate': 0.8025548920761686, 'reg_lambda': 59.17202056633792, 'subsample': 0.3985360743220179, 'depth': 9, 'min_data_in_leaf': 8, 'leaf_estimation_iterations': 5}. Best is trial 9 with value: 1118.61729054591.\u001b[0m\n",
            "\u001b[32m[I 2021-11-09 08:45:21,462]\u001b[0m Trial 10 finished with value: 1129.0786212787596 and parameters: {'task_type': 'GPU', 'boosting_type': 'Plain', 'bootstrap_type': 'Bernoulli', 'iterations': 10000, 'od_wait': 855, 'random_strength': 14.550902626444277, 'learning_rate': 0.7107228297564695, 'reg_lambda': 8.345505632326926, 'subsample': 0.2686761571301608, 'depth': 6, 'min_data_in_leaf': 9, 'leaf_estimation_iterations': 1}. Best is trial 9 with value: 1118.61729054591.\u001b[0m\n",
            "\u001b[32m[I 2021-11-09 08:45:26,343]\u001b[0m Trial 11 finished with value: 1117.8804788225914 and parameters: {'task_type': 'GPU', 'boosting_type': 'Plain', 'bootstrap_type': 'Bernoulli', 'iterations': 10000, 'od_wait': 1957, 'random_strength': 21.445501770237456, 'learning_rate': 0.7333880174060903, 'reg_lambda': 97.9818379240273, 'subsample': 0.9307128954251586, 'depth': 1, 'min_data_in_leaf': 20, 'leaf_estimation_iterations': 6}. Best is trial 11 with value: 1117.8804788225914.\u001b[0m\n",
            "\u001b[32m[I 2021-11-09 08:45:34,842]\u001b[0m Trial 12 finished with value: 1119.6723988294907 and parameters: {'task_type': 'GPU', 'boosting_type': 'Plain', 'bootstrap_type': 'Bernoulli', 'iterations': 10000, 'od_wait': 531, 'random_strength': 19.75647541527839, 'learning_rate': 0.7007991910053673, 'reg_lambda': 98.81646511516064, 'subsample': 0.7424083806494803, 'depth': 1, 'min_data_in_leaf': 19, 'leaf_estimation_iterations': 6}. Best is trial 11 with value: 1117.8804788225914.\u001b[0m\n",
            "\u001b[32m[I 2021-11-09 08:45:39,030]\u001b[0m Trial 13 finished with value: 1121.4055838703914 and parameters: {'task_type': 'GPU', 'boosting_type': 'Plain', 'bootstrap_type': 'Bernoulli', 'iterations': 10000, 'od_wait': 968, 'random_strength': 10.004202770143177, 'learning_rate': 0.679561713646376, 'reg_lambda': 99.53392364478168, 'subsample': 0.9928331034977214, 'depth': 2, 'min_data_in_leaf': 8, 'leaf_estimation_iterations': 6}. Best is trial 11 with value: 1117.8804788225914.\u001b[0m\n",
            "\u001b[32m[I 2021-11-09 08:45:43,842]\u001b[0m Trial 14 finished with value: 1134.830449902894 and parameters: {'task_type': 'GPU', 'boosting_type': 'Plain', 'bootstrap_type': 'Bernoulli', 'iterations': 10000, 'od_wait': 1703, 'random_strength': 22.233971320460228, 'learning_rate': 0.7849454821906912, 'reg_lambda': 6.426440272100436, 'subsample': 0.32694076849571885, 'depth': 5, 'min_data_in_leaf': 19, 'leaf_estimation_iterations': 6}. Best is trial 11 with value: 1117.8804788225914.\u001b[0m\n",
            "\u001b[32m[I 2021-11-09 08:45:48,996]\u001b[0m Trial 15 finished with value: 1131.3971856266376 and parameters: {'task_type': 'GPU', 'boosting_type': 'Plain', 'bootstrap_type': 'Bernoulli', 'iterations': 10000, 'od_wait': 1055, 'random_strength': 23.44625562431061, 'learning_rate': 0.5987307778168294, 'reg_lambda': 84.61404186386537, 'subsample': 0.390193337599014, 'depth': 7, 'min_data_in_leaf': 8, 'leaf_estimation_iterations': 4}. Best is trial 11 with value: 1117.8804788225914.\u001b[0m\n",
            "\u001b[32m[I 2021-11-09 08:45:52,726]\u001b[0m Trial 16 finished with value: 1122.0994016368193 and parameters: {'task_type': 'GPU', 'boosting_type': 'Plain', 'bootstrap_type': 'Bernoulli', 'iterations': 10000, 'od_wait': 710, 'random_strength': 13.001109732889859, 'learning_rate': 0.9899409585295262, 'reg_lambda': 46.39230282829799, 'subsample': 0.6366585630516624, 'depth': 1, 'min_data_in_leaf': 18, 'leaf_estimation_iterations': 1}. Best is trial 11 with value: 1117.8804788225914.\u001b[0m\n",
            "\u001b[32m[I 2021-11-09 08:45:57,056]\u001b[0m Trial 17 finished with value: 1122.7836040561742 and parameters: {'task_type': 'GPU', 'boosting_type': 'Plain', 'bootstrap_type': 'Bernoulli', 'iterations': 10000, 'od_wait': 1440, 'random_strength': 18.962798496955696, 'learning_rate': 0.401950401749542, 'reg_lambda': 22.365247955460266, 'subsample': 0.8471876033224026, 'depth': 5, 'min_data_in_leaf': 30, 'leaf_estimation_iterations': 7}. Best is trial 11 with value: 1117.8804788225914.\u001b[0m\n",
            "\u001b[32m[I 2021-11-09 08:46:01,955]\u001b[0m Trial 18 finished with value: 1123.0537103751283 and parameters: {'task_type': 'GPU', 'boosting_type': 'Plain', 'bootstrap_type': 'Bernoulli', 'iterations': 10000, 'od_wait': 1785, 'random_strength': 28.635541689159012, 'learning_rate': 0.5959340239758327, 'reg_lambda': 52.79013674815445, 'subsample': 0.14968749629353667, 'depth': 7, 'min_data_in_leaf': 11, 'leaf_estimation_iterations': 4}. Best is trial 11 with value: 1117.8804788225914.\u001b[0m\n",
            "\u001b[32m[I 2021-11-09 08:46:05,401]\u001b[0m Trial 19 finished with value: 1128.5357394971834 and parameters: {'task_type': 'GPU', 'boosting_type': 'Plain', 'bootstrap_type': 'Bernoulli', 'iterations': 10000, 'od_wait': 1341, 'random_strength': 42.01574921945577, 'learning_rate': 0.7978783348865607, 'reg_lambda': 78.88737591664568, 'subsample': 0.40790682999214045, 'depth': 4, 'min_data_in_leaf': 22, 'leaf_estimation_iterations': 2}. Best is trial 11 with value: 1117.8804788225914.\u001b[0m\n",
            "\u001b[32m[I 2021-11-09 08:46:11,866]\u001b[0m Trial 20 finished with value: 1122.2513620011914 and parameters: {'task_type': 'GPU', 'boosting_type': 'Plain', 'bootstrap_type': 'Bernoulli', 'iterations': 10000, 'od_wait': 1061, 'random_strength': 23.911365074734015, 'learning_rate': 0.5889608054323409, 'reg_lambda': 53.951681927935184, 'subsample': 0.1670446001222349, 'depth': 8, 'min_data_in_leaf': 5, 'leaf_estimation_iterations': 11}. Best is trial 11 with value: 1117.8804788225914.\u001b[0m\n",
            "\u001b[32m[I 2021-11-09 08:46:14,831]\u001b[0m Trial 21 finished with value: 1121.0680042380877 and parameters: {'task_type': 'GPU', 'boosting_type': 'Plain', 'bootstrap_type': 'Bernoulli', 'iterations': 10000, 'od_wait': 641, 'random_strength': 20.171627614778032, 'learning_rate': 0.7200368843194174, 'reg_lambda': 98.06002045206412, 'subsample': 0.7513326007844479, 'depth': 2, 'min_data_in_leaf': 18, 'leaf_estimation_iterations': 6}. Best is trial 11 with value: 1117.8804788225914.\u001b[0m\n",
            "\u001b[32m[I 2021-11-09 08:46:20,161]\u001b[0m Trial 22 finished with value: 1119.744205776249 and parameters: {'task_type': 'GPU', 'boosting_type': 'Plain', 'bootstrap_type': 'Bernoulli', 'iterations': 10000, 'od_wait': 512, 'random_strength': 49.122383248910765, 'learning_rate': 0.890690325411873, 'reg_lambda': 92.48050555877931, 'subsample': 0.8572399028013815, 'depth': 1, 'min_data_in_leaf': 21, 'leaf_estimation_iterations': 5}. Best is trial 11 with value: 1117.8804788225914.\u001b[0m\n",
            "\u001b[32m[I 2021-11-09 08:46:24,443]\u001b[0m Trial 23 finished with value: 1121.9379914444135 and parameters: {'task_type': 'GPU', 'boosting_type': 'Plain', 'bootstrap_type': 'Bernoulli', 'iterations': 10000, 'od_wait': 715, 'random_strength': 17.636463370282335, 'learning_rate': 0.6576629472644313, 'reg_lambda': 78.21400440292206, 'subsample': 0.7343906372033467, 'depth': 2, 'min_data_in_leaf': 16, 'leaf_estimation_iterations': 7}. Best is trial 11 with value: 1117.8804788225914.\u001b[0m\n",
            "\u001b[32m[I 2021-11-09 08:46:31,950]\u001b[0m Trial 24 finished with value: 1119.3209821238638 and parameters: {'task_type': 'GPU', 'boosting_type': 'Plain', 'bootstrap_type': 'Bernoulli', 'iterations': 10000, 'od_wait': 825, 'random_strength': 21.047438790449558, 'learning_rate': 0.7769602859835084, 'reg_lambda': 91.5265970504811, 'subsample': 0.6003083577052295, 'depth': 1, 'min_data_in_leaf': 11, 'leaf_estimation_iterations': 8}. Best is trial 11 with value: 1117.8804788225914.\u001b[0m\n",
            "\u001b[32m[I 2021-11-09 08:46:35,371]\u001b[0m Trial 25 finished with value: 1124.500785552171 and parameters: {'task_type': 'GPU', 'boosting_type': 'Plain', 'bootstrap_type': 'Bernoulli', 'iterations': 10000, 'od_wait': 857, 'random_strength': 30.651986511062198, 'learning_rate': 0.8081954153743167, 'reg_lambda': 86.13516131147284, 'subsample': 0.6244410545956288, 'depth': 3, 'min_data_in_leaf': 11, 'leaf_estimation_iterations': 8}. Best is trial 11 with value: 1117.8804788225914.\u001b[0m\n",
            "\u001b[32m[I 2021-11-09 08:46:39,652]\u001b[0m Trial 26 finished with value: 1123.2457356077055 and parameters: {'task_type': 'GPU', 'boosting_type': 'Plain', 'bootstrap_type': 'Bernoulli', 'iterations': 10000, 'od_wait': 752, 'random_strength': 25.363520009583663, 'learning_rate': 0.9273998694541786, 'reg_lambda': 73.70071249297852, 'subsample': 0.427900371952512, 'depth': 4, 'min_data_in_leaf': 12, 'leaf_estimation_iterations': 10}. Best is trial 11 with value: 1117.8804788225914.\u001b[0m\n",
            "\u001b[32m[I 2021-11-09 08:46:43,315]\u001b[0m Trial 27 finished with value: 1123.4418682207097 and parameters: {'task_type': 'GPU', 'boosting_type': 'Plain', 'bootstrap_type': 'Bernoulli', 'iterations': 10000, 'od_wait': 956, 'random_strength': 14.522637779465537, 'learning_rate': 0.5156356338658818, 'reg_lambda': 91.16943870975878, 'subsample': 0.5670423164986178, 'depth': 2, 'min_data_in_leaf': 6, 'leaf_estimation_iterations': 8}. Best is trial 11 with value: 1117.8804788225914.\u001b[0m\n",
            "\u001b[32m[I 2021-11-09 08:46:49,804]\u001b[0m Trial 28 finished with value: 1137.9244258792062 and parameters: {'task_type': 'GPU', 'boosting_type': 'Plain', 'bootstrap_type': 'Bernoulli', 'iterations': 10000, 'od_wait': 646, 'random_strength': 21.65870146669023, 'learning_rate': 0.7631327733008666, 'reg_lambda': 39.83329473456369, 'subsample': 0.9118971593074385, 'depth': 9, 'min_data_in_leaf': 15, 'leaf_estimation_iterations': 5}. Best is trial 11 with value: 1117.8804788225914.\u001b[0m\n",
            "\u001b[32m[I 2021-11-09 08:46:56,796]\u001b[0m Trial 29 finished with value: 1118.830047648781 and parameters: {'task_type': 'GPU', 'boosting_type': 'Plain', 'bootstrap_type': 'Bernoulli', 'iterations': 10000, 'od_wait': 1850, 'random_strength': 10.284661251922739, 'learning_rate': 0.8848261176032218, 'reg_lambda': 70.28612035092546, 'subsample': 0.8008418613691487, 'depth': 1, 'min_data_in_leaf': 12, 'leaf_estimation_iterations': 10}. Best is trial 11 with value: 1117.8804788225914.\u001b[0m\n",
            "\u001b[32m[I 2021-11-09 08:47:01,447]\u001b[0m Trial 30 finished with value: 1121.6660077830236 and parameters: {'task_type': 'GPU', 'boosting_type': 'Plain', 'bootstrap_type': 'Bernoulli', 'iterations': 10000, 'od_wait': 1857, 'random_strength': 11.231674963835074, 'learning_rate': 0.8757754751761656, 'reg_lambda': 59.29195667455215, 'subsample': 0.7871539422062657, 'depth': 3, 'min_data_in_leaf': 16, 'leaf_estimation_iterations': 15}. Best is trial 11 with value: 1117.8804788225914.\u001b[0m\n",
            "\u001b[32m[I 2021-11-09 08:47:08,485]\u001b[0m Trial 31 finished with value: 1121.2001162909742 and parameters: {'task_type': 'GPU', 'boosting_type': 'Plain', 'bootstrap_type': 'Bernoulli', 'iterations': 10000, 'od_wait': 1998, 'random_strength': 16.51903520370936, 'learning_rate': 0.8547130211462998, 'reg_lambda': 71.8642039259316, 'subsample': 0.9088607019319281, 'depth': 1, 'min_data_in_leaf': 12, 'leaf_estimation_iterations': 10}. Best is trial 11 with value: 1117.8804788225914.\u001b[0m\n",
            "\u001b[32m[I 2021-11-09 08:47:15,424]\u001b[0m Trial 32 finished with value: 1116.8113695298243 and parameters: {'task_type': 'GPU', 'boosting_type': 'Plain', 'bootstrap_type': 'Bernoulli', 'iterations': 10000, 'od_wait': 1872, 'random_strength': 24.756100827306103, 'learning_rate': 0.9305867882778214, 'reg_lambda': 58.098792123997974, 'subsample': 0.6663414751786787, 'depth': 1, 'min_data_in_leaf': 9, 'leaf_estimation_iterations': 11}. Best is trial 32 with value: 1116.8113695298243.\u001b[0m\n",
            "\u001b[32m[I 2021-11-09 08:47:18,807]\u001b[0m Trial 33 finished with value: 1122.7857838876437 and parameters: {'task_type': 'GPU', 'boosting_type': 'Plain', 'bootstrap_type': 'Bernoulli', 'iterations': 10000, 'od_wait': 1888, 'random_strength': 25.443238478291498, 'learning_rate': 0.9426213357298026, 'reg_lambda': 59.22872146376905, 'subsample': 0.6974367766432588, 'depth': 2, 'min_data_in_leaf': 8, 'leaf_estimation_iterations': 11}. Best is trial 32 with value: 1116.8113695298243.\u001b[0m\n",
            "\u001b[32m[I 2021-11-09 08:47:25,036]\u001b[0m Trial 34 finished with value: 1124.612015311794 and parameters: {'task_type': 'GPU', 'boosting_type': 'Ordered', 'bootstrap_type': 'Bernoulli', 'iterations': 10000, 'od_wait': 1609, 'random_strength': 31.126280354062807, 'learning_rate': 0.9947257090126258, 'reg_lambda': 69.46726399351954, 'subsample': 0.8067670861217106, 'depth': 4, 'min_data_in_leaf': 25, 'leaf_estimation_iterations': 12}. Best is trial 32 with value: 1116.8113695298243.\u001b[0m\n",
            "\u001b[32m[I 2021-11-09 08:47:28,376]\u001b[0m Trial 35 finished with value: 1126.8923885619556 and parameters: {'task_type': 'GPU', 'boosting_type': 'Plain', 'bootstrap_type': 'Bernoulli', 'iterations': 10000, 'od_wait': 1755, 'random_strength': 33.00590918148661, 'learning_rate': 0.9217849806767222, 'reg_lambda': 38.956961922901314, 'subsample': 0.6580589468568674, 'depth': 2, 'min_data_in_leaf': 6, 'leaf_estimation_iterations': 9}. Best is trial 32 with value: 1116.8113695298243.\u001b[0m\n",
            "\u001b[32m[I 2021-11-09 08:47:47,383]\u001b[0m Trial 36 finished with value: 1123.311679197368 and parameters: {'task_type': 'GPU', 'boosting_type': 'Ordered', 'bootstrap_type': 'Bernoulli', 'iterations': 10000, 'od_wait': 1895, 'random_strength': 27.248448640955214, 'learning_rate': 0.8462364270868085, 'reg_lambda': 57.09375437375737, 'subsample': 0.8447073482558468, 'depth': 1, 'min_data_in_leaf': 3, 'leaf_estimation_iterations': 11}. Best is trial 32 with value: 1116.8113695298243.\u001b[0m\n",
            "\u001b[32m[I 2021-11-09 08:47:51,231]\u001b[0m Trial 37 finished with value: 1127.1935733400812 and parameters: {'task_type': 'GPU', 'boosting_type': 'Plain', 'bootstrap_type': 'Bernoulli', 'iterations': 10000, 'od_wait': 1604, 'random_strength': 29.00923478378789, 'learning_rate': 0.8303640472254044, 'reg_lambda': 48.735304407276445, 'subsample': 0.6861382152960114, 'depth': 3, 'min_data_in_leaf': 10, 'leaf_estimation_iterations': 9}. Best is trial 32 with value: 1116.8113695298243.\u001b[0m\n",
            "\u001b[32m[I 2021-11-09 08:48:00,998]\u001b[0m Trial 38 finished with value: 1123.9000340464474 and parameters: {'task_type': 'GPU', 'boosting_type': 'Ordered', 'bootstrap_type': 'Bernoulli', 'iterations': 10000, 'od_wait': 1788, 'random_strength': 13.592866612056786, 'learning_rate': 0.3232184643766808, 'reg_lambda': 66.8539091971057, 'subsample': 0.5020053764307011, 'depth': 7, 'min_data_in_leaf': 6, 'leaf_estimation_iterations': 13}. Best is trial 32 with value: 1116.8113695298243.\u001b[0m\n",
            "\u001b[32m[I 2021-11-09 08:48:04,760]\u001b[0m Trial 39 finished with value: 1134.3835594132997 and parameters: {'task_type': 'GPU', 'boosting_type': 'Plain', 'bootstrap_type': 'Bernoulli', 'iterations': 10000, 'od_wait': 1939, 'random_strength': 39.187883503800144, 'learning_rate': 0.7412577581278499, 'reg_lambda': 32.55370345458047, 'subsample': 0.9898305115286625, 'depth': 5, 'min_data_in_leaf': 13, 'leaf_estimation_iterations': 3}. Best is trial 32 with value: 1116.8113695298243.\u001b[0m\n",
            "\u001b[32m[I 2021-11-09 08:48:15,857]\u001b[0m Trial 40 finished with value: 1128.3942414169971 and parameters: {'task_type': 'GPU', 'boosting_type': 'Ordered', 'bootstrap_type': 'Bernoulli', 'iterations': 10000, 'od_wait': 1333, 'random_strength': 17.35926163308565, 'learning_rate': 0.6419423203015354, 'reg_lambda': 63.21272406477097, 'subsample': 0.9328288112034128, 'depth': 10, 'min_data_in_leaf': 9, 'leaf_estimation_iterations': 10}. Best is trial 32 with value: 1116.8113695298243.\u001b[0m\n",
            "\u001b[32m[I 2021-11-09 08:48:19,715]\u001b[0m Trial 41 finished with value: 1120.8247103579633 and parameters: {'task_type': 'GPU', 'boosting_type': 'Plain', 'bootstrap_type': 'Bernoulli', 'iterations': 10000, 'od_wait': 1857, 'random_strength': 21.149729715950343, 'learning_rate': 0.9048410793334971, 'reg_lambda': 81.92400317424357, 'subsample': 0.5937075682051977, 'depth': 1, 'min_data_in_leaf': 10, 'leaf_estimation_iterations': 7}. Best is trial 32 with value: 1116.8113695298243.\u001b[0m\n",
            "\u001b[32m[I 2021-11-09 08:48:24,999]\u001b[0m Trial 42 finished with value: 1119.067635923523 and parameters: {'task_type': 'GPU', 'boosting_type': 'Plain', 'bootstrap_type': 'Bernoulli', 'iterations': 10000, 'od_wait': 1124, 'random_strength': 23.69381853284984, 'learning_rate': 0.7753269083224031, 'reg_lambda': 93.79620278518303, 'subsample': 0.5470481566471268, 'depth': 1, 'min_data_in_leaf': 14, 'leaf_estimation_iterations': 5}. Best is trial 32 with value: 1116.8113695298243.\u001b[0m\n",
            "\u001b[32m[I 2021-11-09 08:48:31,433]\u001b[0m Trial 43 finished with value: 1136.1203089253527 and parameters: {'task_type': 'GPU', 'boosting_type': 'Plain', 'bootstrap_type': 'Bernoulli', 'iterations': 10000, 'od_wait': 1149, 'random_strength': 26.047846196941503, 'learning_rate': 0.9568498998591061, 'reg_lambda': 93.74717361402837, 'subsample': 0.46486520714568547, 'depth': 9, 'min_data_in_leaf': 14, 'leaf_estimation_iterations': 5}. Best is trial 32 with value: 1116.8113695298243.\u001b[0m\n",
            "\u001b[32m[I 2021-11-09 08:48:34,027]\u001b[0m Trial 44 finished with value: 1123.9980124649792 and parameters: {'task_type': 'GPU', 'boosting_type': 'Plain', 'bootstrap_type': 'Bernoulli', 'iterations': 10000, 'od_wait': 1637, 'random_strength': 23.52305849921957, 'learning_rate': 0.8665962414607432, 'reg_lambda': 65.30236682257534, 'subsample': 0.5222981851982224, 'depth': 2, 'min_data_in_leaf': 17, 'leaf_estimation_iterations': 3}. Best is trial 32 with value: 1116.8113695298243.\u001b[0m\n",
            "\u001b[32m[I 2021-11-09 08:48:39,345]\u001b[0m Trial 45 finished with value: 1118.3792029514411 and parameters: {'task_type': 'GPU', 'boosting_type': 'Plain', 'bootstrap_type': 'Bernoulli', 'iterations': 10000, 'od_wait': 1437, 'random_strength': 15.84386503807799, 'learning_rate': 0.7358152966741395, 'reg_lambda': 75.44499767262914, 'subsample': 0.34584677573134437, 'depth': 1, 'min_data_in_leaf': 13, 'leaf_estimation_iterations': 5}. Best is trial 32 with value: 1116.8113695298243.\u001b[0m\n",
            "\u001b[32m[I 2021-11-09 08:48:44,954]\u001b[0m Trial 46 finished with value: 1125.909882914576 and parameters: {'task_type': 'GPU', 'boosting_type': 'Plain', 'bootstrap_type': 'Bernoulli', 'iterations': 10000, 'od_wait': 1502, 'random_strength': 12.094183852069785, 'learning_rate': 0.5246804213910745, 'reg_lambda': 74.35455811127031, 'subsample': 0.3154883031946097, 'depth': 3, 'min_data_in_leaf': 1, 'leaf_estimation_iterations': 13}. Best is trial 32 with value: 1116.8113695298243.\u001b[0m\n",
            "\u001b[32m[I 2021-11-09 08:48:48,024]\u001b[0m Trial 47 finished with value: 1123.7338599040104 and parameters: {'task_type': 'GPU', 'boosting_type': 'Plain', 'bootstrap_type': 'Bernoulli', 'iterations': 10000, 'od_wait': 1720, 'random_strength': 15.34062918208733, 'learning_rate': 0.6360168916918407, 'reg_lambda': 70.07850683693867, 'subsample': 0.24085721448644382, 'depth': 2, 'min_data_in_leaf': 20, 'leaf_estimation_iterations': 4}. Best is trial 32 with value: 1116.8113695298243.\u001b[0m\n",
            "\u001b[32m[I 2021-11-09 08:48:53,210]\u001b[0m Trial 48 finished with value: 1126.9279623452715 and parameters: {'task_type': 'GPU', 'boosting_type': 'Plain', 'bootstrap_type': 'Bernoulli', 'iterations': 10000, 'od_wait': 1439, 'random_strength': 18.622508663665958, 'learning_rate': 0.2364831905233276, 'reg_lambda': 53.73010356301771, 'subsample': 0.3513663605948613, 'depth': 6, 'min_data_in_leaf': 24, 'leaf_estimation_iterations': 9}. Best is trial 32 with value: 1116.8113695298243.\u001b[0m\n",
            "\u001b[32m[I 2021-11-09 08:49:09,667]\u001b[0m Trial 49 finished with value: 1123.5193158914406 and parameters: {'task_type': 'GPU', 'boosting_type': 'Ordered', 'bootstrap_type': 'Bernoulli', 'iterations': 10000, 'od_wait': 1818, 'random_strength': 12.31690108617501, 'learning_rate': 0.6837292966946873, 'reg_lambda': 82.74025231469493, 'subsample': 0.22151854281644606, 'depth': 1, 'min_data_in_leaf': 7, 'leaf_estimation_iterations': 12}. Best is trial 32 with value: 1116.8113695298243.\u001b[0m\n"
          ]
        }
      ]
    },
    {
      "cell_type": "code",
      "metadata": {
        "colab": {
          "base_uri": "https://localhost:8080/"
        },
        "id": "JAkSs20nvyFI",
        "outputId": "f21d8a1e-f989-4b3a-bfd0-8dce59d73d9e"
      },
      "source": [
        "cb_params = study.best_trial.params\n",
        "cb_params"
      ],
      "execution_count": null,
      "outputs": [
        {
          "output_type": "execute_result",
          "data": {
            "text/plain": [
              "{'boosting_type': 'Plain',\n",
              " 'bootstrap_type': 'Bernoulli',\n",
              " 'depth': 1,\n",
              " 'iterations': 10000,\n",
              " 'leaf_estimation_iterations': 11,\n",
              " 'learning_rate': 0.9305867882778214,\n",
              " 'min_data_in_leaf': 9,\n",
              " 'od_wait': 1872,\n",
              " 'random_strength': 24.756100827306103,\n",
              " 'reg_lambda': 58.098792123997974,\n",
              " 'subsample': 0.6663414751786787,\n",
              " 'task_type': 'GPU'}"
            ]
          },
          "metadata": {},
          "execution_count": 276
        }
      ]
    },
    {
      "cell_type": "code",
      "metadata": {
        "id": "Q1KtEHLxz7sH"
      },
      "source": [
        "cb_params = {'boosting_type': 'Plain',\n",
        " 'bootstrap_type': 'Bernoulli',\n",
        " 'depth': 1,\n",
        " 'iterations': 10000,\n",
        " 'leaf_estimation_iterations': 11,\n",
        " 'learning_rate': 0.9305867882778214,\n",
        " 'min_data_in_leaf': 9,\n",
        " 'od_wait': 1872,\n",
        " 'random_strength': 24.756100827306103,\n",
        " 'reg_lambda': 58.098792123997974,\n",
        " 'subsample': 0.6663414751786787,\n",
        " 'task_type': 'GPU'}"
      ],
      "execution_count": null,
      "outputs": []
    },
    {
      "cell_type": "markdown",
      "metadata": {
        "id": "G8D5FxZXuixa"
      },
      "source": [
        "### XGBOOST"
      ]
    },
    {
      "cell_type": "code",
      "metadata": {
        "id": "oGGnSc7mukbW"
      },
      "source": [
        "\n",
        "#xgboost\n",
        "\n",
        "def objective(trial):\n",
        "    \n",
        "    params = {\n",
        "        \"tree_method\": trial.suggest_categorical(\"tree_method\",[\"gpu_hist\"]), \n",
        "        'lambda': trial.suggest_loguniform('lambda', 1e-3, 10.0),\n",
        "        'alpha': trial.suggest_loguniform('alpha', 1e-3, 10.0),\n",
        "        'colsample_bytree': trial.suggest_categorical('colsample_bytree', [0.3,0.4,0.5,0.6,0.7,0.8,0.9,1.0]),\n",
        "        'subsample': trial.suggest_categorical('subsample', [0.4,0.5,0.6,0.7,0.8,0.9,1.0]),\n",
        "        'min_child_weight': trial.suggest_int('min_child_weight', 1, 300),       \n",
        "        \"objective\": \"reg:squarederror\",\n",
        "        \"n_estimators\": trial.suggest_categorical(\"n_estimators\",[10000]),\n",
        "        \"gamma\": trial.suggest_int(\"gamma\", 0,5), \n",
        "        \"eta\": trial.suggest_loguniform(\"eta\",1e-3,0.1),\n",
        "        \"reg_alpha\": trial.suggest_int(\"reg_alpha\",1,50),\n",
        "        \"reg_lambda\": trial.suggest_int(\"reg_lambda\",5,100),\n",
        "        \"max_depth\": trial.suggest_int(\"max_depth\",1,10),\n",
        "    }\n",
        "    model = XGBRegressor(**params)      \n",
        "    model.fit(x_train_1,y_train,eval_set=[(x_val_1,y_val)],verbose=False,early_stopping_rounds=100)\n",
        "\n",
        "    y_preds = model.predict(x_val_1)   \n",
        "    error = rmse(y_val, y_preds)\n",
        "\n",
        "    return error"
      ],
      "execution_count": null,
      "outputs": []
    },
    {
      "cell_type": "code",
      "metadata": {
        "id": "RJKKPeqKvEbn",
        "colab": {
          "base_uri": "https://localhost:8080/"
        },
        "outputId": "8e7d7c4a-f0fe-4f23-f928-540188354c9b"
      },
      "source": [
        "study = optuna.create_study(direction='minimize')\n",
        "study.optimize(objective, n_trials=50)"
      ],
      "execution_count": null,
      "outputs": [
        {
          "output_type": "stream",
          "name": "stderr",
          "text": [
            "\u001b[32m[I 2021-11-09 08:37:00,642]\u001b[0m A new study created in memory with name: no-name-1a0156f7-67b6-40b4-a5be-8dacda0c0233\u001b[0m\n",
            "\u001b[32m[I 2021-11-09 08:37:06,217]\u001b[0m Trial 0 finished with value: 1123.1539478158338 and parameters: {'tree_method': 'gpu_hist', 'lambda': 0.6339866289956484, 'alpha': 0.0968364011716878, 'colsample_bytree': 1.0, 'subsample': 0.7, 'min_child_weight': 280, 'n_estimators': 10000, 'gamma': 2, 'eta': 0.06946373598548296, 'reg_alpha': 19, 'reg_lambda': 91, 'max_depth': 6}. Best is trial 0 with value: 1123.1539478158338.\u001b[0m\n",
            "\u001b[32m[I 2021-11-09 08:37:16,086]\u001b[0m Trial 1 finished with value: 1124.0752135876726 and parameters: {'tree_method': 'gpu_hist', 'lambda': 0.29614731054135224, 'alpha': 0.47939984078906184, 'colsample_bytree': 1.0, 'subsample': 0.8, 'min_child_weight': 219, 'n_estimators': 10000, 'gamma': 5, 'eta': 0.03329554705026879, 'reg_alpha': 26, 'reg_lambda': 31, 'max_depth': 9}. Best is trial 0 with value: 1123.1539478158338.\u001b[0m\n",
            "\u001b[32m[I 2021-11-09 08:37:21,252]\u001b[0m Trial 2 finished with value: 1123.5285119877503 and parameters: {'tree_method': 'gpu_hist', 'lambda': 0.3094376387527227, 'alpha': 6.434151593160695, 'colsample_bytree': 1.0, 'subsample': 0.6, 'min_child_weight': 260, 'n_estimators': 10000, 'gamma': 5, 'eta': 0.006263993775258527, 'reg_alpha': 13, 'reg_lambda': 15, 'max_depth': 8}. Best is trial 0 with value: 1123.1539478158338.\u001b[0m\n",
            "\u001b[32m[I 2021-11-09 08:37:22,870]\u001b[0m Trial 3 finished with value: 1134.997147378821 and parameters: {'tree_method': 'gpu_hist', 'lambda': 0.033651964165298254, 'alpha': 1.8472604102338575, 'colsample_bytree': 0.8, 'subsample': 1.0, 'min_child_weight': 137, 'n_estimators': 10000, 'gamma': 1, 'eta': 0.007834095397840076, 'reg_alpha': 42, 'reg_lambda': 72, 'max_depth': 2}. Best is trial 0 with value: 1123.1539478158338.\u001b[0m\n",
            "\u001b[32m[I 2021-11-09 08:38:04,794]\u001b[0m Trial 4 finished with value: 1121.4655794127887 and parameters: {'tree_method': 'gpu_hist', 'lambda': 0.7018085276544151, 'alpha': 0.1567941613404568, 'colsample_bytree': 0.4, 'subsample': 0.5, 'min_child_weight': 49, 'n_estimators': 10000, 'gamma': 0, 'eta': 0.03833216015937458, 'reg_alpha': 42, 'reg_lambda': 44, 'max_depth': 1}. Best is trial 4 with value: 1121.4655794127887.\u001b[0m\n",
            "\u001b[32m[I 2021-11-09 08:38:07,466]\u001b[0m Trial 5 finished with value: 1125.5812244875528 and parameters: {'tree_method': 'gpu_hist', 'lambda': 0.04078303342309326, 'alpha': 0.0035672545733340306, 'colsample_bytree': 0.7, 'subsample': 0.4, 'min_child_weight': 126, 'n_estimators': 10000, 'gamma': 4, 'eta': 0.09613100529046048, 'reg_alpha': 11, 'reg_lambda': 58, 'max_depth': 3}. Best is trial 4 with value: 1121.4655794127887.\u001b[0m\n",
            "\u001b[32m[I 2021-11-09 08:38:12,016]\u001b[0m Trial 6 finished with value: 1123.4135459179215 and parameters: {'tree_method': 'gpu_hist', 'lambda': 0.31912248580140196, 'alpha': 0.14340117938323863, 'colsample_bytree': 0.8, 'subsample': 0.7, 'min_child_weight': 211, 'n_estimators': 10000, 'gamma': 1, 'eta': 0.004046546520700551, 'reg_alpha': 22, 'reg_lambda': 85, 'max_depth': 10}. Best is trial 4 with value: 1121.4655794127887.\u001b[0m\n",
            "\u001b[32m[I 2021-11-09 08:38:16,713]\u001b[0m Trial 7 finished with value: 1122.813598721839 and parameters: {'tree_method': 'gpu_hist', 'lambda': 0.03948541538293461, 'alpha': 0.00792958117418232, 'colsample_bytree': 0.4, 'subsample': 0.4, 'min_child_weight': 86, 'n_estimators': 10000, 'gamma': 2, 'eta': 0.006704996416279004, 'reg_alpha': 23, 'reg_lambda': 25, 'max_depth': 2}. Best is trial 4 with value: 1121.4655794127887.\u001b[0m\n",
            "\u001b[32m[I 2021-11-09 08:38:30,131]\u001b[0m Trial 8 finished with value: 1123.5792734298313 and parameters: {'tree_method': 'gpu_hist', 'lambda': 5.445056384436298, 'alpha': 0.019277703485996563, 'colsample_bytree': 0.4, 'subsample': 0.9, 'min_child_weight': 280, 'n_estimators': 10000, 'gamma': 2, 'eta': 0.0038474461747323558, 'reg_alpha': 36, 'reg_lambda': 31, 'max_depth': 6}. Best is trial 4 with value: 1121.4655794127887.\u001b[0m\n",
            "\u001b[32m[I 2021-11-09 08:38:43,581]\u001b[0m Trial 9 finished with value: 1127.7030716700574 and parameters: {'tree_method': 'gpu_hist', 'lambda': 0.04936302648469014, 'alpha': 0.13068355611156662, 'colsample_bytree': 1.0, 'subsample': 0.9, 'min_child_weight': 282, 'n_estimators': 10000, 'gamma': 2, 'eta': 0.003301552794919886, 'reg_alpha': 36, 'reg_lambda': 96, 'max_depth': 9}. Best is trial 4 with value: 1121.4655794127887.\u001b[0m\n",
            "\u001b[32m[I 2021-11-09 08:39:08,811]\u001b[0m Trial 10 finished with value: 1123.1915584105104 and parameters: {'tree_method': 'gpu_hist', 'lambda': 0.0017102615750039351, 'alpha': 0.02965836791914272, 'colsample_bytree': 0.5, 'subsample': 0.5, 'min_child_weight': 2, 'n_estimators': 10000, 'gamma': 0, 'eta': 0.023859897460170906, 'reg_alpha': 44, 'reg_lambda': 48, 'max_depth': 4}. Best is trial 4 with value: 1121.4655794127887.\u001b[0m\n",
            "\u001b[32m[I 2021-11-09 08:39:13,251]\u001b[0m Trial 11 finished with value: 1119.5330712358202 and parameters: {'tree_method': 'gpu_hist', 'lambda': 0.003780573291900565, 'alpha': 0.0027569443006662587, 'colsample_bytree': 0.4, 'subsample': 0.5, 'min_child_weight': 62, 'n_estimators': 10000, 'gamma': 0, 'eta': 0.0010476958107424874, 'reg_alpha': 3, 'reg_lambda': 6, 'max_depth': 1}. Best is trial 11 with value: 1119.5330712358202.\u001b[0m\n",
            "\u001b[32m[I 2021-11-09 08:39:15,958]\u001b[0m Trial 12 finished with value: 1118.7941663977997 and parameters: {'tree_method': 'gpu_hist', 'lambda': 0.002169983460795954, 'alpha': 0.0010023564336803649, 'colsample_bytree': 0.9, 'subsample': 0.5, 'min_child_weight': 37, 'n_estimators': 10000, 'gamma': 0, 'eta': 0.0012232236792517849, 'reg_alpha': 1, 'reg_lambda': 10, 'max_depth': 1}. Best is trial 12 with value: 1118.7941663977997.\u001b[0m\n",
            "\u001b[32m[I 2021-11-09 08:39:19,236]\u001b[0m Trial 13 finished with value: 1118.537937386554 and parameters: {'tree_method': 'gpu_hist', 'lambda': 0.0011279482203271915, 'alpha': 0.0011148546010745777, 'colsample_bytree': 0.9, 'subsample': 0.5, 'min_child_weight': 3, 'n_estimators': 10000, 'gamma': 0, 'eta': 0.0010155898389019975, 'reg_alpha': 3, 'reg_lambda': 6, 'max_depth': 1}. Best is trial 13 with value: 1118.537937386554.\u001b[0m\n",
            "\u001b[32m[I 2021-11-09 08:39:20,828]\u001b[0m Trial 14 finished with value: 1135.8196203494813 and parameters: {'tree_method': 'gpu_hist', 'lambda': 0.007194115790558123, 'alpha': 0.0019010764730279712, 'colsample_bytree': 0.9, 'subsample': 0.5, 'min_child_weight': 3, 'n_estimators': 10000, 'gamma': 1, 'eta': 0.0011473950212253158, 'reg_alpha': 1, 'reg_lambda': 6, 'max_depth': 4}. Best is trial 13 with value: 1118.537937386554.\u001b[0m\n",
            "\u001b[32m[I 2021-11-09 08:39:22,691]\u001b[0m Trial 15 finished with value: 1130.5488826490368 and parameters: {'tree_method': 'gpu_hist', 'lambda': 0.0014157777347352557, 'alpha': 0.0011301584538935556, 'colsample_bytree': 0.9, 'subsample': 0.5, 'min_child_weight': 39, 'n_estimators': 10000, 'gamma': 3, 'eta': 0.0019159294534707735, 'reg_alpha': 7, 'reg_lambda': 20, 'max_depth': 4}. Best is trial 13 with value: 1118.537937386554.\u001b[0m\n",
            "\u001b[32m[I 2021-11-09 08:39:28,666]\u001b[0m Trial 16 finished with value: 1119.8990140916749 and parameters: {'tree_method': 'gpu_hist', 'lambda': 0.009481743641328344, 'alpha': 0.007974967038981188, 'colsample_bytree': 0.9, 'subsample': 0.6, 'min_child_weight': 108, 'n_estimators': 10000, 'gamma': 0, 'eta': 0.0018234817746004264, 'reg_alpha': 15, 'reg_lambda': 38, 'max_depth': 1}. Best is trial 13 with value: 1118.537937386554.\u001b[0m\n",
            "\u001b[32m[I 2021-11-09 08:39:31,800]\u001b[0m Trial 17 finished with value: 1121.1825390628287 and parameters: {'tree_method': 'gpu_hist', 'lambda': 0.0010514621284512943, 'alpha': 0.007614597870291277, 'colsample_bytree': 0.3, 'subsample': 1.0, 'min_child_weight': 174, 'n_estimators': 10000, 'gamma': 1, 'eta': 0.017624213057551106, 'reg_alpha': 6, 'reg_lambda': 59, 'max_depth': 3}. Best is trial 13 with value: 1118.537937386554.\u001b[0m\n",
            "\u001b[32m[I 2021-11-09 08:39:39,410]\u001b[0m Trial 18 finished with value: 1121.6943074523292 and parameters: {'tree_method': 'gpu_hist', 'lambda': 0.009468270154551522, 'alpha': 0.0012616178374096085, 'colsample_bytree': 0.6, 'subsample': 0.8, 'min_child_weight': 34, 'n_estimators': 10000, 'gamma': 3, 'eta': 0.001989809142247503, 'reg_alpha': 30, 'reg_lambda': 13, 'max_depth': 5}. Best is trial 13 with value: 1118.537937386554.\u001b[0m\n",
            "\u001b[32m[I 2021-11-09 08:39:41,095]\u001b[0m Trial 19 finished with value: 1123.6805681461408 and parameters: {'tree_method': 'gpu_hist', 'lambda': 0.0025059215459335674, 'alpha': 0.031559082746500426, 'colsample_bytree': 0.9, 'subsample': 0.5, 'min_child_weight': 82, 'n_estimators': 10000, 'gamma': 0, 'eta': 0.011352292318871637, 'reg_alpha': 9, 'reg_lambda': 21, 'max_depth': 2}. Best is trial 13 with value: 1118.537937386554.\u001b[0m\n",
            "\u001b[32m[I 2021-11-09 08:39:54,776]\u001b[0m Trial 20 finished with value: 1124.634100009395 and parameters: {'tree_method': 'gpu_hist', 'lambda': 0.003983104068920022, 'alpha': 0.003970790795472496, 'colsample_bytree': 0.9, 'subsample': 0.5, 'min_child_weight': 22, 'n_estimators': 10000, 'gamma': 1, 'eta': 0.0014786927258974146, 'reg_alpha': 49, 'reg_lambda': 70, 'max_depth': 7}. Best is trial 13 with value: 1118.537937386554.\u001b[0m\n",
            "\u001b[32m[I 2021-11-09 08:39:57,477]\u001b[0m Trial 21 finished with value: 1120.1354773172272 and parameters: {'tree_method': 'gpu_hist', 'lambda': 0.004687195944632577, 'alpha': 0.0027187556065392526, 'colsample_bytree': 0.7, 'subsample': 0.5, 'min_child_weight': 66, 'n_estimators': 10000, 'gamma': 0, 'eta': 0.0011038424763974138, 'reg_alpha': 2, 'reg_lambda': 7, 'max_depth': 1}. Best is trial 13 with value: 1118.537937386554.\u001b[0m\n",
            "\u001b[32m[I 2021-11-09 08:40:02,642]\u001b[0m Trial 22 finished with value: 1116.4542522369454 and parameters: {'tree_method': 'gpu_hist', 'lambda': 0.017761911146676277, 'alpha': 0.0010474347098221762, 'colsample_bytree': 0.6, 'subsample': 0.5, 'min_child_weight': 66, 'n_estimators': 10000, 'gamma': 0, 'eta': 0.0025956944573635884, 'reg_alpha': 4, 'reg_lambda': 5, 'max_depth': 1}. Best is trial 22 with value: 1116.4542522369454.\u001b[0m\n",
            "\u001b[32m[I 2021-11-09 08:40:04,578]\u001b[0m Trial 23 finished with value: 1123.2243180340154 and parameters: {'tree_method': 'gpu_hist', 'lambda': 0.0169164168444462, 'alpha': 0.0015769470870911817, 'colsample_bytree': 0.6, 'subsample': 0.5, 'min_child_weight': 24, 'n_estimators': 10000, 'gamma': 1, 'eta': 0.002739619136621862, 'reg_alpha': 6, 'reg_lambda': 16, 'max_depth': 3}. Best is trial 22 with value: 1116.4542522369454.\u001b[0m\n",
            "\u001b[32m[I 2021-11-09 08:40:08,081]\u001b[0m Trial 24 finished with value: 1119.4718456923322 and parameters: {'tree_method': 'gpu_hist', 'lambda': 0.01637121882438158, 'alpha': 0.014010791999980779, 'colsample_bytree': 0.6, 'subsample': 0.5, 'min_child_weight': 104, 'n_estimators': 10000, 'gamma': 0, 'eta': 0.0025064817042476403, 'reg_alpha': 14, 'reg_lambda': 31, 'max_depth': 2}. Best is trial 22 with value: 1116.4542522369454.\u001b[0m\n",
            "\u001b[32m[I 2021-11-09 08:40:15,017]\u001b[0m Trial 25 finished with value: 1118.6391033650643 and parameters: {'tree_method': 'gpu_hist', 'lambda': 0.0023821541847756384, 'alpha': 0.0010150649283370585, 'colsample_bytree': 0.3, 'subsample': 0.5, 'min_child_weight': 70, 'n_estimators': 10000, 'gamma': 0, 'eta': 0.0013784191565823047, 'reg_alpha': 17, 'reg_lambda': 12, 'max_depth': 1}. Best is trial 22 with value: 1116.4542522369454.\u001b[0m\n",
            "\u001b[32m[I 2021-11-09 08:40:19,384]\u001b[0m Trial 26 finished with value: 1121.8301795861075 and parameters: {'tree_method': 'gpu_hist', 'lambda': 0.10528257204810575, 'alpha': 0.00564813841932848, 'colsample_bytree': 0.3, 'subsample': 0.7, 'min_child_weight': 151, 'n_estimators': 10000, 'gamma': 1, 'eta': 0.0015901944101172384, 'reg_alpha': 17, 'reg_lambda': 24, 'max_depth': 3}. Best is trial 22 with value: 1116.4542522369454.\u001b[0m\n",
            "\u001b[32m[I 2021-11-09 08:40:22,564]\u001b[0m Trial 27 finished with value: 1117.0591481027748 and parameters: {'tree_method': 'gpu_hist', 'lambda': 0.0010503764441282413, 'alpha': 0.05706178992312133, 'colsample_bytree': 0.3, 'subsample': 0.4, 'min_child_weight': 81, 'n_estimators': 10000, 'gamma': 4, 'eta': 0.002526082386692503, 'reg_alpha': 7, 'reg_lambda': 5, 'max_depth': 2}. Best is trial 22 with value: 1116.4542522369454.\u001b[0m\n",
            "\u001b[32m[I 2021-11-09 08:40:25,724]\u001b[0m Trial 28 finished with value: 1117.5203682866234 and parameters: {'tree_method': 'gpu_hist', 'lambda': 0.0010420843752480945, 'alpha': 0.4517220503719904, 'colsample_bytree': 0.6, 'subsample': 0.4, 'min_child_weight': 100, 'n_estimators': 10000, 'gamma': 4, 'eta': 0.00465504747109816, 'reg_alpha': 11, 'reg_lambda': 5, 'max_depth': 2}. Best is trial 22 with value: 1116.4542522369454.\u001b[0m\n",
            "\u001b[32m[I 2021-11-09 08:40:28,764]\u001b[0m Trial 29 finished with value: 1122.6023261850005 and parameters: {'tree_method': 'gpu_hist', 'lambda': 0.017101535205441852, 'alpha': 0.5900046800554883, 'colsample_bytree': 0.6, 'subsample': 0.4, 'min_child_weight': 106, 'n_estimators': 10000, 'gamma': 4, 'eta': 0.004778593793813558, 'reg_alpha': 10, 'reg_lambda': 25, 'max_depth': 5}. Best is trial 22 with value: 1116.4542522369454.\u001b[0m\n",
            "\u001b[32m[I 2021-11-09 08:40:33,504]\u001b[0m Trial 30 finished with value: 1122.2951352121556 and parameters: {'tree_method': 'gpu_hist', 'lambda': 2.617812855944627, 'alpha': 0.34070146817809416, 'colsample_bytree': 0.6, 'subsample': 0.4, 'min_child_weight': 88, 'n_estimators': 10000, 'gamma': 4, 'eta': 0.012348242747065417, 'reg_alpha': 20, 'reg_lambda': 37, 'max_depth': 2}. Best is trial 22 with value: 1116.4542522369454.\u001b[0m\n",
            "\u001b[32m[I 2021-11-09 08:40:36,665]\u001b[0m Trial 31 finished with value: 1116.3721823722608 and parameters: {'tree_method': 'gpu_hist', 'lambda': 0.0011495211356952334, 'alpha': 0.05363443922625258, 'colsample_bytree': 0.5, 'subsample': 0.4, 'min_child_weight': 155, 'n_estimators': 10000, 'gamma': 3, 'eta': 0.0025322970961317737, 'reg_alpha': 5, 'reg_lambda': 5, 'max_depth': 2}. Best is trial 31 with value: 1116.3721823722608.\u001b[0m\n",
            "\u001b[32m[I 2021-11-09 08:40:40,255]\u001b[0m Trial 32 finished with value: 1118.472268810386 and parameters: {'tree_method': 'gpu_hist', 'lambda': 0.005503395327080062, 'alpha': 0.05994645116691141, 'colsample_bytree': 0.5, 'subsample': 0.4, 'min_child_weight': 172, 'n_estimators': 10000, 'gamma': 3, 'eta': 0.0025402493112121663, 'reg_alpha': 8, 'reg_lambda': 17, 'max_depth': 3}. Best is trial 31 with value: 1116.3721823722608.\u001b[0m\n",
            "\u001b[32m[I 2021-11-09 08:40:43,406]\u001b[0m Trial 33 finished with value: 1117.048793635159 and parameters: {'tree_method': 'gpu_hist', 'lambda': 0.001141259175948049, 'alpha': 1.2060266230234007, 'colsample_bytree': 0.5, 'subsample': 0.4, 'min_child_weight': 173, 'n_estimators': 10000, 'gamma': 5, 'eta': 0.005438014187101507, 'reg_alpha': 5, 'reg_lambda': 13, 'max_depth': 2}. Best is trial 31 with value: 1116.3721823722608.\u001b[0m\n",
            "\u001b[32m[I 2021-11-09 08:40:47,484]\u001b[0m Trial 34 finished with value: 1118.4911674582268 and parameters: {'tree_method': 'gpu_hist', 'lambda': 0.1052547871568433, 'alpha': 8.125683160186638, 'colsample_bytree': 0.5, 'subsample': 0.4, 'min_child_weight': 212, 'n_estimators': 10000, 'gamma': 5, 'eta': 0.00855052396918256, 'reg_alpha': 5, 'reg_lambda': 15, 'max_depth': 4}. Best is trial 31 with value: 1116.3721823722608.\u001b[0m\n",
            "\u001b[32m[I 2021-11-09 08:40:50,640]\u001b[0m Trial 35 finished with value: 1117.7594207831123 and parameters: {'tree_method': 'gpu_hist', 'lambda': 0.0033851652249340066, 'alpha': 2.5223339292351317, 'colsample_bytree': 0.5, 'subsample': 0.4, 'min_child_weight': 184, 'n_estimators': 10000, 'gamma': 5, 'eta': 0.0065451696019200555, 'reg_alpha': 5, 'reg_lambda': 13, 'max_depth': 2}. Best is trial 31 with value: 1116.3721823722608.\u001b[0m\n",
            "\u001b[32m[I 2021-11-09 08:40:55,244]\u001b[0m Trial 36 finished with value: 1120.0819445949412 and parameters: {'tree_method': 'gpu_hist', 'lambda': 0.0019025782502093377, 'alpha': 1.1445682662737011, 'colsample_bytree': 0.5, 'subsample': 0.8, 'min_child_weight': 234, 'n_estimators': 10000, 'gamma': 4, 'eta': 0.0029662626067390356, 'reg_alpha': 13, 'reg_lambda': 30, 'max_depth': 3}. Best is trial 31 with value: 1116.3721823722608.\u001b[0m\n",
            "\u001b[32m[I 2021-11-09 08:40:58,899]\u001b[0m Trial 37 finished with value: 1120.2265584320487 and parameters: {'tree_method': 'gpu_hist', 'lambda': 0.21358190222418602, 'alpha': 0.25287701808321533, 'colsample_bytree': 0.3, 'subsample': 0.6, 'min_child_weight': 144, 'n_estimators': 10000, 'gamma': 5, 'eta': 0.0046174870430039025, 'reg_alpha': 11, 'reg_lambda': 19, 'max_depth': 2}. Best is trial 31 with value: 1116.3721823722608.\u001b[0m\n",
            "\u001b[32m[I 2021-11-09 08:41:04,352]\u001b[0m Trial 38 finished with value: 1123.759177586594 and parameters: {'tree_method': 'gpu_hist', 'lambda': 1.0037408282587077, 'alpha': 0.07273354233561806, 'colsample_bytree': 0.8, 'subsample': 0.4, 'min_child_weight': 126, 'n_estimators': 10000, 'gamma': 3, 'eta': 0.002340759349600489, 'reg_alpha': 27, 'reg_lambda': 10, 'max_depth': 7}. Best is trial 31 with value: 1116.3721823722608.\u001b[0m\n",
            "\u001b[32m[I 2021-11-09 08:41:08,035]\u001b[0m Trial 39 finished with value: 1118.0835828356164 and parameters: {'tree_method': 'gpu_hist', 'lambda': 0.007721766411356091, 'alpha': 0.04469733295846042, 'colsample_bytree': 0.5, 'subsample': 0.4, 'min_child_weight': 159, 'n_estimators': 10000, 'gamma': 4, 'eta': 0.04015999536642263, 'reg_alpha': 4, 'reg_lambda': 36, 'max_depth': 3}. Best is trial 31 with value: 1116.3721823722608.\u001b[0m\n",
            "\u001b[32m[I 2021-11-09 08:41:11,332]\u001b[0m Trial 40 finished with value: 1126.7932329893429 and parameters: {'tree_method': 'gpu_hist', 'lambda': 0.025255127994947196, 'alpha': 3.416034741258371, 'colsample_bytree': 1.0, 'subsample': 1.0, 'min_child_weight': 199, 'n_estimators': 10000, 'gamma': 5, 'eta': 0.0036214270828657607, 'reg_alpha': 9, 'reg_lambda': 80, 'max_depth': 5}. Best is trial 31 with value: 1116.3721823722608.\u001b[0m\n",
            "\u001b[32m[I 2021-11-09 08:41:14,488]\u001b[0m Trial 41 finished with value: 1117.544407959653 and parameters: {'tree_method': 'gpu_hist', 'lambda': 0.0010117087610307853, 'alpha': 0.7469183488609094, 'colsample_bytree': 0.6, 'subsample': 0.4, 'min_child_weight': 112, 'n_estimators': 10000, 'gamma': 4, 'eta': 0.005690468221161558, 'reg_alpha': 12, 'reg_lambda': 5, 'max_depth': 2}. Best is trial 31 with value: 1116.3721823722608.\u001b[0m\n",
            "\u001b[32m[I 2021-11-09 08:41:16,749]\u001b[0m Trial 42 finished with value: 1123.1609410825738 and parameters: {'tree_method': 'gpu_hist', 'lambda': 0.0015353367512511984, 'alpha': 1.251590424743496, 'colsample_bytree': 0.7, 'subsample': 0.4, 'min_child_weight': 121, 'n_estimators': 10000, 'gamma': 3, 'eta': 0.004145538357832109, 'reg_alpha': 8, 'reg_lambda': 11, 'max_depth': 2}. Best is trial 31 with value: 1116.3721823722608.\u001b[0m\n",
            "\u001b[32m[I 2021-11-09 08:41:21,533]\u001b[0m Trial 43 finished with value: 1121.6106694537855 and parameters: {'tree_method': 'gpu_hist', 'lambda': 0.0026990756999510173, 'alpha': 0.22515139003923265, 'colsample_bytree': 0.5, 'subsample': 0.9, 'min_child_weight': 133, 'n_estimators': 10000, 'gamma': 4, 'eta': 0.005676581874549768, 'reg_alpha': 4, 'reg_lambda': 9, 'max_depth': 1}. Best is trial 31 with value: 1116.3721823722608.\u001b[0m\n",
            "\u001b[32m[I 2021-11-09 08:41:26,662]\u001b[0m Trial 44 finished with value: 1118.6348160317125 and parameters: {'tree_method': 'gpu_hist', 'lambda': 0.001947423284718175, 'alpha': 4.485168994384776, 'colsample_bytree': 0.6, 'subsample': 0.4, 'min_child_weight': 53, 'n_estimators': 10000, 'gamma': 4, 'eta': 0.0032212286111641905, 'reg_alpha': 1, 'reg_lambda': 24, 'max_depth': 1}. Best is trial 31 with value: 1116.3721823722608.\u001b[0m\n",
            "\u001b[32m[I 2021-11-09 08:41:30,536]\u001b[0m Trial 45 finished with value: 1120.3434086653187 and parameters: {'tree_method': 'gpu_hist', 'lambda': 0.0010371078195443597, 'alpha': 0.11675112376705801, 'colsample_bytree': 0.3, 'subsample': 0.7, 'min_child_weight': 238, 'n_estimators': 10000, 'gamma': 5, 'eta': 0.008169606279112994, 'reg_alpha': 11, 'reg_lambda': 5, 'max_depth': 2}. Best is trial 31 with value: 1116.3721823722608.\u001b[0m\n",
            "\u001b[32m[I 2021-11-09 08:41:32,921]\u001b[0m Trial 46 finished with value: 1124.7301600442884 and parameters: {'tree_method': 'gpu_hist', 'lambda': 0.003135351858004195, 'alpha': 0.4233702714924234, 'colsample_bytree': 0.8, 'subsample': 0.4, 'min_child_weight': 87, 'n_estimators': 10000, 'gamma': 2, 'eta': 0.005041404194367683, 'reg_alpha': 16, 'reg_lambda': 15, 'max_depth': 10}. Best is trial 31 with value: 1116.3721823722608.\u001b[0m\n",
            "\u001b[32m[I 2021-11-09 08:41:38,194]\u001b[0m Trial 47 finished with value: 1120.9632249266158 and parameters: {'tree_method': 'gpu_hist', 'lambda': 0.0054374444151381925, 'alpha': 0.017041285339558333, 'colsample_bytree': 0.5, 'subsample': 0.4, 'min_child_weight': 194, 'n_estimators': 10000, 'gamma': 2, 'eta': 0.002100336293012455, 'reg_alpha': 20, 'reg_lambda': 20, 'max_depth': 4}. Best is trial 31 with value: 1116.3721823722608.\u001b[0m\n",
            "\u001b[32m[I 2021-11-09 08:41:40,378]\u001b[0m Trial 48 finished with value: 1125.0549332574728 and parameters: {'tree_method': 'gpu_hist', 'lambda': 0.06714591796207604, 'alpha': 1.3815614464563857, 'colsample_bytree': 1.0, 'subsample': 0.9, 'min_child_weight': 158, 'n_estimators': 10000, 'gamma': 3, 'eta': 0.0035818469819727523, 'reg_alpha': 7, 'reg_lambda': 9, 'max_depth': 3}. Best is trial 31 with value: 1116.3721823722608.\u001b[0m\n",
            "\u001b[32m[I 2021-11-09 08:41:44,567]\u001b[0m Trial 49 finished with value: 1119.0685723139122 and parameters: {'tree_method': 'gpu_hist', 'lambda': 0.00144918164353743, 'alpha': 0.1734758869350876, 'colsample_bytree': 0.4, 'subsample': 0.6, 'min_child_weight': 262, 'n_estimators': 10000, 'gamma': 5, 'eta': 0.009728275211192267, 'reg_alpha': 3, 'reg_lambda': 43, 'max_depth': 1}. Best is trial 31 with value: 1116.3721823722608.\u001b[0m\n"
          ]
        }
      ]
    },
    {
      "cell_type": "code",
      "metadata": {
        "colab": {
          "base_uri": "https://localhost:8080/"
        },
        "id": "LpWNfC8zvfnB",
        "outputId": "f062ddac-e028-488a-f89d-7f08672449ad"
      },
      "source": [
        "xgb_params = study.best_trial.params\n",
        "xgb_params"
      ],
      "execution_count": null,
      "outputs": [
        {
          "output_type": "execute_result",
          "data": {
            "text/plain": [
              "{'alpha': 0.05363443922625258,\n",
              " 'colsample_bytree': 0.5,\n",
              " 'eta': 0.0025322970961317737,\n",
              " 'gamma': 3,\n",
              " 'lambda': 0.0011495211356952334,\n",
              " 'max_depth': 2,\n",
              " 'min_child_weight': 155,\n",
              " 'n_estimators': 10000,\n",
              " 'reg_alpha': 5,\n",
              " 'reg_lambda': 5,\n",
              " 'subsample': 0.4,\n",
              " 'tree_method': 'gpu_hist'}"
            ]
          },
          "metadata": {},
          "execution_count": 264
        }
      ]
    },
    {
      "cell_type": "code",
      "metadata": {
        "id": "QV0T4NoD0AY0"
      },
      "source": [
        "xgb_params = {'alpha': 0.05363443922625258,\n",
        " 'colsample_bytree': 0.5,\n",
        " 'eta': 0.0025322970961317737,\n",
        " 'gamma': 3,\n",
        " 'lambda': 0.0011495211356952334,\n",
        " 'max_depth': 2,\n",
        " 'min_child_weight': 155,\n",
        " 'n_estimators': 10000,\n",
        " 'reg_alpha': 5,\n",
        " 'reg_lambda': 5,\n",
        " 'subsample': 0.4,\n",
        " 'tree_method': 'gpu_hist'}"
      ],
      "execution_count": null,
      "outputs": []
    },
    {
      "cell_type": "markdown",
      "metadata": {
        "id": "F4vPzovQsl_O"
      },
      "source": [
        "###HGBT"
      ]
    },
    {
      "cell_type": "code",
      "metadata": {
        "id": "6u8iY5V_soFh"
      },
      "source": [
        "\n",
        "#hgbt\n",
        "\n",
        "def objective(trial):\n",
        "    \n",
        "    params = {'max_iter':trial.suggest_categorical(\"max_iter\", [i for i in range(100,1100,100)]),              \n",
        "              'learning_rate' : trial.suggest_uniform('learning_rate',0.1,0.3),\n",
        "              'l2_regularization': trial.suggest_categorical('l2_regularization',[0,0.1,0.001]),\n",
        "              'max_depth': trial.suggest_int('max_depth',1,10),\n",
        "              'max_leaf_nodes': trial.suggest_int('max_leaf_nodes',2,30),\n",
        "              }\n",
        "\n",
        "    model = HistGradientBoostingRegressor(**params)  \n",
        "\n",
        "    model.fit(x_train_1,y_train) \n",
        "\n",
        "    y_preds = model.predict(x_val_1)   \n",
        "    error = rmse(y_val, y_preds)\n",
        "\n",
        "    return error"
      ],
      "execution_count": null,
      "outputs": []
    },
    {
      "cell_type": "code",
      "metadata": {
        "colab": {
          "base_uri": "https://localhost:8080/"
        },
        "id": "ugfXTmAwv5H0",
        "outputId": "86cc5ab0-d2bd-4341-9587-a0579227ca50"
      },
      "source": [
        "study = optuna.create_study(direction='minimize')\n",
        "study.optimize(objective, n_trials=50)"
      ],
      "execution_count": null,
      "outputs": [
        {
          "output_type": "stream",
          "name": "stderr",
          "text": [
            "\u001b[32m[I 2021-11-09 08:57:39,806]\u001b[0m A new study created in memory with name: no-name-63982a88-f577-4f20-870a-a9d8ad6b1f5c\u001b[0m\n",
            "\u001b[32m[I 2021-11-09 08:57:40,455]\u001b[0m Trial 0 finished with value: 1149.746838743387 and parameters: {'max_iter': 300, 'learning_rate': 0.1953660599694878, 'l2_regularization': 0.001, 'max_depth': 8, 'max_leaf_nodes': 10}. Best is trial 0 with value: 1149.746838743387.\u001b[0m\n",
            "\u001b[32m[I 2021-11-09 08:57:42,432]\u001b[0m Trial 1 finished with value: 1184.586249179019 and parameters: {'max_iter': 700, 'learning_rate': 0.24240002559994492, 'l2_regularization': 0.001, 'max_depth': 5, 'max_leaf_nodes': 23}. Best is trial 0 with value: 1149.746838743387.\u001b[0m\n",
            "\u001b[32m[I 2021-11-09 08:57:42,904]\u001b[0m Trial 2 finished with value: 1147.6345295271656 and parameters: {'max_iter': 200, 'learning_rate': 0.22898131205854155, 'l2_regularization': 0, 'max_depth': 4, 'max_leaf_nodes': 27}. Best is trial 2 with value: 1147.6345295271656.\u001b[0m\n",
            "\u001b[32m[I 2021-11-09 08:57:43,169]\u001b[0m Trial 3 finished with value: 1134.290025107636 and parameters: {'max_iter': 200, 'learning_rate': 0.21059937611786356, 'l2_regularization': 0.1, 'max_depth': 10, 'max_leaf_nodes': 4}. Best is trial 3 with value: 1134.290025107636.\u001b[0m\n",
            "\u001b[32m[I 2021-11-09 08:57:45,533]\u001b[0m Trial 4 finished with value: 1186.4990252022412 and parameters: {'max_iter': 500, 'learning_rate': 0.19632895584983584, 'l2_regularization': 0.1, 'max_depth': 10, 'max_leaf_nodes': 28}. Best is trial 3 with value: 1134.290025107636.\u001b[0m\n",
            "\u001b[32m[I 2021-11-09 08:57:46,514]\u001b[0m Trial 5 finished with value: 1149.418340705468 and parameters: {'max_iter': 300, 'learning_rate': 0.11348674237044631, 'l2_regularization': 0.001, 'max_depth': 9, 'max_leaf_nodes': 17}. Best is trial 3 with value: 1134.290025107636.\u001b[0m\n",
            "\u001b[32m[I 2021-11-09 08:57:47,776]\u001b[0m Trial 6 finished with value: 1156.5481196591725 and parameters: {'max_iter': 800, 'learning_rate': 0.16880810474642788, 'l2_regularization': 0.1, 'max_depth': 6, 'max_leaf_nodes': 6}. Best is trial 3 with value: 1134.290025107636.\u001b[0m\n",
            "\u001b[32m[I 2021-11-09 08:57:50,474]\u001b[0m Trial 7 finished with value: 1198.3358167052581 and parameters: {'max_iter': 900, 'learning_rate': 0.2634456595714215, 'l2_regularization': 0.1, 'max_depth': 9, 'max_leaf_nodes': 16}. Best is trial 3 with value: 1134.290025107636.\u001b[0m\n",
            "\u001b[32m[I 2021-11-09 08:57:51,299]\u001b[0m Trial 8 finished with value: 1122.9920386423096 and parameters: {'max_iter': 1000, 'learning_rate': 0.29814507585644767, 'l2_regularization': 0.001, 'max_depth': 1, 'max_leaf_nodes': 4}. Best is trial 8 with value: 1122.9920386423096.\u001b[0m\n",
            "\u001b[32m[I 2021-11-09 08:57:51,718]\u001b[0m Trial 9 finished with value: 1154.276296001366 and parameters: {'max_iter': 100, 'learning_rate': 0.23766482791782864, 'l2_regularization': 0.001, 'max_depth': 8, 'max_leaf_nodes': 26}. Best is trial 8 with value: 1122.9920386423096.\u001b[0m\n",
            "\u001b[32m[I 2021-11-09 08:57:52,591]\u001b[0m Trial 10 finished with value: 1123.0370494477681 and parameters: {'max_iter': 1000, 'learning_rate': 0.28709623175358495, 'l2_regularization': 0, 'max_depth': 1, 'max_leaf_nodes': 2}. Best is trial 8 with value: 1122.9920386423096.\u001b[0m\n",
            "\u001b[32m[I 2021-11-09 08:57:53,516]\u001b[0m Trial 11 finished with value: 1123.0707693343275 and parameters: {'max_iter': 1000, 'learning_rate': 0.29560106209949766, 'l2_regularization': 0, 'max_depth': 1, 'max_leaf_nodes': 2}. Best is trial 8 with value: 1122.9920386423096.\u001b[0m\n",
            "\u001b[32m[I 2021-11-09 08:57:54,408]\u001b[0m Trial 12 finished with value: 1123.0220243780789 and parameters: {'max_iter': 1000, 'learning_rate': 0.296025791294647, 'l2_regularization': 0, 'max_depth': 1, 'max_leaf_nodes': 9}. Best is trial 8 with value: 1122.9920386423096.\u001b[0m\n",
            "\u001b[32m[I 2021-11-09 08:57:56,074]\u001b[0m Trial 13 finished with value: 1167.9604367777085 and parameters: {'max_iter': 1000, 'learning_rate': 0.2719217582024225, 'l2_regularization': 0, 'max_depth': 3, 'max_leaf_nodes': 10}. Best is trial 8 with value: 1122.9920386423096.\u001b[0m\n",
            "\u001b[32m[I 2021-11-09 08:57:56,569]\u001b[0m Trial 14 finished with value: 1134.2081151791222 and parameters: {'max_iter': 400, 'learning_rate': 0.14705776627382938, 'l2_regularization': 0.001, 'max_depth': 2, 'max_leaf_nodes': 9}. Best is trial 8 with value: 1122.9920386423096.\u001b[0m\n",
            "\u001b[32m[I 2021-11-09 08:57:57,544]\u001b[0m Trial 15 finished with value: 1158.3531636397438 and parameters: {'max_iter': 600, 'learning_rate': 0.2677069421003779, 'l2_regularization': 0, 'max_depth': 3, 'max_leaf_nodes': 15}. Best is trial 8 with value: 1122.9920386423096.\u001b[0m\n",
            "\u001b[32m[I 2021-11-09 08:57:58,712]\u001b[0m Trial 16 finished with value: 1147.617345884507 and parameters: {'max_iter': 1000, 'learning_rate': 0.2850702745626525, 'l2_regularization': 0.001, 'max_depth': 2, 'max_leaf_nodes': 7}. Best is trial 8 with value: 1122.9920386423096.\u001b[0m\n",
            "\u001b[32m[I 2021-11-09 08:58:01,290]\u001b[0m Trial 17 finished with value: 1196.838075351489 and parameters: {'max_iter': 1000, 'learning_rate': 0.2985926024246395, 'l2_regularization': 0, 'max_depth': 6, 'max_leaf_nodes': 13}. Best is trial 8 with value: 1122.9920386423096.\u001b[0m\n",
            "\u001b[32m[I 2021-11-09 08:58:01,725]\u001b[0m Trial 18 finished with value: 1122.1630197364352 and parameters: {'max_iter': 500, 'learning_rate': 0.2550344054574655, 'l2_regularization': 0.001, 'max_depth': 1, 'max_leaf_nodes': 19}. Best is trial 18 with value: 1122.1630197364352.\u001b[0m\n",
            "\u001b[32m[I 2021-11-09 08:58:02,820]\u001b[0m Trial 19 finished with value: 1163.6426114814285 and parameters: {'max_iter': 500, 'learning_rate': 0.24918692540638349, 'l2_regularization': 0.001, 'max_depth': 4, 'max_leaf_nodes': 22}. Best is trial 18 with value: 1122.1630197364352.\u001b[0m\n",
            "\u001b[32m[I 2021-11-09 08:58:03,442]\u001b[0m Trial 20 finished with value: 1138.2648518780527 and parameters: {'max_iter': 500, 'learning_rate': 0.21199438354111783, 'l2_regularization': 0.001, 'max_depth': 2, 'max_leaf_nodes': 20}. Best is trial 18 with value: 1122.1630197364352.\u001b[0m\n",
            "\u001b[32m[I 2021-11-09 08:58:04,248]\u001b[0m Trial 21 finished with value: 1121.824117035437 and parameters: {'max_iter': 900, 'learning_rate': 0.2620235784898339, 'l2_regularization': 0.001, 'max_depth': 1, 'max_leaf_nodes': 13}. Best is trial 21 with value: 1121.824117035437.\u001b[0m\n",
            "\u001b[32m[I 2021-11-09 08:58:05,051]\u001b[0m Trial 22 finished with value: 1121.6258713768873 and parameters: {'max_iter': 900, 'learning_rate': 0.26933837870466454, 'l2_regularization': 0.001, 'max_depth': 1, 'max_leaf_nodes': 18}. Best is trial 22 with value: 1121.6258713768873.\u001b[0m\n",
            "\u001b[32m[I 2021-11-09 08:58:06,538]\u001b[0m Trial 23 finished with value: 1164.5914939502723 and parameters: {'max_iter': 900, 'learning_rate': 0.25825608834244895, 'l2_regularization': 0.001, 'max_depth': 3, 'max_leaf_nodes': 18}. Best is trial 22 with value: 1121.6258713768873.\u001b[0m\n",
            "\u001b[32m[I 2021-11-09 08:58:07,591]\u001b[0m Trial 24 finished with value: 1144.4901563077876 and parameters: {'max_iter': 900, 'learning_rate': 0.22563334826913567, 'l2_regularization': 0.001, 'max_depth': 2, 'max_leaf_nodes': 13}. Best is trial 22 with value: 1121.6258713768873.\u001b[0m\n",
            "\u001b[32m[I 2021-11-09 08:58:09,536]\u001b[0m Trial 25 finished with value: 1181.7332564238684 and parameters: {'max_iter': 900, 'learning_rate': 0.2783235633541447, 'l2_regularization': 0.001, 'max_depth': 4, 'max_leaf_nodes': 20}. Best is trial 22 with value: 1121.6258713768873.\u001b[0m\n",
            "\u001b[32m[I 2021-11-09 08:58:10,356]\u001b[0m Trial 26 finished with value: 1122.5272826810742 and parameters: {'max_iter': 900, 'learning_rate': 0.2533628650804661, 'l2_regularization': 0.001, 'max_depth': 1, 'max_leaf_nodes': 13}. Best is trial 22 with value: 1121.6258713768873.\u001b[0m\n",
            "\u001b[32m[I 2021-11-09 08:58:11,062]\u001b[0m Trial 27 finished with value: 1140.4095818010958 and parameters: {'max_iter': 600, 'learning_rate': 0.17951349479991108, 'l2_regularization': 0.001, 'max_depth': 2, 'max_leaf_nodes': 25}. Best is trial 22 with value: 1121.6258713768873.\u001b[0m\n",
            "\u001b[32m[I 2021-11-09 08:58:12,186]\u001b[0m Trial 28 finished with value: 1162.4743665941912 and parameters: {'max_iter': 700, 'learning_rate': 0.2280947211768811, 'l2_regularization': 0.001, 'max_depth': 3, 'max_leaf_nodes': 19}. Best is trial 22 with value: 1121.6258713768873.\u001b[0m\n",
            "\u001b[32m[I 2021-11-09 08:58:13,315]\u001b[0m Trial 29 finished with value: 1168.890697034801 and parameters: {'max_iter': 400, 'learning_rate': 0.21532276187285562, 'l2_regularization': 0.001, 'max_depth': 5, 'max_leaf_nodes': 22}. Best is trial 22 with value: 1121.6258713768873.\u001b[0m\n",
            "\u001b[32m[I 2021-11-09 08:58:16,780]\u001b[0m Trial 30 finished with value: 1208.3054027140752 and parameters: {'max_iter': 800, 'learning_rate': 0.2759501319174813, 'l2_regularization': 0.001, 'max_depth': 7, 'max_leaf_nodes': 30}. Best is trial 22 with value: 1121.6258713768873.\u001b[0m\n",
            "\u001b[32m[I 2021-11-09 08:58:17,566]\u001b[0m Trial 31 finished with value: 1122.6091223792018 and parameters: {'max_iter': 900, 'learning_rate': 0.253666318578095, 'l2_regularization': 0.001, 'max_depth': 1, 'max_leaf_nodes': 13}. Best is trial 22 with value: 1121.6258713768873.\u001b[0m\n",
            "\u001b[32m[I 2021-11-09 08:58:18,380]\u001b[0m Trial 32 finished with value: 1122.8285440351774 and parameters: {'max_iter': 900, 'learning_rate': 0.24334387295485907, 'l2_regularization': 0.001, 'max_depth': 1, 'max_leaf_nodes': 12}. Best is trial 22 with value: 1121.6258713768873.\u001b[0m\n",
            "\u001b[32m[I 2021-11-09 08:58:19,465]\u001b[0m Trial 33 finished with value: 1146.8079095723192 and parameters: {'max_iter': 900, 'learning_rate': 0.26181702060605444, 'l2_regularization': 0.001, 'max_depth': 2, 'max_leaf_nodes': 15}. Best is trial 22 with value: 1121.6258713768873.\u001b[0m\n",
            "\u001b[32m[I 2021-11-09 08:58:19,577]\u001b[0m Trial 34 finished with value: 1125.7579693052808 and parameters: {'max_iter': 100, 'learning_rate': 0.24065136085684607, 'l2_regularization': 0.001, 'max_depth': 1, 'max_leaf_nodes': 11}. Best is trial 22 with value: 1121.6258713768873.\u001b[0m\n",
            "\u001b[32m[I 2021-11-09 08:58:20,401]\u001b[0m Trial 35 finished with value: 1156.6512196045362 and parameters: {'max_iter': 500, 'learning_rate': 0.2528931180152324, 'l2_regularization': 0.1, 'max_depth': 3, 'max_leaf_nodes': 15}. Best is trial 22 with value: 1121.6258713768873.\u001b[0m\n",
            "\u001b[32m[I 2021-11-09 08:58:20,782]\u001b[0m Trial 36 finished with value: 1136.0501042198453 and parameters: {'max_iter': 300, 'learning_rate': 0.23336374515291575, 'l2_regularization': 0.001, 'max_depth': 2, 'max_leaf_nodes': 24}. Best is trial 22 with value: 1121.6258713768873.\u001b[0m\n",
            "\u001b[32m[I 2021-11-09 08:58:22,793]\u001b[0m Trial 37 finished with value: 1174.530460424428 and parameters: {'max_iter': 900, 'learning_rate': 0.22041457962404287, 'l2_regularization': 0.001, 'max_depth': 4, 'max_leaf_nodes': 17}. Best is trial 22 with value: 1121.6258713768873.\u001b[0m\n",
            "\u001b[32m[I 2021-11-09 08:58:22,994]\u001b[0m Trial 38 finished with value: 1121.418558536104 and parameters: {'max_iter': 200, 'learning_rate': 0.19737853755598608, 'l2_regularization': 0.1, 'max_depth': 1, 'max_leaf_nodes': 21}. Best is trial 38 with value: 1121.418558536104.\u001b[0m\n",
            "\u001b[32m[I 2021-11-09 08:58:23,643]\u001b[0m Trial 39 finished with value: 1154.8252615359888 and parameters: {'max_iter': 200, 'learning_rate': 0.20405557245761094, 'l2_regularization': 0.1, 'max_depth': 5, 'max_leaf_nodes': 21}. Best is trial 38 with value: 1121.418558536104.\u001b[0m\n",
            "\u001b[32m[I 2021-11-09 08:58:23,897]\u001b[0m Trial 40 finished with value: 1130.7237741521806 and parameters: {'max_iter': 200, 'learning_rate': 0.18225202739669866, 'l2_regularization': 0.1, 'max_depth': 2, 'max_leaf_nodes': 17}. Best is trial 38 with value: 1121.418558536104.\u001b[0m\n",
            "\u001b[32m[I 2021-11-09 08:58:24,099]\u001b[0m Trial 41 finished with value: 1121.3718274793125 and parameters: {'max_iter': 200, 'learning_rate': 0.1890346659984246, 'l2_regularization': 0.1, 'max_depth': 1, 'max_leaf_nodes': 19}. Best is trial 41 with value: 1121.3718274793125.\u001b[0m\n",
            "\u001b[32m[I 2021-11-09 08:58:24,296]\u001b[0m Trial 42 finished with value: 1123.2005695633284 and parameters: {'max_iter': 200, 'learning_rate': 0.15484118200387967, 'l2_regularization': 0.1, 'max_depth': 1, 'max_leaf_nodes': 19}. Best is trial 41 with value: 1121.3718274793125.\u001b[0m\n",
            "\u001b[32m[I 2021-11-09 08:58:24,505]\u001b[0m Trial 43 finished with value: 1121.244672329786 and parameters: {'max_iter': 200, 'learning_rate': 0.19255421807718456, 'l2_regularization': 0.1, 'max_depth': 1, 'max_leaf_nodes': 23}. Best is trial 43 with value: 1121.244672329786.\u001b[0m\n",
            "\u001b[32m[I 2021-11-09 08:58:24,698]\u001b[0m Trial 44 finished with value: 1121.1090246312394 and parameters: {'max_iter': 200, 'learning_rate': 0.20166817062837794, 'l2_regularization': 0.1, 'max_depth': 1, 'max_leaf_nodes': 23}. Best is trial 44 with value: 1121.1090246312394.\u001b[0m\n",
            "\u001b[32m[I 2021-11-09 08:58:24,948]\u001b[0m Trial 45 finished with value: 1130.989343162181 and parameters: {'max_iter': 200, 'learning_rate': 0.19305332584996301, 'l2_regularization': 0.1, 'max_depth': 2, 'max_leaf_nodes': 23}. Best is trial 44 with value: 1121.1090246312394.\u001b[0m\n",
            "\u001b[32m[I 2021-11-09 08:58:25,143]\u001b[0m Trial 46 finished with value: 1122.6787570034337 and parameters: {'max_iter': 200, 'learning_rate': 0.1644453925000804, 'l2_regularization': 0.1, 'max_depth': 1, 'max_leaf_nodes': 28}. Best is trial 44 with value: 1121.1090246312394.\u001b[0m\n",
            "\u001b[32m[I 2021-11-09 08:58:25,504]\u001b[0m Trial 47 finished with value: 1134.2990529527638 and parameters: {'max_iter': 200, 'learning_rate': 0.13510284050990334, 'l2_regularization': 0.1, 'max_depth': 3, 'max_leaf_nodes': 26}. Best is trial 44 with value: 1121.1090246312394.\u001b[0m\n",
            "\u001b[32m[I 2021-11-09 08:58:26,399]\u001b[0m Trial 48 finished with value: 1163.890749140816 and parameters: {'max_iter': 200, 'learning_rate': 0.19073314705998218, 'l2_regularization': 0.1, 'max_depth': 9, 'max_leaf_nodes': 24}. Best is trial 44 with value: 1121.1090246312394.\u001b[0m\n",
            "\u001b[32m[I 2021-11-09 08:58:26,660]\u001b[0m Trial 49 finished with value: 1126.7308240057089 and parameters: {'max_iter': 200, 'learning_rate': 0.10569356099114958, 'l2_regularization': 0.1, 'max_depth': 2, 'max_leaf_nodes': 21}. Best is trial 44 with value: 1121.1090246312394.\u001b[0m\n"
          ]
        }
      ]
    },
    {
      "cell_type": "code",
      "metadata": {
        "colab": {
          "base_uri": "https://localhost:8080/"
        },
        "id": "SZ9SXU2CwYSn",
        "outputId": "9b67b07a-2b63-4a31-8c37-550d29977b6f"
      },
      "source": [
        "hgbt_params = study.best_trial.params\n",
        "hgbt_params"
      ],
      "execution_count": null,
      "outputs": [
        {
          "output_type": "execute_result",
          "data": {
            "text/plain": [
              "{'l2_regularization': 0.1,\n",
              " 'learning_rate': 0.20166817062837794,\n",
              " 'max_depth': 1,\n",
              " 'max_iter': 200,\n",
              " 'max_leaf_nodes': 23}"
            ]
          },
          "metadata": {},
          "execution_count": 304
        }
      ]
    },
    {
      "cell_type": "code",
      "metadata": {
        "id": "VCS65j--0Jd7"
      },
      "source": [
        "hgbt_params = {'l2_regularization': 0.1,\n",
        " 'learning_rate': 0.20166817062837794,\n",
        " 'max_depth': 1,\n",
        " 'max_iter': 200,\n",
        " 'max_leaf_nodes': 23}"
      ],
      "execution_count": null,
      "outputs": []
    },
    {
      "cell_type": "markdown",
      "metadata": {
        "id": "HqGhg6Nwvko4"
      },
      "source": [
        "## Cross - Validation"
      ]
    },
    {
      "cell_type": "markdown",
      "metadata": {
        "id": "6PCzEYRISEQH"
      },
      "source": [
        "### GradientBoosting"
      ]
    },
    {
      "cell_type": "code",
      "metadata": {
        "id": "wW984JnIUGjx"
      },
      "source": [
        "# Cross validation for gradient boosting\n",
        "\n",
        "def cross_val(X, y, model, params, folds=7):\n",
        "\n",
        "    score = []\n",
        "    \n",
        "    skf = KFold(n_splits=folds, shuffle=True, random_state=21)\n",
        "\n",
        "    for fold, (train_idx, test_idx) in enumerate(skf.split(X, y)):\n",
        "        print(f\"Fold: {fold+1}\")\n",
        "        x_train, y_train = X.iloc[train_idx], y.iloc[train_idx]\n",
        "        x_test, y_test = X.iloc[test_idx], y.iloc[test_idx]\n",
        "        \n",
        "        #fit\n",
        "        alg = model(**params)\n",
        "        alg.fit(x_train,y_train)\n",
        "\n",
        "        #predict validation\n",
        "        pred = alg.predict(x_test)\n",
        "        error = rmse(y_test, pred)\n",
        "        score.append(error)\n",
        "        \n",
        "        print(f\" RMSE: {error}\")\n",
        "        print(\"-\"*50)\n",
        "     \n",
        "    print(\"\\nmean RMSE:\",np.array(score).mean())\n",
        "\n",
        "    return alg"
      ],
      "execution_count": null,
      "outputs": []
    },
    {
      "cell_type": "code",
      "metadata": {
        "id": "sT-fyLB_Uags"
      },
      "source": [
        "gb_params = {\"random_state\": 2020}"
      ],
      "execution_count": null,
      "outputs": []
    },
    {
      "cell_type": "code",
      "metadata": {
        "id": "DikhG7v5wzpF"
      },
      "source": [
        "x_new = pd.concat([x_train_1, x_val_1]) \n",
        "y_new = pd.concat([y_train, y_val])"
      ],
      "execution_count": null,
      "outputs": []
    },
    {
      "cell_type": "code",
      "metadata": {
        "colab": {
          "base_uri": "https://localhost:8080/",
          "height": 439
        },
        "id": "sPbIxC9PxAld",
        "outputId": "7098dc86-1ce8-4635-e8b0-cf8e4f80e433"
      },
      "source": [
        "x_new"
      ],
      "execution_count": null,
      "outputs": [
        {
          "output_type": "execute_result",
          "data": {
            "text/html": [
              "<div>\n",
              "<style scoped>\n",
              "    .dataframe tbody tr th:only-of-type {\n",
              "        vertical-align: middle;\n",
              "    }\n",
              "\n",
              "    .dataframe tbody tr th {\n",
              "        vertical-align: top;\n",
              "    }\n",
              "\n",
              "    .dataframe thead th {\n",
              "        text-align: right;\n",
              "    }\n",
              "</style>\n",
              "<table border=\"1\" class=\"dataframe\">\n",
              "  <thead>\n",
              "    <tr style=\"text-align: right;\">\n",
              "      <th></th>\n",
              "      <th>Item_MRP</th>\n",
              "      <th>Outlet_Type</th>\n",
              "      <th>Outlet_Identifier</th>\n",
              "    </tr>\n",
              "  </thead>\n",
              "  <tbody>\n",
              "    <tr>\n",
              "      <th>2067</th>\n",
              "      <td>151.1024</td>\n",
              "      <td>1</td>\n",
              "      <td>7</td>\n",
              "    </tr>\n",
              "    <tr>\n",
              "      <th>3733</th>\n",
              "      <td>190.0530</td>\n",
              "      <td>3</td>\n",
              "      <td>5</td>\n",
              "    </tr>\n",
              "    <tr>\n",
              "      <th>8188</th>\n",
              "      <td>119.6756</td>\n",
              "      <td>1</td>\n",
              "      <td>8</td>\n",
              "    </tr>\n",
              "    <tr>\n",
              "      <th>7000</th>\n",
              "      <td>109.7254</td>\n",
              "      <td>2</td>\n",
              "      <td>3</td>\n",
              "    </tr>\n",
              "    <tr>\n",
              "      <th>2213</th>\n",
              "      <td>199.1742</td>\n",
              "      <td>1</td>\n",
              "      <td>6</td>\n",
              "    </tr>\n",
              "    <tr>\n",
              "      <th>...</th>\n",
              "      <td>...</td>\n",
              "      <td>...</td>\n",
              "      <td>...</td>\n",
              "    </tr>\n",
              "    <tr>\n",
              "      <th>5954</th>\n",
              "      <td>224.6088</td>\n",
              "      <td>3</td>\n",
              "      <td>5</td>\n",
              "    </tr>\n",
              "    <tr>\n",
              "      <th>4901</th>\n",
              "      <td>143.7812</td>\n",
              "      <td>3</td>\n",
              "      <td>5</td>\n",
              "    </tr>\n",
              "    <tr>\n",
              "      <th>7587</th>\n",
              "      <td>101.9674</td>\n",
              "      <td>1</td>\n",
              "      <td>6</td>\n",
              "    </tr>\n",
              "    <tr>\n",
              "      <th>3102</th>\n",
              "      <td>42.5770</td>\n",
              "      <td>1</td>\n",
              "      <td>9</td>\n",
              "    </tr>\n",
              "    <tr>\n",
              "      <th>1273</th>\n",
              "      <td>39.2164</td>\n",
              "      <td>1</td>\n",
              "      <td>9</td>\n",
              "    </tr>\n",
              "  </tbody>\n",
              "</table>\n",
              "<p>8523 rows × 3 columns</p>\n",
              "</div>"
            ],
            "text/plain": [
              "      Item_MRP  Outlet_Type  Outlet_Identifier\n",
              "2067  151.1024            1                  7\n",
              "3733  190.0530            3                  5\n",
              "8188  119.6756            1                  8\n",
              "7000  109.7254            2                  3\n",
              "2213  199.1742            1                  6\n",
              "...        ...          ...                ...\n",
              "5954  224.6088            3                  5\n",
              "4901  143.7812            3                  5\n",
              "7587  101.9674            1                  6\n",
              "3102   42.5770            1                  9\n",
              "1273   39.2164            1                  9\n",
              "\n",
              "[8523 rows x 3 columns]"
            ]
          },
          "metadata": {},
          "execution_count": 68
        }
      ]
    },
    {
      "cell_type": "code",
      "metadata": {
        "colab": {
          "base_uri": "https://localhost:8080/"
        },
        "id": "ure7Ga18UNjD",
        "outputId": "17beed07-27d7-473b-ba4a-14a99e685f38"
      },
      "source": [
        "gb_score = cross_val(x_new, y_new, GradientBoostingRegressor, gb_params)"
      ],
      "execution_count": null,
      "outputs": [
        {
          "output_type": "stream",
          "name": "stdout",
          "text": [
            "Fold: 1\n",
            " RMSE: 1109.0841705651922\n",
            "--------------------------------------------------\n",
            "Fold: 2\n",
            " RMSE: 1162.6373624351595\n",
            "--------------------------------------------------\n",
            "Fold: 3\n",
            " RMSE: 1127.617900854192\n",
            "--------------------------------------------------\n",
            "Fold: 4\n",
            " RMSE: 1091.8110330429374\n",
            "--------------------------------------------------\n",
            "Fold: 5\n",
            " RMSE: 1119.2888620909716\n",
            "--------------------------------------------------\n",
            "Fold: 6\n",
            " RMSE: 1041.1229020596968\n",
            "--------------------------------------------------\n",
            "Fold: 7\n",
            " RMSE: 1149.3113994804307\n",
            "--------------------------------------------------\n",
            "\n",
            "mean RMSE: 1114.41051864694\n"
          ]
        }
      ]
    },
    {
      "cell_type": "code",
      "metadata": {
        "id": "UDTBKbr756EC"
      },
      "source": [
        "pred_gb = gb_score.predict(x_val_1)"
      ],
      "execution_count": null,
      "outputs": []
    },
    {
      "cell_type": "code",
      "metadata": {
        "colab": {
          "base_uri": "https://localhost:8080/"
        },
        "id": "xyzXT5hB6CIc",
        "outputId": "f9c47821-e552-4142-fb84-eda5522d4c0b"
      },
      "source": [
        "rmse(y_val, pred_gb)"
      ],
      "execution_count": null,
      "outputs": [
        {
          "output_type": "execute_result",
          "data": {
            "text/plain": [
              "1106.1816382214947"
            ]
          },
          "metadata": {},
          "execution_count": 76
        }
      ]
    },
    {
      "cell_type": "code",
      "metadata": {
        "colab": {
          "base_uri": "https://localhost:8080/"
        },
        "id": "4xgwsCSE6ItH",
        "outputId": "2c8ef59e-2b8c-4bff-d144-d48f2fc3d492"
      },
      "source": [
        "mae(y_val, pred_gb)"
      ],
      "execution_count": null,
      "outputs": [
        {
          "output_type": "execute_result",
          "data": {
            "text/plain": [
              "762.6138754953605"
            ]
          },
          "metadata": {},
          "execution_count": 77
        }
      ]
    },
    {
      "cell_type": "code",
      "metadata": {
        "colab": {
          "base_uri": "https://localhost:8080/"
        },
        "id": "SaiiB5Kf0roL",
        "outputId": "9d85e61c-cfbf-408f-da84-a04edd28155e"
      },
      "source": [
        "r2(y_val, pred_gb)"
      ],
      "execution_count": null,
      "outputs": [
        {
          "output_type": "execute_result",
          "data": {
            "text/plain": [
              "0.5834036858765836"
            ]
          },
          "metadata": {},
          "execution_count": 91
        }
      ]
    },
    {
      "cell_type": "markdown",
      "metadata": {
        "id": "3cI07JL3Sh78"
      },
      "source": [
        "### HistGradientBoosting"
      ]
    },
    {
      "cell_type": "code",
      "metadata": {
        "id": "--NVarzbVwlL"
      },
      "source": [
        "# Cross validation for HGBt\n",
        "\n",
        "def cross_val(X, y, model, params, folds=7):\n",
        "\n",
        "    score = []\n",
        "    \n",
        "    skf = KFold(n_splits=folds, shuffle=True, random_state=21)\n",
        "\n",
        "    for fold, (train_idx, test_idx) in enumerate(skf.split(X, y)):\n",
        "        print(f\"Fold: {fold+1}\")\n",
        "        x_train, y_train = X.iloc[train_idx], y.iloc[train_idx]\n",
        "        x_test, y_test = X.iloc[test_idx], y.iloc[test_idx]\n",
        "        \n",
        "        #fit\n",
        "        alg = model(**params,random_state=2021)\n",
        "        alg.fit(x_train,y_train)\n",
        "\n",
        "        #predict validation\n",
        "        pred = alg.predict(x_test)\n",
        "        error = rmse(y_test, pred)\n",
        "        score.append(error)\n",
        "        \n",
        "        print(f\" RMSE: {error}\")\n",
        "        print(\"-\"*50)\n",
        "     \n",
        "    print(\"\\nmean RMSE:\",np.array(score).mean())\n",
        "\n",
        "    return alg"
      ],
      "execution_count": null,
      "outputs": []
    },
    {
      "cell_type": "code",
      "metadata": {
        "colab": {
          "base_uri": "https://localhost:8080/"
        },
        "id": "NqsVbvHA6cir",
        "outputId": "dda80af2-c822-4b27-a55c-d5d4c9e675da"
      },
      "source": [
        "hgbt_params"
      ],
      "execution_count": null,
      "outputs": [
        {
          "output_type": "execute_result",
          "data": {
            "text/plain": [
              "{'l2_regularization': 0.1,\n",
              " 'learning_rate': 0.20166817062837794,\n",
              " 'max_depth': 1,\n",
              " 'max_iter': 200,\n",
              " 'max_leaf_nodes': 23}"
            ]
          },
          "metadata": {},
          "execution_count": 79
        }
      ]
    },
    {
      "cell_type": "code",
      "metadata": {
        "colab": {
          "base_uri": "https://localhost:8080/"
        },
        "id": "0noGQsoTWCNq",
        "outputId": "62a210e3-0c8c-4d84-f656-6bcaca4c0bd1"
      },
      "source": [
        "hgbt_score = cross_val(x_new, y_new, HistGradientBoostingRegressor, hgbt_params)"
      ],
      "execution_count": null,
      "outputs": [
        {
          "output_type": "stream",
          "name": "stdout",
          "text": [
            "Fold: 1\n",
            " RMSE: 1108.9083132015112\n",
            "--------------------------------------------------\n",
            "Fold: 2\n",
            " RMSE: 1152.1013342634135\n",
            "--------------------------------------------------\n",
            "Fold: 3\n",
            " RMSE: 1118.0603355782414\n",
            "--------------------------------------------------\n",
            "Fold: 4\n",
            " RMSE: 1086.0724417288748\n",
            "--------------------------------------------------\n",
            "Fold: 5\n",
            " RMSE: 1100.896172097411\n",
            "--------------------------------------------------\n",
            "Fold: 6\n",
            " RMSE: 1037.5013240583091\n",
            "--------------------------------------------------\n",
            "Fold: 7\n",
            " RMSE: 1129.0850739536936\n",
            "--------------------------------------------------\n",
            "\n",
            "mean RMSE: 1104.6607135544934\n"
          ]
        }
      ]
    },
    {
      "cell_type": "code",
      "metadata": {
        "id": "M8LlPkb669Sm"
      },
      "source": [
        "pred_hgbt = hgbt_score.predict(x_val_1)"
      ],
      "execution_count": null,
      "outputs": []
    },
    {
      "cell_type": "code",
      "metadata": {
        "colab": {
          "base_uri": "https://localhost:8080/"
        },
        "id": "oD573V8f7PZu",
        "outputId": "31e0b34c-258d-4bef-d8c5-adaee2e4338c"
      },
      "source": [
        "rmse(y_val, pred_hgbt)"
      ],
      "execution_count": null,
      "outputs": [
        {
          "output_type": "execute_result",
          "data": {
            "text/plain": [
              "1118.5542001686654"
            ]
          },
          "metadata": {},
          "execution_count": 82
        }
      ]
    },
    {
      "cell_type": "code",
      "metadata": {
        "colab": {
          "base_uri": "https://localhost:8080/"
        },
        "id": "BGgqNFBL7Txk",
        "outputId": "9a9490db-c51e-4851-ef48-749581177a22"
      },
      "source": [
        "mae(y_val, pred_hgbt)"
      ],
      "execution_count": null,
      "outputs": [
        {
          "output_type": "execute_result",
          "data": {
            "text/plain": [
              "771.2969373924883"
            ]
          },
          "metadata": {},
          "execution_count": 83
        }
      ]
    },
    {
      "cell_type": "code",
      "metadata": {
        "colab": {
          "base_uri": "https://localhost:8080/"
        },
        "id": "s8s3hd-r0zoy",
        "outputId": "f68fb447-2299-4910-8175-614b07452d9d"
      },
      "source": [
        "r2(y_val, pred_hgbt)"
      ],
      "execution_count": null,
      "outputs": [
        {
          "output_type": "execute_result",
          "data": {
            "text/plain": [
              "0.5740323690552883"
            ]
          },
          "metadata": {},
          "execution_count": 92
        }
      ]
    },
    {
      "cell_type": "markdown",
      "metadata": {
        "id": "Ohmpa63ARPKU"
      },
      "source": [
        "### XGBoost"
      ]
    },
    {
      "cell_type": "code",
      "metadata": {
        "id": "M6H6qp0RRXXo"
      },
      "source": [
        "# Cross validation for xgboost\n",
        "\n",
        "def cross_val(X, y,model, params, folds=7):\n",
        "\n",
        "    score = []\n",
        "    \n",
        "    skf = KFold(n_splits=folds, shuffle=True, random_state=21)\n",
        "\n",
        "    for fold, (train_idx, test_idx) in enumerate(skf.split(X, y)):\n",
        "        print(f\"Fold: {fold+1}\")\n",
        "        x_train, y_train = X.iloc[train_idx], y.iloc[train_idx]\n",
        "        x_test, y_test = X.iloc[test_idx], y.iloc[test_idx]\n",
        "        \n",
        "        #fit\n",
        "        alg = model(**params,random_state=2021)\n",
        "        alg.fit(x_train,y_train,eval_set=[(x_test,y_test)],verbose=False,early_stopping_rounds=100)\n",
        "\n",
        "        #predict validation\n",
        "        pred = alg.predict(x_test)\n",
        "        error = rmse(y_test, pred)\n",
        "        score.append(error)\n",
        "        \n",
        "        print(f\" RMSE: {error}\")\n",
        "        print(\"-\"*50)\n",
        "     \n",
        "    print(\"\\nmean RMSE:\",np.array(score).mean())\n",
        "\n",
        "    return alg"
      ],
      "execution_count": null,
      "outputs": []
    },
    {
      "cell_type": "code",
      "metadata": {
        "id": "yVfts7qvWv4B"
      },
      "source": [
        "xgb_params[\"objective\"] = \"reg:squarederror\""
      ],
      "execution_count": null,
      "outputs": []
    },
    {
      "cell_type": "code",
      "metadata": {
        "colab": {
          "base_uri": "https://localhost:8080/"
        },
        "id": "CGjX-aeV7hJR",
        "outputId": "868baac2-dbf8-456f-a5e4-390a5bf8aa90"
      },
      "source": [
        "xgb_params"
      ],
      "execution_count": null,
      "outputs": [
        {
          "output_type": "execute_result",
          "data": {
            "text/plain": [
              "{'alpha': 0.05363443922625258,\n",
              " 'colsample_bytree': 0.5,\n",
              " 'eta': 0.0025322970961317737,\n",
              " 'gamma': 3,\n",
              " 'lambda': 0.0011495211356952334,\n",
              " 'max_depth': 2,\n",
              " 'min_child_weight': 155,\n",
              " 'n_estimators': 10000,\n",
              " 'objective': 'reg:squarederror',\n",
              " 'reg_alpha': 5,\n",
              " 'reg_lambda': 5,\n",
              " 'subsample': 0.4,\n",
              " 'tree_method': 'gpu_hist'}"
            ]
          },
          "metadata": {},
          "execution_count": 86
        }
      ]
    },
    {
      "cell_type": "code",
      "metadata": {
        "colab": {
          "base_uri": "https://localhost:8080/"
        },
        "id": "nQQR5NYCXWZW",
        "outputId": "459bc145-1679-454f-f4ee-c61d98a6f23a"
      },
      "source": [
        "xgb_score = cross_val(x_new, y_new, XGBRegressor, xgb_params)"
      ],
      "execution_count": null,
      "outputs": [
        {
          "output_type": "stream",
          "name": "stdout",
          "text": [
            "Fold: 1\n",
            " RMSE: 1104.6191632797647\n",
            "--------------------------------------------------\n",
            "Fold: 2\n",
            " RMSE: 1151.9905987308273\n",
            "--------------------------------------------------\n",
            "Fold: 3\n",
            " RMSE: 1115.1749118407524\n",
            "--------------------------------------------------\n",
            "Fold: 4\n",
            " RMSE: 1082.4040701966\n",
            "--------------------------------------------------\n",
            "Fold: 5\n",
            " RMSE: 1117.2839452450119\n",
            "--------------------------------------------------\n",
            "Fold: 6\n",
            " RMSE: 1041.8600805777778\n",
            "--------------------------------------------------\n",
            "Fold: 7\n",
            " RMSE: 1128.485169964832\n",
            "--------------------------------------------------\n",
            "\n",
            "mean RMSE: 1105.9739914050808\n"
          ]
        }
      ]
    },
    {
      "cell_type": "code",
      "metadata": {
        "id": "OZRCCClU7u_p"
      },
      "source": [
        "pred_xgb = xgb_score.predict(x_val_1)"
      ],
      "execution_count": null,
      "outputs": []
    },
    {
      "cell_type": "code",
      "metadata": {
        "colab": {
          "base_uri": "https://localhost:8080/"
        },
        "id": "CvFsk8bi71Pp",
        "outputId": "ce3ed969-f1c1-4f5d-84e2-3ebcb023fbab"
      },
      "source": [
        "rmse(y_val, pred_xgb)"
      ],
      "execution_count": null,
      "outputs": [
        {
          "output_type": "execute_result",
          "data": {
            "text/plain": [
              "1116.548157408176"
            ]
          },
          "metadata": {},
          "execution_count": 89
        }
      ]
    },
    {
      "cell_type": "code",
      "metadata": {
        "colab": {
          "base_uri": "https://localhost:8080/"
        },
        "id": "v98a7v1W752I",
        "outputId": "86c87a9d-cca5-41de-bc31-23e2e1390b8f"
      },
      "source": [
        "mae(y_val, pred_xgb)"
      ],
      "execution_count": null,
      "outputs": [
        {
          "output_type": "execute_result",
          "data": {
            "text/plain": [
              "770.6443933960389"
            ]
          },
          "metadata": {},
          "execution_count": 90
        }
      ]
    },
    {
      "cell_type": "code",
      "metadata": {
        "colab": {
          "base_uri": "https://localhost:8080/"
        },
        "id": "XSjttaYo05Wh",
        "outputId": "24d6bf2b-84e8-4f74-c73c-e590978aa322"
      },
      "source": [
        "r2(y_val, pred_xgb)"
      ],
      "execution_count": null,
      "outputs": [
        {
          "output_type": "execute_result",
          "data": {
            "text/plain": [
              "0.5755588807488528"
            ]
          },
          "metadata": {},
          "execution_count": 93
        }
      ]
    },
    {
      "cell_type": "markdown",
      "metadata": {
        "id": "9gN20XuW0m1-"
      },
      "source": [
        "### LGBM"
      ]
    },
    {
      "cell_type": "code",
      "metadata": {
        "id": "FZFz4pZA0oE9"
      },
      "source": [
        "# Cross validation for lgbm\n",
        "\n",
        "def cross_val(X, y, model, params, folds=7):\n",
        "\n",
        "    score = []\n",
        "    \n",
        "    skf = KFold(n_splits=folds, shuffle=True, random_state=21)\n",
        "\n",
        "    for fold, (train_idx, test_idx) in enumerate(skf.split(X, y)):\n",
        "        print(f\"Fold: {fold+1}\")\n",
        "        x_train, y_train = X.iloc[train_idx], y.iloc[train_idx]\n",
        "        x_test, y_test = X.iloc[test_idx], y.iloc[test_idx]\n",
        "        \n",
        "        #fit\n",
        "        alg = model(**params,random_state=2021)\n",
        "        alg.fit(x_train,y_train,eval_set=[(x_test,y_test)],verbose=False,early_stopping_rounds=100)\n",
        "\n",
        "        #predict validation\n",
        "        pred = alg.predict(x_test)\n",
        "        error = rmse(y_test, pred)\n",
        "        score.append(error)\n",
        "        \n",
        "        print(f\" RMSE: {error}\")\n",
        "        print(\"-\"*50)\n",
        "     \n",
        "    print(\"\\nmean RMSE:\",np.array(score).mean())\n",
        "\n",
        "    return alg"
      ],
      "execution_count": null,
      "outputs": []
    },
    {
      "cell_type": "code",
      "metadata": {
        "id": "xwjwt4gcRtQM"
      },
      "source": [
        "x_new = pd.concat([x_train_2, x_val_2]) \n",
        "y_new = pd.concat([y_train, y_val])"
      ],
      "execution_count": null,
      "outputs": []
    },
    {
      "cell_type": "code",
      "metadata": {
        "colab": {
          "base_uri": "https://localhost:8080/"
        },
        "id": "oyUbsmddY4md",
        "outputId": "0983382c-230c-4805-f77b-0ee8ebec7f67"
      },
      "source": [
        "lgbm_params"
      ],
      "execution_count": null,
      "outputs": [
        {
          "output_type": "execute_result",
          "data": {
            "text/plain": [
              "{'bagging_fraction': 0.6000000000000001,\n",
              " 'bagging_freq': 1,\n",
              " 'feature_fraction': 0.9,\n",
              " 'lambda_l1': 20,\n",
              " 'lambda_l2': 95,\n",
              " 'learning_rate': 0.22923268216107173,\n",
              " 'max_depth': 12,\n",
              " 'min_data_in_leaf': 400,\n",
              " 'min_gain_to_split': 0.6603205026072256,\n",
              " 'n_estimators': 10000,\n",
              " 'num_leaves': 580,\n",
              " 'objective': 'regression'}"
            ]
          },
          "metadata": {},
          "execution_count": 96
        }
      ]
    },
    {
      "cell_type": "code",
      "metadata": {
        "colab": {
          "base_uri": "https://localhost:8080/"
        },
        "id": "G9XnbmI5Y8gS",
        "outputId": "73216c3f-2670-464b-9b48-9b1396625a3a"
      },
      "source": [
        "lgbm_score = cross_val(x_new, y_new, LGBMRegressor, lgbm_params)"
      ],
      "execution_count": null,
      "outputs": [
        {
          "output_type": "stream",
          "name": "stdout",
          "text": [
            "Fold: 1\n",
            " RMSE: 1113.2353661859825\n",
            "--------------------------------------------------\n",
            "Fold: 2\n",
            " RMSE: 1149.6879682531758\n",
            "--------------------------------------------------\n",
            "Fold: 3\n",
            " RMSE: 1109.0969337862823\n",
            "--------------------------------------------------\n",
            "Fold: 4\n",
            " RMSE: 1090.472736967194\n",
            "--------------------------------------------------\n",
            "Fold: 5\n",
            " RMSE: 1108.2202942677848\n",
            "--------------------------------------------------\n",
            "Fold: 6\n",
            " RMSE: 1039.315816332617\n",
            "--------------------------------------------------\n",
            "Fold: 7\n",
            " RMSE: 1136.4675734080674\n",
            "--------------------------------------------------\n",
            "\n",
            "mean RMSE: 1106.6423841715862\n"
          ]
        }
      ]
    },
    {
      "cell_type": "code",
      "metadata": {
        "id": "f6B8KN1b8MS4"
      },
      "source": [
        "pred_lgbm = lgbm_score.predict(x_val_2)"
      ],
      "execution_count": null,
      "outputs": []
    },
    {
      "cell_type": "code",
      "metadata": {
        "colab": {
          "base_uri": "https://localhost:8080/"
        },
        "id": "tWRZCPd38Q00",
        "outputId": "9f75ceeb-e751-4421-bc65-70753e51e36d"
      },
      "source": [
        "rmse(y_val, pred_lgbm)"
      ],
      "execution_count": null,
      "outputs": [
        {
          "output_type": "execute_result",
          "data": {
            "text/plain": [
              "1120.4424961255554"
            ]
          },
          "metadata": {},
          "execution_count": 99
        }
      ]
    },
    {
      "cell_type": "code",
      "metadata": {
        "colab": {
          "base_uri": "https://localhost:8080/"
        },
        "id": "wd-Bj5Cc8U-J",
        "outputId": "22d91c68-6841-46da-abe5-a24d0cb5fd11"
      },
      "source": [
        "mae(y_val, pred_lgbm)"
      ],
      "execution_count": null,
      "outputs": [
        {
          "output_type": "execute_result",
          "data": {
            "text/plain": [
              "776.0887494734056"
            ]
          },
          "metadata": {},
          "execution_count": 100
        }
      ]
    },
    {
      "cell_type": "code",
      "metadata": {
        "colab": {
          "base_uri": "https://localhost:8080/"
        },
        "id": "1ep-sjEh0_yM",
        "outputId": "f36f0c74-7bdb-4b1f-8d5a-a9b3bded2298"
      },
      "source": [
        "r2(y_val, pred_lgbm)"
      ],
      "execution_count": null,
      "outputs": [
        {
          "output_type": "execute_result",
          "data": {
            "text/plain": [
              "0.5725929539737472"
            ]
          },
          "metadata": {},
          "execution_count": 101
        }
      ]
    },
    {
      "cell_type": "markdown",
      "metadata": {
        "id": "oMtxuc3LRMSc"
      },
      "source": [
        "### CatBoost"
      ]
    },
    {
      "cell_type": "code",
      "metadata": {
        "id": "gYYWoTjjRVkp"
      },
      "source": [
        "# Cross validation for catboost\n",
        "\n",
        "def cross_val(X, y, model, params, folds=7):\n",
        "\n",
        "    score = []\n",
        "    \n",
        "    skf = KFold(n_splits=folds, shuffle=True, random_state=21)\n",
        "\n",
        "    for fold, (train_idx, test_idx) in enumerate(skf.split(X, y)):\n",
        "        print(f\"Fold: {fold+1}\")\n",
        "        x_train, y_train = X.iloc[train_idx], y.iloc[train_idx]\n",
        "        x_test, y_test = X.iloc[test_idx], y.iloc[test_idx]\n",
        "        \n",
        "        #fit\n",
        "        alg = model(**params,random_state=2021)\n",
        "        alg.fit(x_train,y_train,eval_set=[(x_test,y_test)],cat_features=cater.to_list(),verbose=False,early_stopping_rounds=100)\n",
        "\n",
        "        #predict validation\n",
        "        pred = alg.predict(x_test)\n",
        "        error = rmse(y_test, pred)\n",
        "        score.append(error)\n",
        "        \n",
        "        print(f\" RMSE: {error}\")\n",
        "        print(\"-\"*50)\n",
        "     \n",
        "    print(\"\\nmean RMSE:\",np.array(score).mean())\n",
        "\n",
        "    return alg"
      ],
      "execution_count": null,
      "outputs": []
    },
    {
      "cell_type": "code",
      "metadata": {
        "colab": {
          "base_uri": "https://localhost:8080/"
        },
        "id": "P9omN84U8iHa",
        "outputId": "98bc34f2-19c8-496f-e9ce-6e0fe65c46aa"
      },
      "source": [
        "cb_params"
      ],
      "execution_count": null,
      "outputs": [
        {
          "output_type": "execute_result",
          "data": {
            "text/plain": [
              "{'boosting_type': 'Plain',\n",
              " 'bootstrap_type': 'Bernoulli',\n",
              " 'depth': 1,\n",
              " 'iterations': 10000,\n",
              " 'leaf_estimation_iterations': 11,\n",
              " 'learning_rate': 0.9305867882778214,\n",
              " 'min_data_in_leaf': 9,\n",
              " 'od_wait': 1872,\n",
              " 'random_strength': 24.756100827306103,\n",
              " 'reg_lambda': 58.098792123997974,\n",
              " 'subsample': 0.6663414751786787,\n",
              " 'task_type': 'GPU'}"
            ]
          },
          "metadata": {},
          "execution_count": 104
        }
      ]
    },
    {
      "cell_type": "code",
      "metadata": {
        "colab": {
          "base_uri": "https://localhost:8080/"
        },
        "id": "94qxOeNfZ_o8",
        "outputId": "06c4741b-836d-493c-c5d8-05d0e8f92292"
      },
      "source": [
        "cb_score = cross_val(x_new, y_new, CatBoostRegressor, cb_params)"
      ],
      "execution_count": null,
      "outputs": [
        {
          "output_type": "stream",
          "name": "stdout",
          "text": [
            "Fold: 1\n",
            " RMSE: 1107.3915044844493\n",
            "--------------------------------------------------\n",
            "Fold: 2\n",
            " RMSE: 1157.1562828034519\n",
            "--------------------------------------------------\n",
            "Fold: 3\n",
            " RMSE: 1120.7584124103523\n",
            "--------------------------------------------------\n",
            "Fold: 4\n",
            " RMSE: 1087.9746953394508\n",
            "--------------------------------------------------\n",
            "Fold: 5\n",
            " RMSE: 1099.7128151798927\n",
            "--------------------------------------------------\n",
            "Fold: 6\n",
            " RMSE: 1031.892647209022\n",
            "--------------------------------------------------\n",
            "Fold: 7\n",
            " RMSE: 1137.209230385175\n",
            "--------------------------------------------------\n",
            "\n",
            "mean RMSE: 1106.0136554016847\n"
          ]
        }
      ]
    },
    {
      "cell_type": "code",
      "metadata": {
        "id": "wTgW795T8yQ0"
      },
      "source": [
        "pred_cb = cb_score.predict(x_val_2)"
      ],
      "execution_count": null,
      "outputs": []
    },
    {
      "cell_type": "code",
      "metadata": {
        "colab": {
          "base_uri": "https://localhost:8080/"
        },
        "id": "kCTul0oF831H",
        "outputId": "a2d7623d-be20-4077-b3c4-98f6184ac93d"
      },
      "source": [
        "rmse(y_val, pred_cb)"
      ],
      "execution_count": null,
      "outputs": [
        {
          "output_type": "execute_result",
          "data": {
            "text/plain": [
              "1121.6823066917177"
            ]
          },
          "metadata": {},
          "execution_count": 107
        }
      ]
    },
    {
      "cell_type": "code",
      "metadata": {
        "colab": {
          "base_uri": "https://localhost:8080/"
        },
        "id": "tm2CcL3C86jW",
        "outputId": "7d4e693c-2376-46d0-cd44-06772abf4bac"
      },
      "source": [
        "mae(y_val, pred_cb)"
      ],
      "execution_count": null,
      "outputs": [
        {
          "output_type": "execute_result",
          "data": {
            "text/plain": [
              "773.2890708659658"
            ]
          },
          "metadata": {},
          "execution_count": 108
        }
      ]
    },
    {
      "cell_type": "code",
      "metadata": {
        "colab": {
          "base_uri": "https://localhost:8080/"
        },
        "id": "cA_ovpVc1EqW",
        "outputId": "d631d7ed-35fd-4b5d-9c4d-ae612eaaef73"
      },
      "source": [
        "r2(y_val, pred_cb)"
      ],
      "execution_count": null,
      "outputs": [
        {
          "output_type": "execute_result",
          "data": {
            "text/plain": [
              "0.5716465476164505"
            ]
          },
          "metadata": {},
          "execution_count": 109
        }
      ]
    },
    {
      "cell_type": "markdown",
      "metadata": {
        "id": "LKgmj_bu1U4K"
      },
      "source": [
        "### Buat submission"
      ]
    },
    {
      "cell_type": "code",
      "metadata": {
        "id": "G6WiXger1byj"
      },
      "source": [
        "sub = pd.read_csv(\"/content/drive/MyDrive/Bigmart 2 /sample_submission_bigmart.csv\")"
      ],
      "execution_count": null,
      "outputs": []
    },
    {
      "cell_type": "code",
      "metadata": {
        "colab": {
          "base_uri": "https://localhost:8080/",
          "height": 439
        },
        "id": "dSqqcU0V2Pqa",
        "outputId": "dd67ef67-eb4a-4c0b-f389-a4acab0a2e79"
      },
      "source": [
        "sub"
      ],
      "execution_count": null,
      "outputs": [
        {
          "output_type": "execute_result",
          "data": {
            "text/html": [
              "<div>\n",
              "<style scoped>\n",
              "    .dataframe tbody tr th:only-of-type {\n",
              "        vertical-align: middle;\n",
              "    }\n",
              "\n",
              "    .dataframe tbody tr th {\n",
              "        vertical-align: top;\n",
              "    }\n",
              "\n",
              "    .dataframe thead th {\n",
              "        text-align: right;\n",
              "    }\n",
              "</style>\n",
              "<table border=\"1\" class=\"dataframe\">\n",
              "  <thead>\n",
              "    <tr style=\"text-align: right;\">\n",
              "      <th></th>\n",
              "      <th>Item_Identifier</th>\n",
              "      <th>Outlet_Identifier</th>\n",
              "      <th>Item_Outlet_Sales</th>\n",
              "    </tr>\n",
              "  </thead>\n",
              "  <tbody>\n",
              "    <tr>\n",
              "      <th>0</th>\n",
              "      <td>FDW58</td>\n",
              "      <td>OUT049</td>\n",
              "      <td>1000</td>\n",
              "    </tr>\n",
              "    <tr>\n",
              "      <th>1</th>\n",
              "      <td>FDW14</td>\n",
              "      <td>OUT017</td>\n",
              "      <td>1000</td>\n",
              "    </tr>\n",
              "    <tr>\n",
              "      <th>2</th>\n",
              "      <td>NCN55</td>\n",
              "      <td>OUT010</td>\n",
              "      <td>1000</td>\n",
              "    </tr>\n",
              "    <tr>\n",
              "      <th>3</th>\n",
              "      <td>FDQ58</td>\n",
              "      <td>OUT017</td>\n",
              "      <td>1000</td>\n",
              "    </tr>\n",
              "    <tr>\n",
              "      <th>4</th>\n",
              "      <td>FDY38</td>\n",
              "      <td>OUT027</td>\n",
              "      <td>1000</td>\n",
              "    </tr>\n",
              "    <tr>\n",
              "      <th>...</th>\n",
              "      <td>...</td>\n",
              "      <td>...</td>\n",
              "      <td>...</td>\n",
              "    </tr>\n",
              "    <tr>\n",
              "      <th>5676</th>\n",
              "      <td>FDB58</td>\n",
              "      <td>OUT046</td>\n",
              "      <td>1000</td>\n",
              "    </tr>\n",
              "    <tr>\n",
              "      <th>5677</th>\n",
              "      <td>FDD47</td>\n",
              "      <td>OUT018</td>\n",
              "      <td>1000</td>\n",
              "    </tr>\n",
              "    <tr>\n",
              "      <th>5678</th>\n",
              "      <td>NCO17</td>\n",
              "      <td>OUT045</td>\n",
              "      <td>1000</td>\n",
              "    </tr>\n",
              "    <tr>\n",
              "      <th>5679</th>\n",
              "      <td>FDJ26</td>\n",
              "      <td>OUT017</td>\n",
              "      <td>1000</td>\n",
              "    </tr>\n",
              "    <tr>\n",
              "      <th>5680</th>\n",
              "      <td>FDU37</td>\n",
              "      <td>OUT045</td>\n",
              "      <td>1000</td>\n",
              "    </tr>\n",
              "  </tbody>\n",
              "</table>\n",
              "<p>5681 rows × 3 columns</p>\n",
              "</div>"
            ],
            "text/plain": [
              "     Item_Identifier Outlet_Identifier  Item_Outlet_Sales\n",
              "0              FDW58            OUT049               1000\n",
              "1              FDW14            OUT017               1000\n",
              "2              NCN55            OUT010               1000\n",
              "3              FDQ58            OUT017               1000\n",
              "4              FDY38            OUT027               1000\n",
              "...              ...               ...                ...\n",
              "5676           FDB58            OUT046               1000\n",
              "5677           FDD47            OUT018               1000\n",
              "5678           NCO17            OUT045               1000\n",
              "5679           FDJ26            OUT017               1000\n",
              "5680           FDU37            OUT045               1000\n",
              "\n",
              "[5681 rows x 3 columns]"
            ]
          },
          "metadata": {},
          "execution_count": 113
        }
      ]
    },
    {
      "cell_type": "code",
      "metadata": {
        "id": "1WAFCWi52RzI"
      },
      "source": [
        "# predict test dengan gradient boosting"
      ],
      "execution_count": null,
      "outputs": []
    },
    {
      "cell_type": "code",
      "metadata": {
        "id": "AahMBtAx2cZU"
      },
      "source": [
        "tester = test[col]"
      ],
      "execution_count": null,
      "outputs": []
    },
    {
      "cell_type": "code",
      "metadata": {
        "colab": {
          "base_uri": "https://localhost:8080/",
          "height": 592
        },
        "id": "IVK3WnfG2e5F",
        "outputId": "36fa2e5e-e489-4891-ffed-0c769db76d42"
      },
      "source": [
        "tester"
      ],
      "execution_count": null,
      "outputs": [
        {
          "output_type": "execute_result",
          "data": {
            "text/html": [
              "<div>\n",
              "<style scoped>\n",
              "    .dataframe tbody tr th:only-of-type {\n",
              "        vertical-align: middle;\n",
              "    }\n",
              "\n",
              "    .dataframe tbody tr th {\n",
              "        vertical-align: top;\n",
              "    }\n",
              "\n",
              "    .dataframe thead th {\n",
              "        text-align: right;\n",
              "    }\n",
              "</style>\n",
              "<table border=\"1\" class=\"dataframe\">\n",
              "  <thead>\n",
              "    <tr style=\"text-align: right;\">\n",
              "      <th></th>\n",
              "      <th>Item_MRP</th>\n",
              "      <th>Outlet_Type</th>\n",
              "      <th>Outlet_Identifier</th>\n",
              "    </tr>\n",
              "  </thead>\n",
              "  <tbody>\n",
              "    <tr>\n",
              "      <th>0</th>\n",
              "      <td>107.8622</td>\n",
              "      <td>Supermarket Type1</td>\n",
              "      <td>OUT049</td>\n",
              "    </tr>\n",
              "    <tr>\n",
              "      <th>1</th>\n",
              "      <td>87.3198</td>\n",
              "      <td>Supermarket Type1</td>\n",
              "      <td>OUT017</td>\n",
              "    </tr>\n",
              "    <tr>\n",
              "      <th>2</th>\n",
              "      <td>241.7538</td>\n",
              "      <td>Grocery Store</td>\n",
              "      <td>OUT010</td>\n",
              "    </tr>\n",
              "    <tr>\n",
              "      <th>3</th>\n",
              "      <td>155.0340</td>\n",
              "      <td>Supermarket Type1</td>\n",
              "      <td>OUT017</td>\n",
              "    </tr>\n",
              "    <tr>\n",
              "      <th>4</th>\n",
              "      <td>234.2300</td>\n",
              "      <td>Supermarket Type3</td>\n",
              "      <td>OUT027</td>\n",
              "    </tr>\n",
              "    <tr>\n",
              "      <th>...</th>\n",
              "      <td>...</td>\n",
              "      <td>...</td>\n",
              "      <td>...</td>\n",
              "    </tr>\n",
              "    <tr>\n",
              "      <th>5676</th>\n",
              "      <td>141.3154</td>\n",
              "      <td>Supermarket Type1</td>\n",
              "      <td>OUT046</td>\n",
              "    </tr>\n",
              "    <tr>\n",
              "      <th>5677</th>\n",
              "      <td>169.1448</td>\n",
              "      <td>Supermarket Type2</td>\n",
              "      <td>OUT018</td>\n",
              "    </tr>\n",
              "    <tr>\n",
              "      <th>5678</th>\n",
              "      <td>118.7440</td>\n",
              "      <td>Supermarket Type1</td>\n",
              "      <td>OUT045</td>\n",
              "    </tr>\n",
              "    <tr>\n",
              "      <th>5679</th>\n",
              "      <td>214.6218</td>\n",
              "      <td>Supermarket Type1</td>\n",
              "      <td>OUT017</td>\n",
              "    </tr>\n",
              "    <tr>\n",
              "      <th>5680</th>\n",
              "      <td>79.7960</td>\n",
              "      <td>Supermarket Type1</td>\n",
              "      <td>OUT045</td>\n",
              "    </tr>\n",
              "  </tbody>\n",
              "</table>\n",
              "<p>5681 rows × 3 columns</p>\n",
              "</div>"
            ],
            "text/plain": [
              "      Item_MRP        Outlet_Type Outlet_Identifier\n",
              "0     107.8622  Supermarket Type1            OUT049\n",
              "1      87.3198  Supermarket Type1            OUT017\n",
              "2     241.7538      Grocery Store            OUT010\n",
              "3     155.0340  Supermarket Type1            OUT017\n",
              "4     234.2300  Supermarket Type3            OUT027\n",
              "...        ...                ...               ...\n",
              "5676  141.3154  Supermarket Type1            OUT046\n",
              "5677  169.1448  Supermarket Type2            OUT018\n",
              "5678  118.7440  Supermarket Type1            OUT045\n",
              "5679  214.6218  Supermarket Type1            OUT017\n",
              "5680   79.7960  Supermarket Type1            OUT045\n",
              "\n",
              "[5681 rows x 3 columns]"
            ]
          },
          "metadata": {},
          "execution_count": 118
        }
      ]
    },
    {
      "cell_type": "code",
      "metadata": {
        "id": "v2cxSUML2r7W"
      },
      "source": [
        "for i in cater:\n",
        "    tester[i] = le[i].transform(tester[i])"
      ],
      "execution_count": null,
      "outputs": []
    },
    {
      "cell_type": "code",
      "metadata": {
        "colab": {
          "base_uri": "https://localhost:8080/",
          "height": 439
        },
        "id": "qNDMBarr27A-",
        "outputId": "e51d469d-d858-4889-e16a-d80f4124d495"
      },
      "source": [
        "tester"
      ],
      "execution_count": null,
      "outputs": [
        {
          "output_type": "execute_result",
          "data": {
            "text/html": [
              "<div>\n",
              "<style scoped>\n",
              "    .dataframe tbody tr th:only-of-type {\n",
              "        vertical-align: middle;\n",
              "    }\n",
              "\n",
              "    .dataframe tbody tr th {\n",
              "        vertical-align: top;\n",
              "    }\n",
              "\n",
              "    .dataframe thead th {\n",
              "        text-align: right;\n",
              "    }\n",
              "</style>\n",
              "<table border=\"1\" class=\"dataframe\">\n",
              "  <thead>\n",
              "    <tr style=\"text-align: right;\">\n",
              "      <th></th>\n",
              "      <th>Item_MRP</th>\n",
              "      <th>Outlet_Type</th>\n",
              "      <th>Outlet_Identifier</th>\n",
              "    </tr>\n",
              "  </thead>\n",
              "  <tbody>\n",
              "    <tr>\n",
              "      <th>0</th>\n",
              "      <td>107.8622</td>\n",
              "      <td>1</td>\n",
              "      <td>9</td>\n",
              "    </tr>\n",
              "    <tr>\n",
              "      <th>1</th>\n",
              "      <td>87.3198</td>\n",
              "      <td>1</td>\n",
              "      <td>2</td>\n",
              "    </tr>\n",
              "    <tr>\n",
              "      <th>2</th>\n",
              "      <td>241.7538</td>\n",
              "      <td>0</td>\n",
              "      <td>0</td>\n",
              "    </tr>\n",
              "    <tr>\n",
              "      <th>3</th>\n",
              "      <td>155.0340</td>\n",
              "      <td>1</td>\n",
              "      <td>2</td>\n",
              "    </tr>\n",
              "    <tr>\n",
              "      <th>4</th>\n",
              "      <td>234.2300</td>\n",
              "      <td>3</td>\n",
              "      <td>5</td>\n",
              "    </tr>\n",
              "    <tr>\n",
              "      <th>...</th>\n",
              "      <td>...</td>\n",
              "      <td>...</td>\n",
              "      <td>...</td>\n",
              "    </tr>\n",
              "    <tr>\n",
              "      <th>5676</th>\n",
              "      <td>141.3154</td>\n",
              "      <td>1</td>\n",
              "      <td>8</td>\n",
              "    </tr>\n",
              "    <tr>\n",
              "      <th>5677</th>\n",
              "      <td>169.1448</td>\n",
              "      <td>2</td>\n",
              "      <td>3</td>\n",
              "    </tr>\n",
              "    <tr>\n",
              "      <th>5678</th>\n",
              "      <td>118.7440</td>\n",
              "      <td>1</td>\n",
              "      <td>7</td>\n",
              "    </tr>\n",
              "    <tr>\n",
              "      <th>5679</th>\n",
              "      <td>214.6218</td>\n",
              "      <td>1</td>\n",
              "      <td>2</td>\n",
              "    </tr>\n",
              "    <tr>\n",
              "      <th>5680</th>\n",
              "      <td>79.7960</td>\n",
              "      <td>1</td>\n",
              "      <td>7</td>\n",
              "    </tr>\n",
              "  </tbody>\n",
              "</table>\n",
              "<p>5681 rows × 3 columns</p>\n",
              "</div>"
            ],
            "text/plain": [
              "      Item_MRP  Outlet_Type  Outlet_Identifier\n",
              "0     107.8622            1                  9\n",
              "1      87.3198            1                  2\n",
              "2     241.7538            0                  0\n",
              "3     155.0340            1                  2\n",
              "4     234.2300            3                  5\n",
              "...        ...          ...                ...\n",
              "5676  141.3154            1                  8\n",
              "5677  169.1448            2                  3\n",
              "5678  118.7440            1                  7\n",
              "5679  214.6218            1                  2\n",
              "5680   79.7960            1                  7\n",
              "\n",
              "[5681 rows x 3 columns]"
            ]
          },
          "metadata": {},
          "execution_count": 120
        }
      ]
    },
    {
      "cell_type": "code",
      "metadata": {
        "id": "wqnayYuv2-oO"
      },
      "source": [
        "y_true = gb_score.predict(tester)"
      ],
      "execution_count": null,
      "outputs": []
    },
    {
      "cell_type": "code",
      "metadata": {
        "colab": {
          "base_uri": "https://localhost:8080/"
        },
        "id": "ofgQWitE3Mo9",
        "outputId": "b5d0c60d-0834-4ada-ae0c-2cc03e85e95f"
      },
      "source": [
        "y_true"
      ],
      "execution_count": null,
      "outputs": [
        {
          "output_type": "execute_result",
          "data": {
            "text/plain": [
              "array([7.29954421, 7.08708163, 6.23453343, ..., 7.42431587, 8.06522658,\n",
              "       7.03870087])"
            ]
          },
          "metadata": {},
          "execution_count": 125
        }
      ]
    },
    {
      "cell_type": "code",
      "metadata": {
        "id": "R7IzQUqN3QfC"
      },
      "source": [
        "# make submission \n",
        " \n",
        "# ubah log mengunakan exp \n",
        "\n",
        "sub[\"Item_Outlet_Sales\"] = np.exp(y_true)"
      ],
      "execution_count": null,
      "outputs": []
    },
    {
      "cell_type": "code",
      "metadata": {
        "colab": {
          "base_uri": "https://localhost:8080/",
          "height": 439
        },
        "id": "MY5Sl6R83frU",
        "outputId": "c4c81355-682a-4c23-8a22-7301a5956c74"
      },
      "source": [
        "sub"
      ],
      "execution_count": null,
      "outputs": [
        {
          "output_type": "execute_result",
          "data": {
            "text/html": [
              "<div>\n",
              "<style scoped>\n",
              "    .dataframe tbody tr th:only-of-type {\n",
              "        vertical-align: middle;\n",
              "    }\n",
              "\n",
              "    .dataframe tbody tr th {\n",
              "        vertical-align: top;\n",
              "    }\n",
              "\n",
              "    .dataframe thead th {\n",
              "        text-align: right;\n",
              "    }\n",
              "</style>\n",
              "<table border=\"1\" class=\"dataframe\">\n",
              "  <thead>\n",
              "    <tr style=\"text-align: right;\">\n",
              "      <th></th>\n",
              "      <th>Item_Identifier</th>\n",
              "      <th>Outlet_Identifier</th>\n",
              "      <th>Item_Outlet_Sales</th>\n",
              "    </tr>\n",
              "  </thead>\n",
              "  <tbody>\n",
              "    <tr>\n",
              "      <th>0</th>\n",
              "      <td>FDW58</td>\n",
              "      <td>OUT049</td>\n",
              "      <td>1479.625373</td>\n",
              "    </tr>\n",
              "    <tr>\n",
              "      <th>1</th>\n",
              "      <td>FDW14</td>\n",
              "      <td>OUT017</td>\n",
              "      <td>1196.411135</td>\n",
              "    </tr>\n",
              "    <tr>\n",
              "      <th>2</th>\n",
              "      <td>NCN55</td>\n",
              "      <td>OUT010</td>\n",
              "      <td>510.062584</td>\n",
              "    </tr>\n",
              "    <tr>\n",
              "      <th>3</th>\n",
              "      <td>FDQ58</td>\n",
              "      <td>OUT017</td>\n",
              "      <td>2167.985741</td>\n",
              "    </tr>\n",
              "    <tr>\n",
              "      <th>4</th>\n",
              "      <td>FDY38</td>\n",
              "      <td>OUT027</td>\n",
              "      <td>5606.316491</td>\n",
              "    </tr>\n",
              "    <tr>\n",
              "      <th>...</th>\n",
              "      <td>...</td>\n",
              "      <td>...</td>\n",
              "      <td>...</td>\n",
              "    </tr>\n",
              "    <tr>\n",
              "      <th>5676</th>\n",
              "      <td>FDB58</td>\n",
              "      <td>OUT046</td>\n",
              "      <td>1911.526286</td>\n",
              "    </tr>\n",
              "    <tr>\n",
              "      <th>5677</th>\n",
              "      <td>FDD47</td>\n",
              "      <td>OUT018</td>\n",
              "      <td>2157.741443</td>\n",
              "    </tr>\n",
              "    <tr>\n",
              "      <th>5678</th>\n",
              "      <td>NCO17</td>\n",
              "      <td>OUT045</td>\n",
              "      <td>1676.252403</td>\n",
              "    </tr>\n",
              "    <tr>\n",
              "      <th>5679</th>\n",
              "      <td>FDJ26</td>\n",
              "      <td>OUT017</td>\n",
              "      <td>3181.877085</td>\n",
              "    </tr>\n",
              "    <tr>\n",
              "      <th>5680</th>\n",
              "      <td>FDU37</td>\n",
              "      <td>OUT045</td>\n",
              "      <td>1139.905757</td>\n",
              "    </tr>\n",
              "  </tbody>\n",
              "</table>\n",
              "<p>5681 rows × 3 columns</p>\n",
              "</div>"
            ],
            "text/plain": [
              "     Item_Identifier Outlet_Identifier  Item_Outlet_Sales\n",
              "0              FDW58            OUT049        1479.625373\n",
              "1              FDW14            OUT017        1196.411135\n",
              "2              NCN55            OUT010         510.062584\n",
              "3              FDQ58            OUT017        2167.985741\n",
              "4              FDY38            OUT027        5606.316491\n",
              "...              ...               ...                ...\n",
              "5676           FDB58            OUT046        1911.526286\n",
              "5677           FDD47            OUT018        2157.741443\n",
              "5678           NCO17            OUT045        1676.252403\n",
              "5679           FDJ26            OUT017        3181.877085\n",
              "5680           FDU37            OUT045        1139.905757\n",
              "\n",
              "[5681 rows x 3 columns]"
            ]
          },
          "metadata": {},
          "execution_count": 129
        }
      ]
    },
    {
      "cell_type": "code",
      "metadata": {
        "id": "BslIa_f63tEp"
      },
      "source": [
        "sub.to_csv(\"submission.csv\", index=False)"
      ],
      "execution_count": null,
      "outputs": []
    },
    {
      "cell_type": "code",
      "metadata": {
        "id": "5Ve4kxTT5DLY"
      },
      "source": [
        ""
      ],
      "execution_count": null,
      "outputs": []
    }
  ]
}