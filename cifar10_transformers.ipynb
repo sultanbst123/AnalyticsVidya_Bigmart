{
  "nbformat": 4,
  "nbformat_minor": 0,
  "metadata": {
    "colab": {
      "name": "cifar10_transformers.ipynb",
      "provenance": [],
      "collapsed_sections": [],
      "authorship_tag": "ABX9TyOKU1G19XPNi4Et1OThGQBY",
      "include_colab_link": true
    },
    "kernelspec": {
      "name": "python3",
      "display_name": "Python 3"
    },
    "language_info": {
      "name": "python"
    },
    "accelerator": "GPU"
  },
  "cells": [
    {
      "cell_type": "markdown",
      "metadata": {
        "id": "view-in-github",
        "colab_type": "text"
      },
      "source": [
        "<a href=\"https://colab.research.google.com/github/sultanbst123/AnalyticsVidya_Bigmart/blob/main/cifar10_transformers.ipynb\" target=\"_parent\"><img src=\"https://colab.research.google.com/assets/colab-badge.svg\" alt=\"Open In Colab\"/></a>"
      ]
    },
    {
      "cell_type": "markdown",
      "metadata": {
        "id": "5Zod8rW0awSE"
      },
      "source": [
        "# (VIT)Vision Transformers and (EANet) External Attention"
      ]
    },
    {
      "cell_type": "code",
      "source": [
        "pip install tensorflow-addons"
      ],
      "metadata": {
        "id": "3omdl0h29G0v",
        "colab": {
          "base_uri": "https://localhost:8080/"
        },
        "outputId": "d46e66b8-81ee-4e98-8859-80a0fd72e0ce"
      },
      "execution_count": null,
      "outputs": [
        {
          "output_type": "stream",
          "name": "stdout",
          "text": [
            "Collecting tensorflow-addons\n",
            "  Downloading tensorflow_addons-0.15.0-cp37-cp37m-manylinux_2_12_x86_64.manylinux2010_x86_64.whl (1.1 MB)\n",
            "\u001b[K     |████████████████████████████████| 1.1 MB 4.4 MB/s \n",
            "\u001b[?25hRequirement already satisfied: typeguard>=2.7 in /usr/local/lib/python3.7/dist-packages (from tensorflow-addons) (2.7.1)\n",
            "Installing collected packages: tensorflow-addons\n",
            "Successfully installed tensorflow-addons-0.15.0\n"
          ]
        }
      ]
    },
    {
      "cell_type": "code",
      "metadata": {
        "id": "MVdpZ2jvZrDR"
      },
      "source": [
        "import numpy as np\n",
        "import pandas as pd\n",
        "import os\n",
        "import random\n",
        "import matplotlib.pyplot as plt\n",
        "\n",
        "import tensorflow as tf \n",
        "from tensorflow.keras.models import Model, Sequential\n",
        "from tensorflow.keras import layers\n",
        "from tensorflow.keras.optimizers import *\n",
        "from tensorflow.keras.activations import *\n",
        "from tensorflow.keras.losses import *\n",
        "from tensorflow.keras.metrics import *\n",
        "from tensorflow.keras.callbacks import *\n",
        "from tensorflow.keras.utils import plot_model, to_categorical\n",
        "\n",
        "import tensorflow_addons as tfa\n",
        "\n",
        "import warnings\n",
        "warnings.filterwarnings(\"ignore\")"
      ],
      "execution_count": null,
      "outputs": []
    },
    {
      "cell_type": "code",
      "source": [
        "# setting seed\n",
        "\n",
        "def set_seed(seed=42):\n",
        "    random.seed(seed)\n",
        "    os.environ[\"PYTHONHASHSEED\"] = str(seed)\n",
        "    np.random.seed(seed)\n",
        "    tf.random.set_seed(seed)\n",
        "\n",
        "set_seed()"
      ],
      "metadata": {
        "id": "F11FA99dSUPR"
      },
      "execution_count": null,
      "outputs": []
    },
    {
      "cell_type": "code",
      "metadata": {
        "id": "eIBvh-r8XLNL"
      },
      "source": [
        "(x_train, y_train), (x_test, y_test) = tf.keras.datasets.cifar10.load_data()\n",
        "\n",
        "#x_train = x_train.astype(\"float32\") / 255.0\n",
        "#x_test = x_test.astype(\"float32\") / 255.0\n",
        "y_train = to_categorical(y_train)\n",
        "#y_test = to_categorical(y_test)"
      ],
      "execution_count": null,
      "outputs": []
    },
    {
      "cell_type": "code",
      "source": [
        "AUTO = tf.data.AUTOTUNE\n",
        "batch_size = 64\n",
        "\n",
        "num_classes = 10\n",
        "input_shape = (32, 32, 3)\n",
        "\n",
        "print(f\"x_train shape: {x_train.shape} - y_train shape: {y_train.shape}\")\n",
        "print(f\"x_test shape: {x_test.shape} - y_test shape: {y_test.shape}\")"
      ],
      "metadata": {
        "colab": {
          "base_uri": "https://localhost:8080/"
        },
        "id": "clopKhp0VX0o",
        "outputId": "0843baaa-b565-4c58-9a66-435083656d81"
      },
      "execution_count": null,
      "outputs": [
        {
          "output_type": "stream",
          "name": "stdout",
          "text": [
            "x_train shape: (50000, 32, 32, 3) - y_train shape: (50000, 10)\n",
            "x_test shape: (10000, 32, 32, 3) - y_test shape: (10000, 10)\n"
          ]
        }
      ]
    },
    {
      "cell_type": "code",
      "source": [
        "\n",
        "# ambil secara manual 5000 data train terakhir ke data validation\n",
        "\n",
        "train_ds = tf.data.Dataset.from_tensor_slices((x_train, y_train))\n",
        "train_ds = train_ds.shuffle(1000).batch(batch_size).prefetch(AUTO)\n",
        "\n",
        "val_ds = tf.data.Dataset.from_tensor_slices((x_train[45000:], y_train[45000:]))\n",
        "val_ds = val_ds.batch(batch_size).prefetch(AUTO)"
      ],
      "metadata": {
        "id": "DzIl0N2JVPn9"
      },
      "execution_count": null,
      "outputs": []
    },
    {
      "cell_type": "code",
      "source": [
        "train_ds, val_ds"
      ],
      "metadata": {
        "colab": {
          "base_uri": "https://localhost:8080/"
        },
        "id": "rb_HfL50VdDl",
        "outputId": "0b2b0c18-714d-4f43-c630-306d5f1b8748"
      },
      "execution_count": null,
      "outputs": [
        {
          "output_type": "execute_result",
          "data": {
            "text/plain": [
              "(<PrefetchDataset shapes: ((None, 32, 32, 3), (None, 10)), types: (tf.uint8, tf.float32)>,\n",
              " <PrefetchDataset shapes: ((None, 32, 32, 3), (None, 10)), types: (tf.uint8, tf.float32)>)"
            ]
          },
          "metadata": {},
          "execution_count": 7
        }
      ]
    },
    {
      "cell_type": "code",
      "source": [
        "# Vit hyper parameters\n",
        "patch_size = 8 # Size of the patches to be extracted from the input images.\n",
        "image_size = 74 # resize image\n",
        "num_patches = (image_size // patch_size) ** 2  # Number of patch\n",
        "embedding_dim = 64 # Number of hidden units\n",
        "\n",
        "dim_coefficient = 4\n",
        "attention_dropout = 0.0\n",
        "projection_dropout = 0.0\n",
        "num_heads = 8 # attention heads\n",
        "num_transformer_blocks = 8 # Number of repetitions of the transformer layer\n",
        "mlp_dim = 256 # mlp units \n",
        "\n",
        "print(f\"Patch size: {patch_size} X {patch_size} = {patch_size ** 2} \")\n",
        "print(f\"Patches per image: {num_patches}\")"
      ],
      "metadata": {
        "colab": {
          "base_uri": "https://localhost:8080/"
        },
        "id": "-IEkHPf_Vlrz",
        "outputId": "e52a1c31-da66-42e9-d80a-9332246f215a"
      },
      "execution_count": null,
      "outputs": [
        {
          "output_type": "stream",
          "name": "stdout",
          "text": [
            "Patch size: 8 X 8 = 64 \n",
            "Patches per image: 81\n"
          ]
        }
      ]
    },
    {
      "cell_type": "code",
      "source": [
        "\n",
        "# make a image augmentation \n",
        "\n",
        "data_augmentation = Sequential(\n",
        "    [\n",
        "        layers.Normalization(),\n",
        "        layers.Resizing(image_size, image_size),\n",
        "        layers.RandomFlip(\"horizontal\"),\n",
        "        layers.RandomRotation(factor=0.1),\n",
        "        layers.RandomContrast(factor=0.1),\n",
        "        layers.RandomZoom(height_factor=0.2, width_factor=0.2),\n",
        "    ],\n",
        "    name=\"data_augmentation\",\n",
        ")\n",
        "# Compute the mean and the variance of the training data for normalization.\n",
        "data_augmentation.layers[0].adapt(x_train)"
      ],
      "metadata": {
        "id": "93mtP7omVqoo"
      },
      "execution_count": null,
      "outputs": []
    },
    {
      "cell_type": "code",
      "source": [
        "#Menerapkan ekstraksi tambalan(PatchExtract) dan lapisan penyandian(PatchEmbedding) \n",
        "\n",
        "class PatchExtract(layers.Layer):\n",
        "    def __init__(self, patch_size, **kwargs):\n",
        "        super(PatchExtract, self).__init__(**kwargs)\n",
        "        self.patch_size = patch_size\n",
        "\n",
        "    def call(self, images):\n",
        "        batch_size = tf.shape(images)[0]\n",
        "        patches = tf.image.extract_patches(\n",
        "            images=images,\n",
        "            sizes=(1, self.patch_size, self.patch_size, 1),\n",
        "            strides=(1, self.patch_size, self.patch_size, 1),\n",
        "            rates=(1, 1, 1, 1),\n",
        "            padding=\"VALID\",\n",
        "        )\n",
        "        patch_dim = patches.shape[-1]\n",
        "        patch_num = patches.shape[1]\n",
        "        return tf.reshape(patches, (batch_size, patch_num * patch_num, patch_dim))\n",
        "\n",
        "\n",
        "class PatchEmbedding(layers.Layer):\n",
        "    def __init__(self, num_patch, embed_dim, **kwargs):\n",
        "        super(PatchEmbedding, self).__init__(**kwargs)\n",
        "        self.num_patch = num_patch\n",
        "        self.proj = layers.Dense(embed_dim)\n",
        "        self.pos_embed = layers.Embedding(input_dim=num_patch, output_dim=embed_dim)\n",
        "\n",
        "    def call(self, patch):\n",
        "        pos = tf.range(start=0, limit=self.num_patch, delta=1)\n",
        "        return self.proj(patch) + self.pos_embed(pos)"
      ],
      "metadata": {
        "id": "aB0nUtI2qxpq"
      },
      "execution_count": null,
      "outputs": []
    },
    {
      "cell_type": "code",
      "source": [
        "plt.figure(figsize=(4, 4))\n",
        "image = x_train[np.random.choice(range(x_train.shape[0]))]\n",
        "plt.imshow(image.astype(\"uint8\"))\n",
        "plt.axis(\"off\")\n",
        "\n",
        "resized_image = tf.image.resize(\n",
        "    tf.convert_to_tensor([image]), size=(image_size, image_size)\n",
        ")\n",
        "patches = PatchExtract(patch_size)(resized_image)\n",
        "print(f\"Image size: {image_size} X {image_size}\")\n",
        "print(f\"Patch size: {patch_size} X {patch_size}\")\n",
        "print(f\"Patches per image: {patches.shape[1]}\")\n",
        "print(f\"Elements per patch: {patches.shape[-1]}\")\n",
        "\n",
        "n = int(np.sqrt(patches.shape[1]))\n",
        "plt.figure(figsize=(4, 4))\n",
        "for i, patch in enumerate(patches[0]):\n",
        "    ax = plt.subplot(n, n, i + 1)\n",
        "    patch_img = tf.reshape(patch, (patch_size, patch_size, 3))\n",
        "    plt.imshow(patch_img.numpy().astype(\"uint8\"))\n",
        "    plt.axis(\"off\")"
      ],
      "metadata": {
        "colab": {
          "base_uri": "https://localhost:8080/",
          "height": 547
        },
        "id": "DcUXgmkqylKr",
        "outputId": "6f6e00ef-31a1-4efc-87c4-9e8a7ade04db"
      },
      "execution_count": null,
      "outputs": [
        {
          "output_type": "stream",
          "name": "stdout",
          "text": [
            "Image size: 97 X 97\n",
            "Patch size: 8 X 8\n",
            "Patches per image: 144\n",
            "Elements per patch: 192\n"
          ]
        },
        {
          "output_type": "display_data",
          "data": {
            "image/png": "[encoded data removed]",
            "text/plain": [
              "<Figure size 288x288 with 1 Axes>"
            ]
          },
          "metadata": {
            "needs_background": "light"
          }
        },
        {
          "output_type": "display_data",
          "data": {
            "image/png": "[encoded data removed]",
            "text/plain": [
              "<Figure size 288x288 with 144 Axes>"
            ]
          },
          "metadata": {
            "needs_background": "light"
          }
        }
      ]
    },
    {
      "cell_type": "code",
      "source": [
        "#Terapkan blok perhatian eksternal(external_attention) \n",
        "\n",
        "def external_attention(x, dim, num_heads, dim_coefficient=4, attention_dropout=0, projection_dropout=0):\n",
        "    _, num_patch, channel = x.shape\n",
        "    assert dim % num_heads == 0 # must return True\n",
        "    num_heads = num_heads * dim_coefficient\n",
        "\n",
        "    x = layers.Dense(dim * dim_coefficient)(x)\n",
        "    # create tensor [batch_size, num_patches, num_heads, dim*dim_coefficient//num_heads]\n",
        "    x = tf.reshape(\n",
        "        x, shape=(-1, num_patch, num_heads, dim * dim_coefficient // num_heads)\n",
        "    )\n",
        "    x = tf.transpose(x, perm=[0, 2, 1, 3])\n",
        "    # a linear layer M_k\n",
        "    attn = layers.Dense(dim // dim_coefficient)(x)\n",
        "    # normalize attention map\n",
        "    attn = layers.Softmax(axis=2)(attn)\n",
        "    # dobule-normalization\n",
        "    attn = attn / (1e-9 + tf.reduce_sum(attn, axis=-1, keepdims=True))\n",
        "    attn = layers.Dropout(attention_dropout)(attn)\n",
        "    # a linear layer M_v\n",
        "    x = layers.Dense(dim * dim_coefficient // num_heads)(attn)\n",
        "    x = tf.transpose(x, perm=[0, 2, 1, 3])\n",
        "    x = tf.reshape(x, [-1, num_patch, dim * dim_coefficient])\n",
        "    # a linear layer to project original dim\n",
        "    x = layers.Dense(dim)(x)\n",
        "    x = layers.Dropout(projection_dropout)(x)\n",
        "    return x"
      ],
      "metadata": {
        "id": "3a-DpV-Xg_Bo"
      },
      "execution_count": null,
      "outputs": []
    },
    {
      "cell_type": "code",
      "source": [
        "\n",
        "# mlp 1 layers dengan gelu(Gaussian Error Linear Unit) \n",
        "\n",
        "def mlp(x, embedding_dim, mlp_dim, drop_rate=0.0):\n",
        "    x = layers.Dense(mlp_dim, activation=tfa.activations.gelu)(x)\n",
        "    x = layers.Dropout(drop_rate)(x)\n",
        "    x = layers.Dense(embedding_dim)(x)\n",
        "    x = layers.Dropout(drop_rate)(x)\n",
        "    return x"
      ],
      "metadata": {
        "id": "vRVnakZhV-8M"
      },
      "execution_count": null,
      "outputs": []
    },
    {
      "cell_type": "code",
      "source": [
        "def transformer_encoder(\n",
        "    x,\n",
        "    embedding_dim,\n",
        "    mlp_dim,\n",
        "    num_heads,\n",
        "    dim_coefficient,\n",
        "    attention_dropout,\n",
        "    projection_dropout,\n",
        "    attention_type=\"external_attention\",\n",
        "):\n",
        "    residual_1 = x\n",
        "    x = layers.LayerNormalization(epsilon=1e-6)(x)\n",
        "    if attention_type == \"external_attention\":\n",
        "        x = external_attention(\n",
        "            x,\n",
        "            embedding_dim,\n",
        "            num_heads,\n",
        "            dim_coefficient,\n",
        "            attention_dropout,\n",
        "            projection_dropout,\n",
        "        )\n",
        "    elif attention_type == \"self_attention\":\n",
        "        x = layers.MultiHeadAttention(\n",
        "            num_heads=num_heads, key_dim=embedding_dim, dropout=attention_dropout\n",
        "        )(x, x)\n",
        "    x = layers.add([x, residual_1])\n",
        "    residual_2 = x\n",
        "    x = layers.LayerNormalization(epsilon=1e-6)(x)\n",
        "    x = mlp(x, embedding_dim, mlp_dim)\n",
        "    x = layers.add([x, residual_2])\n",
        "    return x"
      ],
      "metadata": {
        "id": "PH4-9hRvWCa3"
      },
      "execution_count": null,
      "outputs": []
    },
    {
      "cell_type": "code",
      "source": [
        "def get_model(attention_type=\"external_attention\"):\n",
        "    inputs = layers.Input(shape=input_shape)\n",
        "    # Image augment\n",
        "    x = data_augmentation(inputs)\n",
        "    # Extract patches.\n",
        "    x = PatchExtract(patch_size)(x)\n",
        "    # Create patch embedding.\n",
        "    x = PatchEmbedding(num_patches, embedding_dim)(x)\n",
        "    # Create Transformer block.\n",
        "    for _ in range(num_transformer_blocks):\n",
        "        x = transformer_encoder(\n",
        "            x,\n",
        "            embedding_dim,\n",
        "            mlp_dim,\n",
        "            num_heads,\n",
        "            dim_coefficient,\n",
        "            attention_dropout,\n",
        "            projection_dropout,\n",
        "            attention_type,\n",
        "       ) \n",
        "\n",
        "    x = layers.GlobalAvgPool1D()(x)\n",
        "    outputs = layers.Dense(num_classes, activation=\"softmax\")(x)\n",
        "    model = Model(inputs=inputs, outputs=outputs)\n",
        "    return model"
      ],
      "metadata": {
        "id": "GL06mIhCWI1n"
      },
      "execution_count": null,
      "outputs": []
    },
    {
      "cell_type": "code",
      "source": [
        "vit = get_model(\"self_attention\")"
      ],
      "metadata": {
        "id": "cAcF0r2qYwp5"
      },
      "execution_count": null,
      "outputs": []
    },
    {
      "cell_type": "code",
      "source": [
        "vit.count_params() # total paramter dari vision transformer"
      ],
      "metadata": {
        "colab": {
          "base_uri": "https://localhost:8080/"
        },
        "id": "bTWzS8XviOgN",
        "outputId": "8a30c674-bbaf-491f-8987-e7f2e4bbd597"
      },
      "execution_count": null,
      "outputs": [
        {
          "output_type": "execute_result",
          "data": {
            "text/plain": [
              "1346321"
            ]
          },
          "metadata": {},
          "execution_count": 16
        }
      ]
    },
    {
      "cell_type": "code",
      "source": [
        "eanet = get_model()"
      ],
      "metadata": {
        "id": "_sochIJ9gRNN"
      },
      "execution_count": null,
      "outputs": []
    },
    {
      "cell_type": "code",
      "source": [
        "eanet.count_params() #total parameter external attention transformer"
      ],
      "metadata": {
        "colab": {
          "base_uri": "https://localhost:8080/"
        },
        "id": "pOZX7gJDmdEG",
        "outputId": "f10920f7-be54-4a1c-db73-6783b80d43ff"
      },
      "execution_count": null,
      "outputs": [
        {
          "output_type": "execute_result",
          "data": {
            "text/plain": [
              "551889"
            ]
          },
          "metadata": {},
          "execution_count": 18
        }
      ]
    },
    {
      "cell_type": "code",
      "source": [
        "# Hyperparamters for fit \n",
        "\n",
        "EPOCHS = 10\n",
        "INIT_LR = 5e-4\n",
        "MAX_LR = 5e-2\n",
        "Wd = 1e-5\n",
        "\n",
        "\n",
        "#define Callbacks\n",
        "steps_per_epoch =  45000 // 256 # validation split 0.1\n",
        "\n",
        "clr = tfa.optimizers.Triangular2CyclicalLearningRate(\n",
        "    initial_learning_rate=INIT_LR,\n",
        "    maximal_learning_rate=MAX_LR,\n",
        "    step_size= 2 * steps_per_epoch\n",
        ")\n",
        "\n",
        "cb_checkpt = ModelCheckpoint(\"best.hdf5\", monitor = 'val_loss', verbose = 0,\n",
        "                                 save_best_only = True,\n",
        "                                 save_weights_only = True,\n",
        "                                 mode = 'min')\n",
        "\n",
        "es = EarlyStopping(monitor=\"val_loss\", patience=10, verbose=1, mode=\"min\", restore_best_weights=True)\n",
        "\n",
        "\n",
        "#define metrics\n",
        "METRICS = [tf.keras.metrics.CategoricalAccuracy(name = \"accuracy\"),\n",
        "           tf.keras.metrics.TopKCategoricalAccuracy(5, name= \"top-5-accuracy\")]\n",
        "\n",
        "\n",
        "#define optimizers \n",
        "ADAM = Adam(learning_rate=clr)\n",
        "\n",
        "SGD = tf.keras.optimizers.SGD(learning_rate=clr, momentum=0.9) \n",
        "ADAMBELIEF = tfa.optimizers.AdaBelief(learning_rate = clr, weight_decay = Wd)#recified == True default,  warmup 0.1\n",
        "ADAMW = tfa.optimizers.AdamW(learning_rate = clr, weight_decay = Wd)"
      ],
      "metadata": {
        "id": "fn7kUCfXYDuB"
      },
      "execution_count": null,
      "outputs": []
    },
    {
      "cell_type": "code",
      "source": [
        "step = np.arange(0, EPOCHS * steps_per_epoch)\n",
        "lr = clr(step)\n",
        "plt.plot(step, lr)\n",
        "plt.xlabel(\"Steps\")\n",
        "plt.ylabel(\"Learning Rate\")\n",
        "plt.title(\"Triangular2CyclicalLearningRate\", size=20) \n",
        "plt.show()"
      ],
      "metadata": {
        "colab": {
          "base_uri": "https://localhost:8080/",
          "height": 212
        },
        "id": "8yznBZBbZnwW",
        "outputId": "835d3451-9a82-4d78-f0d0-ef9cc04ae234"
      },
      "execution_count": null,
      "outputs": [
        {
          "output_type": "display_data",
          "data": {
            "image/png": "[encoded data removed]",
            "text/plain": [
              "<Figure size 432x288 with 1 Axes>"
            ]
          },
          "metadata": {
            "needs_background": "light"
          }
        }
      ]
    },
    {
      "cell_type": "code",
      "source": [
        "# fit eanet\n",
        "eanet = get_model()\n",
        "eanet.compile(optimizer = ADAMBELIEF,\n",
        "            loss = \"CategoricalCrossentropy\", \n",
        "            metrics = METRICS)"
      ],
      "metadata": {
        "id": "sKBMMJTsXwFE"
      },
      "execution_count": null,
      "outputs": []
    },
    {
      "cell_type": "code",
      "source": [
        "history = eanet.fit(train_ds, validation_data=val_ds,batch_size=256, \n",
        "                  epochs = EPOCHS,callbacks = [cb_checkpt])"
      ],
      "metadata": {
        "id": "Y9cdqkGQa7SR",
        "colab": {
          "base_uri": "https://localhost:8080/"
        },
        "outputId": "1986e7c9-1564-427f-a239-e8c15ebabe50"
      },
      "execution_count": null,
      "outputs": [
        {
          "output_type": "stream",
          "name": "stdout",
          "text": [
            "Epoch 1/10\n",
            "782/782 [==============================] - 253s 255ms/step - loss: 1.8641 - accuracy: 0.3221 - top-5-accuracy: 0.8326 - val_loss: 1.4018 - val_accuracy: 0.4792 - val_top-5-accuracy: 0.9326\n",
            "Epoch 2/10\n",
            "782/782 [==============================] - 197s 252ms/step - loss: 1.5019 - accuracy: 0.4548 - top-5-accuracy: 0.9120 - val_loss: 1.2427 - val_accuracy: 0.5484 - val_top-5-accuracy: 0.9488\n",
            "Epoch 3/10\n",
            "782/782 [==============================] - 197s 252ms/step - loss: 1.3079 - accuracy: 0.5272 - top-5-accuracy: 0.9399 - val_loss: 1.2001 - val_accuracy: 0.5672 - val_top-5-accuracy: 0.9546\n",
            "Epoch 4/10\n",
            "782/782 [==============================] - 197s 251ms/step - loss: 1.1773 - accuracy: 0.5765 - top-5-accuracy: 0.9524 - val_loss: 0.9842 - val_accuracy: 0.6432 - val_top-5-accuracy: 0.9746\n",
            "Epoch 5/10\n",
            "782/782 [==============================] - 197s 251ms/step - loss: 1.0608 - accuracy: 0.6224 - top-5-accuracy: 0.9627 - val_loss: 0.8904 - val_accuracy: 0.6790 - val_top-5-accuracy: 0.9778\n",
            "Epoch 6/10\n",
            "782/782 [==============================] - 195s 250ms/step - loss: 0.9940 - accuracy: 0.6462 - top-5-accuracy: 0.9679 - val_loss: 0.7998 - val_accuracy: 0.7202 - val_top-5-accuracy: 0.9856\n",
            "Epoch 7/10\n",
            "782/782 [==============================] - 195s 250ms/step - loss: 0.9364 - accuracy: 0.6678 - top-5-accuracy: 0.9710 - val_loss: 0.7868 - val_accuracy: 0.7196 - val_top-5-accuracy: 0.9860\n",
            "Epoch 8/10\n",
            "782/782 [==============================] - 196s 251ms/step - loss: 0.8993 - accuracy: 0.6809 - top-5-accuracy: 0.9737 - val_loss: 0.7414 - val_accuracy: 0.7378 - val_top-5-accuracy: 0.9860\n",
            "Epoch 9/10\n",
            "782/782 [==============================] - 197s 252ms/step - loss: 0.8715 - accuracy: 0.6913 - top-5-accuracy: 0.9758 - val_loss: 0.7172 - val_accuracy: 0.7486 - val_top-5-accuracy: 0.9848\n",
            "Epoch 10/10\n",
            "782/782 [==============================] - 203s 259ms/step - loss: 0.8506 - accuracy: 0.6970 - top-5-accuracy: 0.9767 - val_loss: 0.6863 - val_accuracy: 0.7596 - val_top-5-accuracy: 0.9870\n"
          ]
        }
      ]
    },
    {
      "cell_type": "code",
      "source": [
        "_, accuracy, top_5_accuracy = eanet.evaluate(val_ds) \n",
        "print(f\"Val accuracy: {round(accuracy * 100, 2)}%\")\n",
        "print(f\"Val top 5 accuracy: {round(top_5_accuracy * 100, 2)}%\")"
      ],
      "metadata": {
        "colab": {
          "base_uri": "https://localhost:8080/"
        },
        "id": "E57SSSC42jOn",
        "outputId": "573880ec-b1c5-4e7b-a292-4cfca882fdaf"
      },
      "execution_count": null,
      "outputs": [
        {
          "output_type": "stream",
          "name": "stdout",
          "text": [
            "79/79 [==============================] - 7s 84ms/step - loss: 0.6863 - accuracy: 0.7596 - top-5-accuracy: 0.9870\n",
            "Val accuracy: 75.96%\n",
            "Val top 5 accuracy: 98.7%\n"
          ]
        }
      ]
    },
    {
      "cell_type": "code",
      "source": [
        "## untuk data test(unseen)"
      ],
      "metadata": {
        "id": "dy6GACO_6Buk"
      },
      "execution_count": null,
      "outputs": []
    },
    {
      "cell_type": "code",
      "source": [
        "from sklearn.metrics import accuracy_score, confusion_matrix, classification_report"
      ],
      "metadata": {
        "id": "OiWfcXEB4w_f"
      },
      "execution_count": null,
      "outputs": []
    },
    {
      "cell_type": "code",
      "source": [
        "y_predict = np.argmax(eanet.predict(x_test), axis=1)"
      ],
      "metadata": {
        "id": "JtfhBicQ38yA"
      },
      "execution_count": null,
      "outputs": []
    },
    {
      "cell_type": "code",
      "source": [
        "y_actual = y_test.copy()"
      ],
      "metadata": {
        "id": "nfjheCSc4HOl"
      },
      "execution_count": null,
      "outputs": []
    },
    {
      "cell_type": "code",
      "source": [
        "print(f\"Accuracy score: {accuracy_score(y_actual,y_predict)}\")"
      ],
      "metadata": {
        "colab": {
          "base_uri": "https://localhost:8080/"
        },
        "id": "FjHYgzZS4-qL",
        "outputId": "dd7d4a22-d5a6-4a91-d943-ca524efe7e44"
      },
      "execution_count": null,
      "outputs": [
        {
          "output_type": "stream",
          "name": "stdout",
          "text": [
            "Accuracy score: 0.6965\n"
          ]
        }
      ]
    },
    {
      "cell_type": "code",
      "source": [
        "confusion_matrix(y_actual,y_predict)"
      ],
      "metadata": {
        "colab": {
          "base_uri": "https://localhost:8080/"
        },
        "id": "bTXRbP0H5Zmy",
        "outputId": "5ecfe2ed-0b6c-41a4-ea14-bb3cff8b596a"
      },
      "execution_count": null,
      "outputs": [
        {
          "output_type": "execute_result",
          "data": {
            "text/plain": [
              "array([[725,  31,  25,   3,  10,  14,  10,  29, 117,  36],\n",
              "       [ 38, 774,   8,  10,   2,   5,   4,   9,  31, 119],\n",
              "       [ 67,  12, 533,  39, 125,  41, 100,  59,  16,   8],\n",
              "       [ 26,  10,  52, 390,  53, 275, 115,  44,  19,  16],\n",
              "       [ 25,   3,  54,  31, 640,  40,  98,  95,  10,   4],\n",
              "       [  7,   4,  34,  95,  35, 701,  37,  65,   9,  13],\n",
              "       [  6,   3,  31,  32,  36,  20, 845,   9,  10,   8],\n",
              "       [ 21,   3,  26,  23,  47,  74,  13, 765,   6,  22],\n",
              "       [ 55,  29,  11,  14,   6,   4,   9,   6, 841,  25],\n",
              "       [ 39,  86,   8,   9,   4,   7,  20,  27,  49, 751]])"
            ]
          },
          "metadata": {},
          "execution_count": 59
        }
      ]
    },
    {
      "cell_type": "code",
      "source": [
        "classification_report(y_actual, y_predict)"
      ],
      "metadata": {
        "colab": {
          "base_uri": "https://localhost:8080/",
          "height": 392
        },
        "id": "t1vkChhk7bMB",
        "outputId": "41200d2f-6d40-4186-9379-b899dbc39a15"
      },
      "execution_count": null,
      "outputs": [
        {
          "output_type": "execute_result",
          "data": {
            "application/vnd.google.colaboratory.intrinsic+json": {
              "type": "string"
            },
            "text/plain": [
              "'              precision    recall  f1-score   support\\n\\n           0       0.72      0.72      0.72      1000\\n           1       0.81      0.77      0.79      1000\\n           2       0.68      0.53      0.60      1000\\n           3       0.60      0.39      0.47      1000\\n           4       0.67      0.64      0.65      1000\\n           5       0.59      0.70      0.64      1000\\n           6       0.68      0.84      0.75      1000\\n           7       0.69      0.77      0.73      1000\\n           8       0.76      0.84      0.80      1000\\n           9       0.75      0.75      0.75      1000\\n\\n    accuracy                           0.70     10000\\n   macro avg       0.70      0.70      0.69     10000\\nweighted avg       0.70      0.70      0.69     10000\\n'"
            ]
          },
          "metadata": {},
          "execution_count": 69
        }
      ]
    },
    {
      "cell_type": "code",
      "source": [
        ""
      ],
      "metadata": {
        "id": "SHQk_nisAHGI"
      },
      "execution_count": null,
      "outputs": []
    }
  ]
}